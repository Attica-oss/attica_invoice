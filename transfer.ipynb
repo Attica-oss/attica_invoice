{
 "cells": [
  {
   "cell_type": "markdown",
   "id": "9dd7f383",
   "metadata": {},
   "source": [
    "# Verification and Invoicing"
   ]
  },
  {
   "cell_type": "code",
   "execution_count": 1,
   "id": "5c93ad2e",
   "metadata": {},
   "outputs": [
    {
     "name": "stdout",
     "output_type": "stream",
     "text": [
      "/home/garry-mounac/Dropbox/! OPERATION SUPPORTING DOCUMENTATION/2025/2025 IPHS operation activity.xlsx\n"
     ]
    }
   ],
   "source": [
    "from dataclasses import dataclass\n",
    "from pathlib import Path\n",
    "from datetime import date, time, timedelta\n",
    "import polars as pl\n",
    "\n",
    "from type_casting.dates import DayName\n",
    "\n",
    "\n",
    "@dataclass\n",
    "class DropboxFolder:\n",
    "    base_path: Path = None\n",
    "\n",
    "    def __post_init__(self):\n",
    "        if self.base_path is None:\n",
    "            self.base_path = Path.home() / \"Dropbox\"\n",
    "\n",
    "    @property\n",
    "    def transfer(self):\n",
    "        return (\n",
    "            self.base_path\n",
    "            / \"Container and Transport/Transport Section/Container Movements/Container Transfer.xlsx\"\n",
    "        )\n",
    "\n",
    "    @property\n",
    "    def ops(self):\n",
    "        return (\n",
    "            self.base_path\n",
    "            / \"! OPERATION SUPPORTING DOCUMENTATION/2025/2025 IPHS operation activity.xlsx\"\n",
    "        )\n",
    "\n",
    "    @property\n",
    "    def emr(self):\n",
    "        return (\n",
    "            self.base_path\n",
    "            / \"Container and Transport/Container Section/Storage, PTI and Container Cleaning/IPHS - PTI Wash Records.xlsx\"\n",
    "        )\n",
    "\n",
    "    def get_path(self, relative_path: str):\n",
    "        return self.base_path / relative_path\n",
    "\n",
    "\n",
    "# Usage\n",
    "dropbox = DropboxFolder()\n",
    "print(dropbox.ops)"
   ]
  },
  {
   "cell_type": "markdown",
   "id": "30ed7304",
   "metadata": {},
   "source": [
    "## Operations Activity\n",
    "\n",
    "* Handling"
   ]
  },
  {
   "cell_type": "code",
   "execution_count": 2,
   "id": "4a1843d2",
   "metadata": {},
   "outputs": [
    {
     "data": {
      "text/plain": [
       "Schema([('DAY', String),\n",
       "        ('DATE', Date),\n",
       "        ('VESSEL NAME', String),\n",
       "        ('SHIPOWNER/OPERATOR', String),\n",
       "        ('OPERATION TYPE', String),\n",
       "        ('BRINE (SAUMURE)', Float64),\n",
       "        ('DRY (Below -30°C)', Float64),\n",
       "        ('TOTAL TONNAGE', Float64),\n",
       "        ('Container Brine', Float64),\n",
       "        ('Container Dry', Float64),\n",
       "        ('Transhipment Brine', Float64),\n",
       "        ('Transhipment Dry', Float64),\n",
       "        ('Simple Unloading Brine', Float64),\n",
       "        ('Simple Unloading Dry', Float64),\n",
       "        ('Unloading to CCCS Brine', Float64),\n",
       "        ('Unloading to CCCS Dry', Float64),\n",
       "        ('Additional Stevedores', Int64),\n",
       "        ('Well-to-Well Transfer', Float64),\n",
       "        ('Overtime Tonnage', Float64),\n",
       "        ('Extra Men', Int64),\n",
       "        ('Overtime Value ($)', Float64),\n",
       "        ('INVOICE VALUE ', Float64),\n",
       "        ('Number of Stevedores', Int64),\n",
       "        ('OPEX', Float64),\n",
       "        ('OPEX %', Float64),\n",
       "        ('Comments', String)])"
      ]
     },
     "execution_count": 2,
     "metadata": {},
     "output_type": "execute_result"
    }
   ],
   "source": [
    "handling_activity: pl.LazyFrame = pl.read_excel(\n",
    "    dropbox.ops, sheet_name=\"HANDLING ACTIVITY\"\n",
    ").lazy()\n",
    "\n",
    "handling_activity.collect_schema()"
   ]
  },
  {
   "cell_type": "code",
   "execution_count": 4,
   "id": "23551de9",
   "metadata": {},
   "outputs": [
    {
     "data": {
      "text/html": [
       "<div><style>\n",
       ".dataframe > thead > tr,\n",
       ".dataframe > tbody > tr {\n",
       "  text-align: right;\n",
       "  white-space: pre-wrap;\n",
       "}\n",
       "</style>\n",
       "<small>shape: (462, 5)</small><table border=\"1\" class=\"dataframe\"><thead><tr><th>day</th><th>date</th><th>vessel_name</th><th>customer</th><th>OPERATION TYPE</th></tr><tr><td>enum</td><td>date</td><td>str</td><td>str</td><td>str</td></tr></thead><tbody><tr><td>&quot;Fri&quot;</td><td>2025-01-03</td><td>&quot;ARTZA&quot;</td><td>&quot;ATUNSA NV&quot;</td><td>&quot;Container Stuffing/ Transhipme…</td></tr><tr><td>&quot;Fri&quot;</td><td>2025-01-03</td><td>&quot;ALAKRANA&quot;</td><td>&quot;ECHEBASTAR&quot;</td><td>&quot;Container Stuffing&quot;</td></tr><tr><td>&quot;Sat&quot;</td><td>2025-01-04</td><td>&quot;ATERPE ALAI&quot;</td><td>&quot;ECHEBASTAR&quot;</td><td>&quot;Container Stuffing/ Unloading …</td></tr><tr><td>&quot;Sat&quot;</td><td>2025-01-04</td><td>&quot;ARTZA&quot;</td><td>&quot;ATUNSA NV&quot;</td><td>&quot;Container Stuffing/ Transhipme…</td></tr><tr><td>&quot;Sat&quot;</td><td>2025-01-04</td><td>&quot;ALAKRANA&quot;</td><td>&quot;ECHEBASTAR&quot;</td><td>&quot;Container Stuffing&quot;</td></tr><tr><td>&hellip;</td><td>&hellip;</td><td>&hellip;</td><td>&hellip;</td><td>&hellip;</td></tr><tr><td>&quot;Tue&quot;</td><td>2025-06-24</td><td>&quot;PLAYA DE ANZORAS&quot;</td><td>&quot;BEACH FISHING LIMITED&quot;</td><td>&quot;Transhipment&quot;</td></tr><tr><td>&quot;Wed&quot;</td><td>2025-06-25</td><td>&quot;JAI ALAI&quot;</td><td>&quot;HARTSWATER LIMITED&quot;</td><td>&quot;Transhipment&quot;</td></tr><tr><td>&quot;Wed&quot;</td><td>2025-06-25</td><td>&quot;ELAI ALAI&quot;</td><td>&quot;ECHEBASTAR&quot;</td><td>&quot;Container Stuffing/ Transhipme…</td></tr><tr><td>&quot;Wed&quot;</td><td>2025-06-25</td><td>&quot;BERNICA&quot;</td><td>&quot;SAPMER&quot;</td><td>&quot;Unloading to Quay&quot;</td></tr><tr><td>&quot;Wed&quot;</td><td>2025-06-25</td><td>&quot;TXORI AUNDI&quot;</td><td>&quot;INPESCA FISHING LTD&quot;</td><td>&quot;Unloading to CCCS&quot;</td></tr></tbody></table></div>"
      ],
      "text/plain": [
       "shape: (462, 5)\n",
       "┌──────┬────────────┬──────────────────┬───────────────────────┬─────────────────────────────────┐\n",
       "│ day  ┆ date       ┆ vessel_name      ┆ customer              ┆ OPERATION TYPE                  │\n",
       "│ ---  ┆ ---        ┆ ---              ┆ ---                   ┆ ---                             │\n",
       "│ enum ┆ date       ┆ str              ┆ str                   ┆ str                             │\n",
       "╞══════╪════════════╪══════════════════╪═══════════════════════╪═════════════════════════════════╡\n",
       "│ Fri  ┆ 2025-01-03 ┆ ARTZA            ┆ ATUNSA NV             ┆ Container Stuffing/ Transhipme… │\n",
       "│ Fri  ┆ 2025-01-03 ┆ ALAKRANA         ┆ ECHEBASTAR            ┆ Container Stuffing              │\n",
       "│ Sat  ┆ 2025-01-04 ┆ ATERPE ALAI      ┆ ECHEBASTAR            ┆ Container Stuffing/ Unloading … │\n",
       "│ Sat  ┆ 2025-01-04 ┆ ARTZA            ┆ ATUNSA NV             ┆ Container Stuffing/ Transhipme… │\n",
       "│ Sat  ┆ 2025-01-04 ┆ ALAKRANA         ┆ ECHEBASTAR            ┆ Container Stuffing              │\n",
       "│ …    ┆ …          ┆ …                ┆ …                     ┆ …                               │\n",
       "│ Tue  ┆ 2025-06-24 ┆ PLAYA DE ANZORAS ┆ BEACH FISHING LIMITED ┆ Transhipment                    │\n",
       "│ Wed  ┆ 2025-06-25 ┆ JAI ALAI         ┆ HARTSWATER LIMITED    ┆ Transhipment                    │\n",
       "│ Wed  ┆ 2025-06-25 ┆ ELAI ALAI        ┆ ECHEBASTAR            ┆ Container Stuffing/ Transhipme… │\n",
       "│ Wed  ┆ 2025-06-25 ┆ BERNICA          ┆ SAPMER                ┆ Unloading to Quay               │\n",
       "│ Wed  ┆ 2025-06-25 ┆ TXORI AUNDI      ┆ INPESCA FISHING LTD   ┆ Unloading to CCCS               │\n",
       "└──────┴────────────┴──────────────────┴───────────────────────┴─────────────────────────────────┘"
      ]
     },
     "execution_count": 4,
     "metadata": {},
     "output_type": "execute_result"
    }
   ],
   "source": [
    "pl.read_excel(dropbox.ops, sheet_name=\"HANDLING ACTIVITY\").filter(\n",
    "    pl.col(\"DATE\").is_not_null()\n",
    ").select(pl.col(\"DAY\").cast(DayName).alias(\"day\"), pl.col(\"DATE\").alias(\"date\"),\n",
    "pl.col(\"VESSEL NAME\").alias(\"vessel_name\"),\n",
    "pl.col(\"SHIPOWNER/OPERATOR\").alias(\"customer\"),\n",
    "pl.col(\"OPERATION TYPE\"))"
   ]
  },
  {
   "cell_type": "code",
   "execution_count": 6,
   "id": "d949b519",
   "metadata": {},
   "outputs": [
    {
     "data": {
      "text/html": [
       "<div><style>\n",
       ".dataframe > thead > tr,\n",
       ".dataframe > tbody > tr {\n",
       "  text-align: right;\n",
       "  white-space: pre-wrap;\n",
       "}\n",
       "</style>\n",
       "<small>shape: (171, 17)</small><table border=\"1\" class=\"dataframe\"><thead><tr><th>Month</th><th>VESSEL NAME</th><th>DATE IN</th><th>TIME IN</th><th>DATE OUT</th><th>TIME OUT</th><th>DURATION IN PORT</th><th>VALUE ($)</th><th>Test Column</th><th>DISCOUNT</th><th>INVOICE VALUE</th><th>INVOICING ENTITY</th><th>VESSEL TYPE</th><th>STATUS</th><th>COMMENTS</th><th>Total MTD</th><th>Berth Dues Refund Eligibility</th></tr><tr><td>i64</td><td>str</td><td>date</td><td>datetime[ms]</td><td>date</td><td>datetime[ms]</td><td>i64</td><td>i64</td><td>i64</td><td>i64</td><td>i64</td><td>str</td><td>str</td><td>str</td><td>str</td><td>str</td><td>str</td></tr></thead><tbody><tr><td>1</td><td>&quot;TXORI BAT&quot;</td><td>2025-01-02</td><td>1899-12-31 10:20:00</td><td>2025-01-04</td><td>1899-12-31 16:55:00</td><td>3</td><td>600</td><td>600</td><td>null</td><td>600</td><td>&quot;HARTSWATER LIMITED&quot;</td><td>&quot;SUPPLY BOAT&quot;</td><td>&quot;INVOICED&quot;</td><td>null</td><td>&quot;&quot;</td><td>&quot;N&quot;</td></tr><tr><td>1</td><td>&quot;ARTZA&quot;</td><td>2025-01-02</td><td>1899-12-31 17:26:00</td><td>2025-01-08</td><td>1899-12-31 07:20:00</td><td>6</td><td>8000</td><td>8000</td><td>-1500</td><td>6500</td><td>&quot;ATUNSA NV&quot;</td><td>&quot;FISHING VESSEL&quot;</td><td>&quot;INVOICED&quot;</td><td>&quot;5 days unloading / Last day sh…</td><td>&quot;&quot;</td><td>&quot;Y&quot;</td></tr><tr><td>1</td><td>&quot;ATERPE ALAI&quot;</td><td>2025-01-02</td><td>1899-12-31 18:10:00</td><td>2025-01-05</td><td>1899-12-31 17:00:00</td><td>3</td><td>3750</td><td>3750</td><td>-1250</td><td>2500</td><td>&quot;ECHEBASTAR FLEET SLU&quot;</td><td>&quot;FISHING VESSEL&quot;</td><td>&quot;INVOICED&quot;</td><td>&quot;2 days unloading / First day s…</td><td>&quot;&quot;</td><td>&quot;Y&quot;</td></tr><tr><td>1</td><td>&quot;SIERRA LARA&quot;</td><td>2025-01-02</td><td>1899-12-31 18:34:00</td><td>2025-01-06</td><td>1899-12-31 07:15:00</td><td>4</td><td>1000</td><td>1000</td><td>-100</td><td>900</td><td>&quot;SEAWARD CO. LTD&quot;</td><td>&quot;CARGO REEFER&quot;</td><td>&quot;INVOICED&quot;</td><td>&quot;3 days 2nd line / Last day sho…</td><td>&quot;&quot;</td><td>&quot;N&quot;</td></tr><tr><td>1</td><td>&quot;ALAKRANA&quot;</td><td>2025-01-03</td><td>1899-12-31 11:05:00</td><td>2025-01-10</td><td>1899-12-31 07:06:00</td><td>7</td><td>8750</td><td>8750</td><td>-1250</td><td>7500</td><td>&quot;ECHEBASTAR FLEET SLU&quot;</td><td>&quot;FISHING VESSEL&quot;</td><td>&quot;INVOICED&quot;</td><td>&quot;5 days unloading / 1 day on st…</td><td>&quot;&quot;</td><td>&quot;Y&quot;</td></tr><tr><td>&hellip;</td><td>&hellip;</td><td>&hellip;</td><td>&hellip;</td><td>&hellip;</td><td>&hellip;</td><td>&hellip;</td><td>&hellip;</td><td>&hellip;</td><td>&hellip;</td><td>&hellip;</td><td>&hellip;</td><td>&hellip;</td><td>&hellip;</td><td>&hellip;</td><td>&hellip;</td><td>&hellip;</td></tr><tr><td>6</td><td>&quot;PLAYA DE ANZORAS&quot;</td><td>2025-06-24</td><td>1899-12-31 07:13:00</td><td>2025-06-25</td><td>1899-12-31 06:35:00</td><td>1</td><td>1500</td><td>1500</td><td>null</td><td>1500</td><td>&quot;BEACH FISHING LIMITED&quot;</td><td>&quot;FISHING VESSEL&quot;</td><td>null</td><td>null</td><td>&quot;&quot;</td><td>null</td></tr><tr><td>6</td><td>&quot;BERNICA&quot;</td><td>2025-06-23</td><td>1899-12-31 14:50:00</td><td>null</td><td>null</td><td>null</td><td>0</td><td>0</td><td>null</td><td>0</td><td>&quot;SAPMER&quot;</td><td>&quot;FISHING VESSEL&quot;</td><td>null</td><td>null</td><td>&quot;&quot;</td><td>null</td></tr><tr><td>6</td><td>&quot;JAI ALAI&quot;</td><td>2025-06-23</td><td>1899-12-31 06:54:00</td><td>null</td><td>null</td><td>null</td><td>0</td><td>0</td><td>null</td><td>0</td><td>&quot;HARTSWATER LIMITED&quot;</td><td>&quot;FISHING VESSEL&quot;</td><td>null</td><td>null</td><td>&quot;&quot;</td><td>null</td></tr><tr><td>6</td><td>&quot;AFFINIS&quot;</td><td>2025-06-23</td><td>1899-12-31 07:40:00</td><td>null</td><td>null</td><td>null</td><td>0</td><td>0</td><td>null</td><td>0</td><td>&quot;PRINCESS TUNA&quot;</td><td>&quot;CARGO REEFER&quot;</td><td>null</td><td>null</td><td>&quot;&quot;</td><td>null</td></tr><tr><td>6</td><td>&quot;ELAI ALAI&quot;</td><td>2025-06-24</td><td>1899-12-31 08:22:00</td><td>null</td><td>null</td><td>null</td><td>0</td><td>0</td><td>null</td><td>0</td><td>&quot;ECHEBASTAR FLEET SLU&quot;</td><td>&quot;FISHING VESSEL&quot;</td><td>null</td><td>null</td><td>&quot;&quot;</td><td>null</td></tr></tbody></table></div>"
      ],
      "text/plain": [
       "shape: (171, 17)\n",
       "┌───────┬────────────┬────────────┬────────────┬───┬──────────┬────────────┬───────────┬───────────┐\n",
       "│ Month ┆ VESSEL     ┆ DATE IN    ┆ TIME IN    ┆ … ┆ STATUS   ┆ COMMENTS   ┆ Total MTD ┆ Berth     │\n",
       "│ ---   ┆ NAME       ┆ ---        ┆ ---        ┆   ┆ ---      ┆ ---        ┆ ---       ┆ Dues      │\n",
       "│ i64   ┆ ---        ┆ date       ┆ datetime[m ┆   ┆ str      ┆ str        ┆ str       ┆ Refund    │\n",
       "│       ┆ str        ┆            ┆ s]         ┆   ┆          ┆            ┆           ┆ Eligibili │\n",
       "│       ┆            ┆            ┆            ┆   ┆          ┆            ┆           ┆ ty        │\n",
       "│       ┆            ┆            ┆            ┆   ┆          ┆            ┆           ┆ ---       │\n",
       "│       ┆            ┆            ┆            ┆   ┆          ┆            ┆           ┆ str       │\n",
       "╞═══════╪════════════╪════════════╪════════════╪═══╪══════════╪════════════╪═══════════╪═══════════╡\n",
       "│ 1     ┆ TXORI BAT  ┆ 2025-01-02 ┆ 1899-12-31 ┆ … ┆ INVOICED ┆ null       ┆           ┆ N         │\n",
       "│       ┆            ┆            ┆ 10:20:00   ┆   ┆          ┆            ┆           ┆           │\n",
       "│ 1     ┆ ARTZA      ┆ 2025-01-02 ┆ 1899-12-31 ┆ … ┆ INVOICED ┆ 5 days     ┆           ┆ Y         │\n",
       "│       ┆            ┆            ┆ 17:26:00   ┆   ┆          ┆ unloading  ┆           ┆           │\n",
       "│       ┆            ┆            ┆            ┆   ┆          ┆ / Last day ┆           ┆           │\n",
       "│       ┆            ┆            ┆            ┆   ┆          ┆ sh…        ┆           ┆           │\n",
       "│ 1     ┆ ATERPE     ┆ 2025-01-02 ┆ 1899-12-31 ┆ … ┆ INVOICED ┆ 2 days     ┆           ┆ Y         │\n",
       "│       ┆ ALAI       ┆            ┆ 18:10:00   ┆   ┆          ┆ unloading  ┆           ┆           │\n",
       "│       ┆            ┆            ┆            ┆   ┆          ┆ / First    ┆           ┆           │\n",
       "│       ┆            ┆            ┆            ┆   ┆          ┆ day s…     ┆           ┆           │\n",
       "│ 1     ┆ SIERRA     ┆ 2025-01-02 ┆ 1899-12-31 ┆ … ┆ INVOICED ┆ 3 days 2nd ┆           ┆ N         │\n",
       "│       ┆ LARA       ┆            ┆ 18:34:00   ┆   ┆          ┆ line /     ┆           ┆           │\n",
       "│       ┆            ┆            ┆            ┆   ┆          ┆ Last day   ┆           ┆           │\n",
       "│       ┆            ┆            ┆            ┆   ┆          ┆ sho…       ┆           ┆           │\n",
       "│ 1     ┆ ALAKRANA   ┆ 2025-01-03 ┆ 1899-12-31 ┆ … ┆ INVOICED ┆ 5 days     ┆           ┆ Y         │\n",
       "│       ┆            ┆            ┆ 11:05:00   ┆   ┆          ┆ unloading  ┆           ┆           │\n",
       "│       ┆            ┆            ┆            ┆   ┆          ┆ / 1 day on ┆           ┆           │\n",
       "│       ┆            ┆            ┆            ┆   ┆          ┆ st…        ┆           ┆           │\n",
       "│ …     ┆ …          ┆ …          ┆ …          ┆ … ┆ …        ┆ …          ┆ …         ┆ …         │\n",
       "│ 6     ┆ PLAYA DE   ┆ 2025-06-24 ┆ 1899-12-31 ┆ … ┆ null     ┆ null       ┆           ┆ null      │\n",
       "│       ┆ ANZORAS    ┆            ┆ 07:13:00   ┆   ┆          ┆            ┆           ┆           │\n",
       "│ 6     ┆ BERNICA    ┆ 2025-06-23 ┆ 1899-12-31 ┆ … ┆ null     ┆ null       ┆           ┆ null      │\n",
       "│       ┆            ┆            ┆ 14:50:00   ┆   ┆          ┆            ┆           ┆           │\n",
       "│ 6     ┆ JAI ALAI   ┆ 2025-06-23 ┆ 1899-12-31 ┆ … ┆ null     ┆ null       ┆           ┆ null      │\n",
       "│       ┆            ┆            ┆ 06:54:00   ┆   ┆          ┆            ┆           ┆           │\n",
       "│ 6     ┆ AFFINIS    ┆ 2025-06-23 ┆ 1899-12-31 ┆ … ┆ null     ┆ null       ┆           ┆ null      │\n",
       "│       ┆            ┆            ┆ 07:40:00   ┆   ┆          ┆            ┆           ┆           │\n",
       "│ 6     ┆ ELAI ALAI  ┆ 2025-06-24 ┆ 1899-12-31 ┆ … ┆ null     ┆ null       ┆           ┆ null      │\n",
       "│       ┆            ┆            ┆ 08:22:00   ┆   ┆          ┆            ┆           ┆           │\n",
       "└───────┴────────────┴────────────┴────────────┴───┴──────────┴────────────┴───────────┴───────────┘"
      ]
     },
     "execution_count": 6,
     "metadata": {},
     "output_type": "execute_result"
    }
   ],
   "source": [
    "pl.read_excel(dropbox.ops, sheet_name=\"BERTH DUES IPHS\")"
   ]
  },
  {
   "cell_type": "code",
   "execution_count": 7,
   "id": "6fb6c0b4",
   "metadata": {},
   "outputs": [],
   "source": [
    "transfer_df: pl.LazyFrame = (\n",
    "    pl.read_excel(dropbox.transfer, sheet_name=\"Transfer\")\n",
    "    .lazy()\n",
    "    .select(\n",
    "        pl.col(\"Date\").alias(\"date\"),\n",
    "        pl.col(\"Container Ref. No.\").alias(\"container_number\"),\n",
    "        pl.col(\"Line/Client\").cast(pl.Categorical).alias(\"line\"),\n",
    "        pl.col(\"Movement Type\").alias(\"movement_type\"),\n",
    "        pl.col(\"Driver\").alias(\"driver\"),\n",
    "        pl.col(\"From\").alias(\"origin\"),\n",
    "        pl.col(\"Time out\")\n",
    "        .dt.to_string()\n",
    "        .str.extract(r\"(\\d{2}:\\d{2}:\\d{2})\")\n",
    "        .str.to_time(format=\"%H:%M:%S\")\n",
    "        .alias(\"time_out\"),\n",
    "        pl.col(\"Destination\").alias(\"destination\"),\n",
    "        pl.col(\"Time in\")\n",
    "        .dt.to_string()\n",
    "        .str.extract(r\"(\\d{2}:\\d{2}:\\d{2})\")\n",
    "        .str.to_time(format=\"%H:%M:%S\")\n",
    "        .alias(\"time_in\"),\n",
    "        pl.col(\"Status\").alias(\"status\"),\n",
    "        pl.col(\"Type\").alias(\"type\"),\n",
    "        pl.col(\"Size\").alias(\"size\"),\n",
    "        pl.col(\"Remarks\").alias(\"remarks\"),\n",
    "    )\n",
    ")"
   ]
  },
  {
   "cell_type": "code",
   "execution_count": 8,
   "id": "f588c5ad",
   "metadata": {},
   "outputs": [
    {
     "data": {
      "text/html": [
       "<div><style>\n",
       ".dataframe > thead > tr,\n",
       ".dataframe > tbody > tr {\n",
       "  text-align: right;\n",
       "  white-space: pre-wrap;\n",
       "}\n",
       "</style>\n",
       "<small>shape: (6_020, 13)</small><table border=\"1\" class=\"dataframe\"><thead><tr><th>date</th><th>container_number</th><th>line</th><th>movement_type</th><th>driver</th><th>origin</th><th>time_out</th><th>destination</th><th>time_in</th><th>status</th><th>type</th><th>size</th><th>remarks</th></tr><tr><td>date</td><td>str</td><td>cat</td><td>str</td><td>str</td><td>str</td><td>time</td><td>str</td><td>time</td><td>str</td><td>str</td><td>str</td><td>str</td></tr></thead><tbody><tr><td>2024-08-09</td><td>&quot;MSFU0002762&quot;</td><td>&quot;MAERSK&quot;</td><td>&quot;Collection&quot;</td><td>&quot;Paul&quot;</td><td>&quot;LML&quot;</td><td>10:15:00</td><td>&quot;IPHS&quot;</td><td>10:30:00</td><td>&quot;Empty&quot;</td><td>&quot;Reefer&quot;</td><td>&quot;40&#x27;&quot;</td><td>&quot;Maersk Depot&quot;</td></tr><tr><td>2024-11-23</td><td>&quot;MNBU0298795&quot;</td><td>&quot;MAERSK&quot;</td><td>&quot;Collection&quot;</td><td>&quot;Hubert J&quot;</td><td>&quot;LML&quot;</td><td>09:16:00</td><td>&quot;IPHS&quot;</td><td>09:26:00</td><td>&quot;Empty&quot;</td><td>&quot;Reefer&quot;</td><td>&quot;40&#x27;&quot;</td><td>&quot;Maersk Depot&quot;</td></tr><tr><td>2024-11-29</td><td>&quot;TRIU8055553&quot;</td><td>&quot;CMA CGM&quot;</td><td>&quot;Collection&quot;</td><td>&quot;Hunt Deltel (IPHS)&quot;</td><td>&quot;LML&quot;</td><td>09:44:00</td><td>&quot;IPHS&quot;</td><td>09:54:00</td><td>&quot;Empty&quot;</td><td>&quot;Reefer&quot;</td><td>&quot;40&#x27;&quot;</td><td>&quot;CMA CGM Depot&quot;</td></tr><tr><td>2024-12-01</td><td>&quot;MMAU1016557&quot;</td><td>&quot;MAERSK&quot;</td><td>&quot;Collection&quot;</td><td>&quot;Land Marine (IPHS)&quot;</td><td>&quot;LML&quot;</td><td>21:20:00</td><td>&quot;IPHS&quot;</td><td>21:29:00</td><td>&quot;Empty&quot;</td><td>&quot;Reefer&quot;</td><td>&quot;40&#x27;&quot;</td><td>&quot;Maersk Depot&quot;</td></tr><tr><td>2024-12-01</td><td>&quot;MMAU1031340&quot;</td><td>&quot;MAERSK&quot;</td><td>&quot;Collection&quot;</td><td>&quot;Land Marine (IPHS)&quot;</td><td>&quot;LML&quot;</td><td>20:00:00</td><td>&quot;IPHS&quot;</td><td>20:11:00</td><td>&quot;Empty&quot;</td><td>&quot;Reefer&quot;</td><td>&quot;40&#x27;&quot;</td><td>&quot;Maersk Depot&quot;</td></tr><tr><td>&hellip;</td><td>&hellip;</td><td>&hellip;</td><td>&hellip;</td><td>&hellip;</td><td>&hellip;</td><td>&hellip;</td><td>&hellip;</td><td>&hellip;</td><td>&hellip;</td><td>&hellip;</td><td>&hellip;</td><td>&hellip;</td></tr><tr><td>2025-06-26</td><td>&quot;MNBU3302380&quot;</td><td>&quot;MAERSK&quot;</td><td>&quot;Collection&quot;</td><td>&quot;Paul&quot;</td><td>&quot;LML&quot;</td><td>10:04:00</td><td>&quot;IPHS&quot;</td><td>10:14:00</td><td>&quot;Empty&quot;</td><td>&quot;Reefer&quot;</td><td>&quot;40&#x27;&quot;</td><td>&quot;Maersk Depot&quot;</td></tr><tr><td>2025-06-26</td><td>&quot;SUDU8210281&quot;</td><td>&quot;MAERSK&quot;</td><td>&quot;Collection&quot;</td><td>&quot;Paul&quot;</td><td>&quot;LML&quot;</td><td>11:38:00</td><td>&quot;IPHS&quot;</td><td>11:48:00</td><td>&quot;Empty&quot;</td><td>&quot;Reefer&quot;</td><td>&quot;40&#x27;&quot;</td><td>&quot;Maersk Depot&quot;</td></tr><tr><td>2025-06-26</td><td>&quot;MNBU4340126&quot;</td><td>&quot;MAERSK&quot;</td><td>&quot;Collection&quot;</td><td>&quot;Paul&quot;</td><td>&quot;LML&quot;</td><td>13:25:00</td><td>&quot;IPHS&quot;</td><td>13:37:00</td><td>&quot;Empty&quot;</td><td>&quot;Reefer&quot;</td><td>&quot;40&#x27;&quot;</td><td>&quot;Maersk Depot&quot;</td></tr><tr><td>2025-06-26</td><td>&quot;MNBU9123231&quot;</td><td>&quot;MAERSK&quot;</td><td>&quot;Collection&quot;</td><td>&quot;Paul&quot;</td><td>&quot;LML&quot;</td><td>13:50:00</td><td>&quot;IPHS&quot;</td><td>14:06:00</td><td>&quot;Empty&quot;</td><td>&quot;Reefer&quot;</td><td>&quot;40&#x27;&quot;</td><td>&quot;Maersk Depot&quot;</td></tr><tr><td>2025-06-26</td><td>&quot;MNBU4073523&quot;</td><td>&quot;MAERSK&quot;</td><td>&quot;Collection&quot;</td><td>&quot;Paul&quot;</td><td>&quot;LML&quot;</td><td>14:45:00</td><td>&quot;IPHS&quot;</td><td>14:54:00</td><td>&quot;Empty&quot;</td><td>&quot;Reefer&quot;</td><td>&quot;40&#x27;&quot;</td><td>&quot;Maersk Depot&quot;</td></tr></tbody></table></div>"
      ],
      "text/plain": [
       "shape: (6_020, 13)\n",
       "┌────────────┬───────────────┬─────────┬───────────────┬───┬────────┬────────┬──────┬──────────────┐\n",
       "│ date       ┆ container_num ┆ line    ┆ movement_type ┆ … ┆ status ┆ type   ┆ size ┆ remarks      │\n",
       "│ ---        ┆ ber           ┆ ---     ┆ ---           ┆   ┆ ---    ┆ ---    ┆ ---  ┆ ---          │\n",
       "│ date       ┆ ---           ┆ cat     ┆ str           ┆   ┆ str    ┆ str    ┆ str  ┆ str          │\n",
       "│            ┆ str           ┆         ┆               ┆   ┆        ┆        ┆      ┆              │\n",
       "╞════════════╪═══════════════╪═════════╪═══════════════╪═══╪════════╪════════╪══════╪══════════════╡\n",
       "│ 2024-08-09 ┆ MSFU0002762   ┆ MAERSK  ┆ Collection    ┆ … ┆ Empty  ┆ Reefer ┆ 40'  ┆ Maersk Depot │\n",
       "│ 2024-11-23 ┆ MNBU0298795   ┆ MAERSK  ┆ Collection    ┆ … ┆ Empty  ┆ Reefer ┆ 40'  ┆ Maersk Depot │\n",
       "│ 2024-11-29 ┆ TRIU8055553   ┆ CMA CGM ┆ Collection    ┆ … ┆ Empty  ┆ Reefer ┆ 40'  ┆ CMA CGM      │\n",
       "│            ┆               ┆         ┆               ┆   ┆        ┆        ┆      ┆ Depot        │\n",
       "│ 2024-12-01 ┆ MMAU1016557   ┆ MAERSK  ┆ Collection    ┆ … ┆ Empty  ┆ Reefer ┆ 40'  ┆ Maersk Depot │\n",
       "│ 2024-12-01 ┆ MMAU1031340   ┆ MAERSK  ┆ Collection    ┆ … ┆ Empty  ┆ Reefer ┆ 40'  ┆ Maersk Depot │\n",
       "│ …          ┆ …             ┆ …       ┆ …             ┆ … ┆ …      ┆ …      ┆ …    ┆ …            │\n",
       "│ 2025-06-26 ┆ MNBU3302380   ┆ MAERSK  ┆ Collection    ┆ … ┆ Empty  ┆ Reefer ┆ 40'  ┆ Maersk Depot │\n",
       "│ 2025-06-26 ┆ SUDU8210281   ┆ MAERSK  ┆ Collection    ┆ … ┆ Empty  ┆ Reefer ┆ 40'  ┆ Maersk Depot │\n",
       "│ 2025-06-26 ┆ MNBU4340126   ┆ MAERSK  ┆ Collection    ┆ … ┆ Empty  ┆ Reefer ┆ 40'  ┆ Maersk Depot │\n",
       "│ 2025-06-26 ┆ MNBU9123231   ┆ MAERSK  ┆ Collection    ┆ … ┆ Empty  ┆ Reefer ┆ 40'  ┆ Maersk Depot │\n",
       "│ 2025-06-26 ┆ MNBU4073523   ┆ MAERSK  ┆ Collection    ┆ … ┆ Empty  ┆ Reefer ┆ 40'  ┆ Maersk Depot │\n",
       "└────────────┴───────────────┴─────────┴───────────────┴───┴────────┴────────┴──────┴──────────────┘"
      ]
     },
     "execution_count": 8,
     "metadata": {},
     "output_type": "execute_result"
    }
   ],
   "source": [
    "transfer_df.collect()"
   ]
  },
  {
   "cell_type": "code",
   "execution_count": 9,
   "id": "7b40698a",
   "metadata": {},
   "outputs": [],
   "source": [
    "transfer_with_duration = transfer_df.with_columns(\n",
    "    duration=pl.when(\n",
    "        # Check if time_in is between midnight and 7:59 AM\n",
    "        # AND time_out is later in the day (crossing midnight)\n",
    "        (pl.col(\"time_in\").is_between(time(0, 0, 0), time(7, 59, 59)))\n",
    "        .and_(pl.col(\"time_out\").is_between(time(8, 0, 0), time(23, 59, 59)))\n",
    "        .and_(pl.col(\"time_in\").lt(pl.col(\"time_out\")))\n",
    "    )\n",
    "    .then(\n",
    "        # Add one day to time_in when crossing midnight\n",
    "        (pl.col(\"date\") + pl.duration(days=1)).dt.combine(pl.col(\"time_in\"))\n",
    "        - pl.col(\"date\").dt.combine(pl.col(\"time_out\"))\n",
    "    )\n",
    "    .otherwise(\n",
    "        # Normal case: same day calculation\n",
    "        pl.col(\"date\").dt.combine(pl.col(\"time_in\"))\n",
    "        - pl.col(\"date\").dt.combine(pl.col(\"time_out\"))\n",
    "    )\n",
    ").collect()"
   ]
  },
  {
   "cell_type": "code",
   "execution_count": null,
   "id": "8833499d",
   "metadata": {},
   "outputs": [
    {
     "ename": "ColumnNotFoundError",
     "evalue": "-\n\nResolved plan until failure:\n\n\t---> FAILED HERE RESOLVING 'sink' <---\nDF [\"date\", \"container_number\", \"line\", \"movement_type\", ...]; PROJECT */16 COLUMNS",
     "output_type": "error",
     "traceback": [
      "\u001b[31m---------------------------------------------------------------------------\u001b[39m",
      "\u001b[31mColumnNotFoundError\u001b[39m                       Traceback (most recent call last)",
      "\u001b[36mCell\u001b[39m\u001b[36m \u001b[39m\u001b[32mIn[18]\u001b[39m\u001b[32m, line 4\u001b[39m\n\u001b[32m      1\u001b[39m \u001b[43mtransfer_with_duration\u001b[49m\u001b[43m.\u001b[49m\u001b[43mfilter\u001b[49m\u001b[43m(\u001b[49m\u001b[43mpl\u001b[49m\u001b[43m.\u001b[49m\u001b[43mcol\u001b[49m\u001b[43m(\u001b[49m\u001b[33;43m\"\u001b[39;49m\u001b[33;43mduration\u001b[39;49m\u001b[33;43m\"\u001b[39;49m\u001b[43m)\u001b[49m\u001b[43m.\u001b[49m\u001b[43mlt\u001b[49m\u001b[43m(\u001b[49m\u001b[43mpl\u001b[49m\u001b[43m.\u001b[49m\u001b[43mduration\u001b[49m\u001b[43m(\u001b[49m\u001b[43m)\u001b[49m\u001b[43m)\u001b[49m\u001b[43m)\u001b[49m\u001b[43m.\u001b[49m\u001b[43mwith_columns\u001b[49m\u001b[43m(\u001b[49m\u001b[43m[\u001b[49m\n\u001b[32m      2\u001b[39m \u001b[43m    \u001b[49m\u001b[43mpl\u001b[49m\u001b[43m.\u001b[49m\u001b[43mcol\u001b[49m\u001b[43m(\u001b[49m\u001b[33;43m\"\u001b[39;49m\u001b[33;43mduration\u001b[39;49m\u001b[33;43m\"\u001b[39;49m\u001b[43m)\u001b[49m\u001b[43m.\u001b[49m\u001b[43mdt\u001b[49m\u001b[43m.\u001b[49m\u001b[43mtotal_seconds\u001b[49m\u001b[43m(\u001b[49m\u001b[43m)\u001b[49m\u001b[43m.\u001b[49m\u001b[43mabs\u001b[49m\u001b[43m(\u001b[49m\u001b[43m)\u001b[49m\u001b[43m.\u001b[49m\u001b[43malias\u001b[49m\u001b[43m(\u001b[49m\u001b[33;43m\"\u001b[39;49m\u001b[33;43mabs_seconds\u001b[39;49m\u001b[33;43m\"\u001b[39;49m\u001b[43m)\u001b[49m\u001b[43m,\u001b[49m\n\u001b[32m      3\u001b[39m \u001b[43m    \u001b[49m\u001b[43m(\u001b[49m\u001b[43mpl\u001b[49m\u001b[43m.\u001b[49m\u001b[43mcol\u001b[49m\u001b[43m(\u001b[49m\u001b[33;43m\"\u001b[39;49m\u001b[33;43mduration\u001b[39;49m\u001b[33;43m\"\u001b[39;49m\u001b[43m)\u001b[49m\u001b[43m.\u001b[49m\u001b[43mdt\u001b[49m\u001b[43m.\u001b[49m\u001b[43mtotal_seconds\u001b[49m\u001b[43m(\u001b[49m\u001b[43m)\u001b[49m\u001b[43m \u001b[49m\u001b[43m<\u001b[49m\u001b[43m \u001b[49m\u001b[32;43m0\u001b[39;49m\u001b[43m)\u001b[49m\u001b[43m.\u001b[49m\u001b[43malias\u001b[49m\u001b[43m(\u001b[49m\u001b[33;43m\"\u001b[39;49m\u001b[33;43mis_negative\u001b[39;49m\u001b[33;43m\"\u001b[39;49m\u001b[43m)\u001b[49m\n\u001b[32m----> \u001b[39m\u001b[32m4\u001b[39m \u001b[43m]\u001b[49m\u001b[43m)\u001b[49m\u001b[43m.\u001b[49m\u001b[43mselect\u001b[49m\u001b[43m(\u001b[49m\n\u001b[32m      5\u001b[39m \u001b[43m    \u001b[49m\u001b[43mpl\u001b[49m\u001b[43m.\u001b[49m\u001b[43mcol\u001b[49m\u001b[43m(\u001b[49m\u001b[33;43m\"\u001b[39;49m\u001b[33;43mdate\u001b[39;49m\u001b[33;43m\"\u001b[39;49m\u001b[43m)\u001b[49m\u001b[43m,\u001b[49m\n\u001b[32m      6\u001b[39m \u001b[43m    \u001b[49m\u001b[43mpl\u001b[49m\u001b[43m.\u001b[49m\u001b[43mcol\u001b[49m\u001b[43m(\u001b[49m\u001b[33;43m\"\u001b[39;49m\u001b[33;43mcontainer_number\u001b[39;49m\u001b[33;43m\"\u001b[39;49m\u001b[43m)\u001b[49m\u001b[43m,\u001b[49m\n\u001b[32m      7\u001b[39m \u001b[43m    \u001b[49m\u001b[43mpl\u001b[49m\u001b[43m.\u001b[49m\u001b[43mcol\u001b[49m\u001b[43m(\u001b[49m\u001b[33;43m\"\u001b[39;49m\u001b[33;43mmovement_type\u001b[39;49m\u001b[33;43m\"\u001b[39;49m\u001b[43m)\u001b[49m\u001b[43m,\u001b[49m\n\u001b[32m      8\u001b[39m \u001b[43m    \u001b[49m\u001b[43mpl\u001b[49m\u001b[43m.\u001b[49m\u001b[43mcol\u001b[49m\u001b[43m(\u001b[49m\u001b[33;43m\"\u001b[39;49m\u001b[33;43mdriver\u001b[39;49m\u001b[33;43m\"\u001b[39;49m\u001b[43m)\u001b[49m\u001b[43m,\u001b[49m\n\u001b[32m      9\u001b[39m \u001b[43m    \u001b[49m\u001b[43m(\u001b[49m\n\u001b[32m     10\u001b[39m \u001b[43m        \u001b[49m\u001b[43mpl\u001b[49m\u001b[43m.\u001b[49m\u001b[43mwhen\u001b[49m\u001b[43m(\u001b[49m\u001b[43mpl\u001b[49m\u001b[43m.\u001b[49m\u001b[43mcol\u001b[49m\u001b[43m(\u001b[49m\u001b[33;43m\"\u001b[39;49m\u001b[33;43mis_negative\u001b[39;49m\u001b[33;43m\"\u001b[39;49m\u001b[43m)\u001b[49m\u001b[43m)\u001b[49m\u001b[43m.\u001b[49m\u001b[43mthen\u001b[49m\u001b[43m(\u001b[49m\u001b[33;43m\"\u001b[39;49m\u001b[33;43m-\u001b[39;49m\u001b[33;43m\"\u001b[39;49m\u001b[43m)\u001b[49m\u001b[43m.\u001b[49m\u001b[43motherwise\u001b[49m\u001b[43m(\u001b[49m\u001b[33;43m\"\u001b[39;49m\u001b[33;43m\"\u001b[39;49m\u001b[43m)\u001b[49m\u001b[43m \u001b[49m\u001b[43m+\u001b[49m\n\u001b[32m     11\u001b[39m \u001b[43m        \u001b[49m\u001b[43m(\u001b[49m\u001b[43mpl\u001b[49m\u001b[43m.\u001b[49m\u001b[43mcol\u001b[49m\u001b[43m(\u001b[49m\u001b[33;43m\"\u001b[39;49m\u001b[33;43mabs_seconds\u001b[39;49m\u001b[33;43m\"\u001b[39;49m\u001b[43m)\u001b[49m\u001b[43m \u001b[49m\u001b[43m/\u001b[49m\u001b[43m/\u001b[49m\u001b[43m \u001b[49m\u001b[32;43m3600\u001b[39;49m\u001b[43m)\u001b[49m\u001b[43m.\u001b[49m\u001b[43mcast\u001b[49m\u001b[43m(\u001b[49m\u001b[43mpl\u001b[49m\u001b[43m.\u001b[49m\u001b[43mInt32\u001b[49m\u001b[43m)\u001b[49m\u001b[43m.\u001b[49m\u001b[43mcast\u001b[49m\u001b[43m(\u001b[49m\u001b[43mpl\u001b[49m\u001b[43m.\u001b[49m\u001b[43mString\u001b[49m\u001b[43m)\u001b[49m\u001b[43m \u001b[49m\u001b[43m+\u001b[49m\n\u001b[32m     12\u001b[39m \u001b[43m        \u001b[49m\u001b[33;43m\"\u001b[39;49m\u001b[33;43m:\u001b[39;49m\u001b[33;43m\"\u001b[39;49m\u001b[43m \u001b[49m\u001b[43m+\u001b[49m\n\u001b[32m     13\u001b[39m \u001b[43m        \u001b[49m\u001b[43m(\u001b[49m\u001b[43m(\u001b[49m\u001b[43mpl\u001b[49m\u001b[43m.\u001b[49m\u001b[43mcol\u001b[49m\u001b[43m(\u001b[49m\u001b[33;43m\"\u001b[39;49m\u001b[33;43mabs_seconds\u001b[39;49m\u001b[33;43m\"\u001b[39;49m\u001b[43m)\u001b[49m\u001b[43m \u001b[49m\u001b[43m%\u001b[49m\u001b[43m \u001b[49m\u001b[32;43m3600\u001b[39;49m\u001b[43m)\u001b[49m\u001b[43m \u001b[49m\u001b[43m/\u001b[49m\u001b[43m/\u001b[49m\u001b[43m \u001b[49m\u001b[32;43m60\u001b[39;49m\u001b[43m)\u001b[49m\u001b[43m.\u001b[49m\u001b[43mcast\u001b[49m\u001b[43m(\u001b[49m\u001b[43mpl\u001b[49m\u001b[43m.\u001b[49m\u001b[43mInt32\u001b[49m\u001b[43m)\u001b[49m\u001b[43m.\u001b[49m\u001b[43mcast\u001b[49m\u001b[43m(\u001b[49m\u001b[43mpl\u001b[49m\u001b[43m.\u001b[49m\u001b[43mString\u001b[49m\u001b[43m)\u001b[49m\u001b[43m.\u001b[49m\u001b[43mstr\u001b[49m\u001b[43m.\u001b[49m\u001b[43mpad_start\u001b[49m\u001b[43m(\u001b[49m\u001b[32;43m2\u001b[39;49m\u001b[43m,\u001b[49m\u001b[43m \u001b[49m\u001b[33;43m\"\u001b[39;49m\u001b[33;43m0\u001b[39;49m\u001b[33;43m\"\u001b[39;49m\u001b[43m)\u001b[49m\n\u001b[32m     14\u001b[39m \u001b[43m    \u001b[49m\u001b[43m)\u001b[49m\u001b[43m.\u001b[49m\u001b[43malias\u001b[49m\u001b[43m(\u001b[49m\u001b[33;43m\"\u001b[39;49m\u001b[33;43mduration\u001b[39;49m\u001b[33;43m\"\u001b[39;49m\u001b[43m)\u001b[49m\n\u001b[32m     15\u001b[39m \u001b[43m)\u001b[49m\n",
      "\u001b[36mFile \u001b[39m\u001b[32m~/attica_invoice/attica_invoice/.venv/lib/python3.12/site-packages/polars/dataframe/frame.py:9632\u001b[39m, in \u001b[36mDataFrame.select\u001b[39m\u001b[34m(self, *exprs, **named_exprs)\u001b[39m\n\u001b[32m   9532\u001b[39m \u001b[38;5;28;01mdef\u001b[39;00m\u001b[38;5;250m \u001b[39m\u001b[34mselect\u001b[39m(\n\u001b[32m   9533\u001b[39m     \u001b[38;5;28mself\u001b[39m, *exprs: IntoExpr | Iterable[IntoExpr], **named_exprs: IntoExpr\n\u001b[32m   9534\u001b[39m ) -> DataFrame:\n\u001b[32m   9535\u001b[39m \u001b[38;5;250m    \u001b[39m\u001b[33;03m\"\"\"\u001b[39;00m\n\u001b[32m   9536\u001b[39m \u001b[33;03m    Select columns from this DataFrame.\u001b[39;00m\n\u001b[32m   9537\u001b[39m \n\u001b[32m   (...)\u001b[39m\u001b[32m   9630\u001b[39m \u001b[33;03m    └──────────────┘\u001b[39;00m\n\u001b[32m   9631\u001b[39m \u001b[33;03m    \"\"\"\u001b[39;00m\n\u001b[32m-> \u001b[39m\u001b[32m9632\u001b[39m     \u001b[38;5;28;01mreturn\u001b[39;00m \u001b[38;5;28;43mself\u001b[39;49m\u001b[43m.\u001b[49m\u001b[43mlazy\u001b[49m\u001b[43m(\u001b[49m\u001b[43m)\u001b[49m\u001b[43m.\u001b[49m\u001b[43mselect\u001b[49m\u001b[43m(\u001b[49m\u001b[43m*\u001b[49m\u001b[43mexprs\u001b[49m\u001b[43m,\u001b[49m\u001b[43m \u001b[49m\u001b[43m*\u001b[49m\u001b[43m*\u001b[49m\u001b[43mnamed_exprs\u001b[49m\u001b[43m)\u001b[49m\u001b[43m.\u001b[49m\u001b[43mcollect\u001b[49m\u001b[43m(\u001b[49m\u001b[43m_eager\u001b[49m\u001b[43m=\u001b[49m\u001b[38;5;28;43;01mTrue\u001b[39;49;00m\u001b[43m)\u001b[49m\n",
      "\u001b[36mFile \u001b[39m\u001b[32m~/attica_invoice/attica_invoice/.venv/lib/python3.12/site-packages/polars/_utils/deprecation.py:88\u001b[39m, in \u001b[36mdeprecate_streaming_parameter.<locals>.decorate.<locals>.wrapper\u001b[39m\u001b[34m(*args, **kwargs)\u001b[39m\n\u001b[32m     85\u001b[39m     \u001b[38;5;28;01mdel\u001b[39;00m kwargs[\u001b[33m\"\u001b[39m\u001b[33mstreaming\u001b[39m\u001b[33m\"\u001b[39m]\n\u001b[32m     86\u001b[39m     kwargs[\u001b[33m\"\u001b[39m\u001b[33mengine\u001b[39m\u001b[33m\"\u001b[39m] = \u001b[33m\"\u001b[39m\u001b[33mold-streaming\u001b[39m\u001b[33m\"\u001b[39m\n\u001b[32m---> \u001b[39m\u001b[32m88\u001b[39m \u001b[38;5;28;01mreturn\u001b[39;00m \u001b[43mfunction\u001b[49m\u001b[43m(\u001b[49m\u001b[43m*\u001b[49m\u001b[43margs\u001b[49m\u001b[43m,\u001b[49m\u001b[43m \u001b[49m\u001b[43m*\u001b[49m\u001b[43m*\u001b[49m\u001b[43mkwargs\u001b[49m\u001b[43m)\u001b[49m\n",
      "\u001b[36mFile \u001b[39m\u001b[32m~/attica_invoice/attica_invoice/.venv/lib/python3.12/site-packages/polars/lazyframe/frame.py:2188\u001b[39m, in \u001b[36mLazyFrame.collect\u001b[39m\u001b[34m(self, type_coercion, _type_check, predicate_pushdown, projection_pushdown, simplify_expression, slice_pushdown, comm_subplan_elim, comm_subexpr_elim, cluster_with_columns, collapse_joins, no_optimization, engine, background, _check_order, _eager, **_kwargs)\u001b[39m\n\u001b[32m   2186\u001b[39m \u001b[38;5;66;03m# Only for testing purposes\u001b[39;00m\n\u001b[32m   2187\u001b[39m callback = _kwargs.get(\u001b[33m\"\u001b[39m\u001b[33mpost_opt_callback\u001b[39m\u001b[33m\"\u001b[39m, callback)\n\u001b[32m-> \u001b[39m\u001b[32m2188\u001b[39m \u001b[38;5;28;01mreturn\u001b[39;00m wrap_df(\u001b[43mldf\u001b[49m\u001b[43m.\u001b[49m\u001b[43mcollect\u001b[49m\u001b[43m(\u001b[49m\u001b[43mengine\u001b[49m\u001b[43m,\u001b[49m\u001b[43m \u001b[49m\u001b[43mcallback\u001b[49m\u001b[43m)\u001b[49m)\n",
      "\u001b[31mColumnNotFoundError\u001b[39m: -\n\nResolved plan until failure:\n\n\t---> FAILED HERE RESOLVING 'sink' <---\nDF [\"date\", \"container_number\", \"line\", \"movement_type\", ...]; PROJECT */16 COLUMNS"
     ]
    }
   ],
   "source": [
    "transfer_with_duration.filter(pl.col(\"duration\").lt(pl.duration())).with_columns([\n",
    "    pl.col(\"duration\").dt.total_seconds().abs().alias(\"abs_seconds\"),\n",
    "    (pl.col(\"duration\").dt.total_seconds() < 0).alias(\"is_negative\")\n",
    "]).select(\n",
    "    pl.col(\"date\"),\n",
    "    pl.col(\"container_number\"),\n",
    "    pl.col(\"movement_type\"),\n",
    "    pl.col(\"driver\"),\n",
    "    (\n",
    "        pl.when(pl.col(\"is_negative\")).then(pl.lit(\"-\")).otherwise(pl.lit(\"\")) +\n",
    "        (pl.col(\"abs_seconds\") // 3600).cast(pl.Int32).cast(pl.String) +\n",
    "        \":\" +\n",
    "        ((pl.col(\"abs_seconds\") % 3600) // 60).cast(pl.Int32).cast(pl.String).str.pad_start(2, \"0\")\n",
    "    ).alias(\"duration\")\n",
    ")"
   ]
  },
  {
   "cell_type": "code",
   "execution_count": 17,
   "id": "15f8ff6e",
   "metadata": {},
   "outputs": [
    {
     "name": "stdout",
     "output_type": "stream",
     "text": [
      "Negative Duration\n"
     ]
    },
    {
     "ename": "ValueError",
     "evalue": "number of placeholders should equal the number of arguments",
     "output_type": "error",
     "traceback": [
      "\u001b[31m---------------------------------------------------------------------------\u001b[39m",
      "\u001b[31mValueError\u001b[39m                                Traceback (most recent call last)",
      "\u001b[36mCell\u001b[39m\u001b[36m \u001b[39m\u001b[32mIn[17]\u001b[39m\u001b[32m, line 10\u001b[39m\n\u001b[32m      1\u001b[39m \u001b[38;5;28mprint\u001b[39m(\u001b[33m\"\u001b[39m\u001b[33mNegative Duration\u001b[39m\u001b[33m\"\u001b[39m)\n\u001b[32m      3\u001b[39m transfer_with_duration.filter(pl.col(\u001b[33m\"\u001b[39m\u001b[33mduration\u001b[39m\u001b[33m\"\u001b[39m).lt(pl.duration())).select(\n\u001b[32m      4\u001b[39m     pl.col(\u001b[33m\"\u001b[39m\u001b[33mdate\u001b[39m\u001b[33m\"\u001b[39m),\n\u001b[32m      5\u001b[39m     pl.col(\u001b[33m\"\u001b[39m\u001b[33mcontainer_number\u001b[39m\u001b[33m\"\u001b[39m),\n\u001b[32m      6\u001b[39m     pl.col(\u001b[33m\"\u001b[39m\u001b[33mmovement_type\u001b[39m\u001b[33m\"\u001b[39m),\n\u001b[32m      7\u001b[39m     pl.col(\u001b[33m\"\u001b[39m\u001b[33mdriver\u001b[39m\u001b[33m\"\u001b[39m),\n\u001b[32m      8\u001b[39m (\n\u001b[32m      9\u001b[39m         pl.when(pl.col(\u001b[33m\"\u001b[39m\u001b[33mduration\u001b[39m\u001b[33m\"\u001b[39m).dt.total_seconds() < \u001b[32m0\u001b[39m).then(\u001b[33m\"\u001b[39m\u001b[33m-\u001b[39m\u001b[33m\"\u001b[39m).otherwise(\u001b[33m\"\u001b[39m\u001b[33m\"\u001b[39m) +\n\u001b[32m---> \u001b[39m\u001b[32m10\u001b[39m         \u001b[43mpl\u001b[49m\u001b[43m.\u001b[49m\u001b[43mformat\u001b[49m\u001b[43m(\u001b[49m\n\u001b[32m     11\u001b[39m \u001b[43m            \u001b[49m\u001b[33;43m\"\u001b[39;49m\u001b[38;5;132;43;01m{}\u001b[39;49;00m\u001b[33;43m:\u001b[39;49m\u001b[38;5;132;43;01m{:02d}\u001b[39;49;00m\u001b[33;43m\"\u001b[39;49m\u001b[43m,\u001b[49m\n\u001b[32m     12\u001b[39m \u001b[43m            \u001b[49m\u001b[43m(\u001b[49m\u001b[43mpl\u001b[49m\u001b[43m.\u001b[49m\u001b[43mcol\u001b[49m\u001b[43m(\u001b[49m\u001b[33;43m\"\u001b[39;49m\u001b[33;43mduration\u001b[39;49m\u001b[33;43m\"\u001b[39;49m\u001b[43m)\u001b[49m\u001b[43m.\u001b[49m\u001b[43mdt\u001b[49m\u001b[43m.\u001b[49m\u001b[43mtotal_seconds\u001b[49m\u001b[43m(\u001b[49m\u001b[43m)\u001b[49m\u001b[43m.\u001b[49m\u001b[43mabs\u001b[49m\u001b[43m(\u001b[49m\u001b[43m)\u001b[49m\u001b[43m \u001b[49m\u001b[43m/\u001b[49m\u001b[43m/\u001b[49m\u001b[43m \u001b[49m\u001b[32;43m3600\u001b[39;49m\u001b[43m)\u001b[49m\u001b[43m.\u001b[49m\u001b[43mcast\u001b[49m\u001b[43m(\u001b[49m\u001b[43mpl\u001b[49m\u001b[43m.\u001b[49m\u001b[43mInt32\u001b[49m\u001b[43m)\u001b[49m\u001b[43m,\u001b[49m\n\u001b[32m     13\u001b[39m \u001b[43m            \u001b[49m\u001b[43m(\u001b[49m\u001b[43m(\u001b[49m\u001b[43mpl\u001b[49m\u001b[43m.\u001b[49m\u001b[43mcol\u001b[49m\u001b[43m(\u001b[49m\u001b[33;43m\"\u001b[39;49m\u001b[33;43mduration\u001b[39;49m\u001b[33;43m\"\u001b[39;49m\u001b[43m)\u001b[49m\u001b[43m.\u001b[49m\u001b[43mdt\u001b[49m\u001b[43m.\u001b[49m\u001b[43mtotal_seconds\u001b[49m\u001b[43m(\u001b[49m\u001b[43m)\u001b[49m\u001b[43m.\u001b[49m\u001b[43mabs\u001b[49m\u001b[43m(\u001b[49m\u001b[43m)\u001b[49m\u001b[43m \u001b[49m\u001b[43m%\u001b[49m\u001b[43m \u001b[49m\u001b[32;43m3600\u001b[39;49m\u001b[43m)\u001b[49m\u001b[43m \u001b[49m\u001b[43m/\u001b[49m\u001b[43m/\u001b[49m\u001b[43m \u001b[49m\u001b[32;43m60\u001b[39;49m\u001b[43m)\u001b[49m\u001b[43m.\u001b[49m\u001b[43mcast\u001b[49m\u001b[43m(\u001b[49m\u001b[43mpl\u001b[49m\u001b[43m.\u001b[49m\u001b[43mInt32\u001b[49m\u001b[43m)\u001b[49m\n\u001b[32m     14\u001b[39m \u001b[43m        \u001b[49m\u001b[43m)\u001b[49m\n\u001b[32m     15\u001b[39m     ).alias(\u001b[33m\"\u001b[39m\u001b[33mduration\u001b[39m\u001b[33m\"\u001b[39m)\n\u001b[32m     16\u001b[39m )\n",
      "\u001b[36mFile \u001b[39m\u001b[32m~/attica_invoice/attica_invoice/.venv/lib/python3.12/site-packages/polars/functions/as_datatype.py:838\u001b[39m, in \u001b[36mformat\u001b[39m\u001b[34m(f_string, *args)\u001b[39m\n\u001b[32m    836\u001b[39m \u001b[38;5;28;01mif\u001b[39;00m f_string.count(\u001b[33m\"\u001b[39m\u001b[38;5;132;01m{}\u001b[39;00m\u001b[33m\"\u001b[39m) != \u001b[38;5;28mlen\u001b[39m(args):\n\u001b[32m    837\u001b[39m     msg = \u001b[33m\"\u001b[39m\u001b[33mnumber of placeholders should equal the number of arguments\u001b[39m\u001b[33m\"\u001b[39m\n\u001b[32m--> \u001b[39m\u001b[32m838\u001b[39m     \u001b[38;5;28;01mraise\u001b[39;00m \u001b[38;5;167;01mValueError\u001b[39;00m(msg)\n\u001b[32m    840\u001b[39m exprs = []\n\u001b[32m    842\u001b[39m arguments = \u001b[38;5;28miter\u001b[39m(args)\n",
      "\u001b[31mValueError\u001b[39m: number of placeholders should equal the number of arguments"
     ]
    }
   ],
   "source": [
    "print(\"Negative Duration\")\n",
    "\n",
    "transfer_with_duration.filter(pl.col(\"duration\").lt(pl.duration())).select(\n",
    "    pl.col(\"date\"),\n",
    "    pl.col(\"container_number\"),\n",
    "    pl.col(\"movement_type\"),\n",
    "    pl.col(\"driver\"),\n",
    "(\n",
    "        pl.when(pl.col(\"duration\").dt.total_seconds() < 0).then(\"-\").otherwise(\"\") +\n",
    "        pl.format(\n",
    "            \"{}:{:02d}\",\n",
    "            (pl.col(\"duration\").dt.total_seconds().abs() // 3600).cast(pl.Int32),\n",
    "            ((pl.col(\"duration\").dt.total_seconds().abs() % 3600) // 60).cast(pl.Int32)\n",
    "        )\n",
    "    ).alias(\"duration\")\n",
    ")\n"
   ]
  },
  {
   "cell_type": "code",
   "execution_count": 11,
   "id": "1f8cc295",
   "metadata": {},
   "outputs": [
    {
     "name": "stdout",
     "output_type": "stream",
     "text": [
      "High Duration (above 1h)\n"
     ]
    },
    {
     "data": {
      "text/html": [
       "<div><style>\n",
       ".dataframe > thead > tr,\n",
       ".dataframe > tbody > tr {\n",
       "  text-align: right;\n",
       "  white-space: pre-wrap;\n",
       "}\n",
       "</style>\n",
       "<small>shape: (9, 5)</small><table border=\"1\" class=\"dataframe\"><thead><tr><th>date</th><th>container_number</th><th>movement_type</th><th>driver</th><th>duration</th></tr><tr><td>date</td><td>str</td><td>str</td><td>str</td><td>duration[μs]</td></tr></thead><tbody><tr><td>2024-12-01</td><td>&quot;MNBU0649035&quot;</td><td>&quot;Collection&quot;</td><td>&quot;Land Marine (IPHS)&quot;</td><td>2h 10m</td></tr><tr><td>2024-12-02</td><td>&quot;MNBU3369315&quot;</td><td>&quot;Collection&quot;</td><td>&quot;Land Marine (IPHS)&quot;</td><td>4h 10m</td></tr><tr><td>2025-03-21</td><td>&quot;MNBU3408371&quot;</td><td>&quot;Collection&quot;</td><td>&quot;Hunt Deltel (IPHS)&quot;</td><td>3h 26m</td></tr><tr><td>2025-03-21</td><td>&quot;MNBU3127013&quot;</td><td>&quot;Collection&quot;</td><td>&quot;Hunt Deltel (IPHS)&quot;</td><td>2h 59m</td></tr><tr><td>2025-04-01</td><td>&quot;TLLU1173780&quot;</td><td>&quot;Delivery&quot;</td><td>&quot;Marcel&quot;</td><td>1h 10m</td></tr><tr><td>2025-04-15</td><td>&quot;MNBU4562972&quot;</td><td>&quot;Delivery&quot;</td><td>&quot;Nicodemus&quot;</td><td>1h 10m</td></tr><tr><td>2025-04-17</td><td>&quot;MNBU4145330&quot;</td><td>&quot;Delivery&quot;</td><td>&quot;Hunt Deltel (IPHS)&quot;</td><td>1h 10m</td></tr><tr><td>2025-04-18</td><td>&quot;MNBU0615415&quot;</td><td>&quot;Collection&quot;</td><td>&quot;Nicodemus&quot;</td><td>1h 10m</td></tr><tr><td>2025-06-02</td><td>&quot;MMAU1200559&quot;</td><td>&quot;Collection&quot;</td><td>&quot;Paul&quot;</td><td>3h 10m</td></tr></tbody></table></div>"
      ],
      "text/plain": [
       "shape: (9, 5)\n",
       "┌────────────┬──────────────────┬───────────────┬────────────────────┬──────────────┐\n",
       "│ date       ┆ container_number ┆ movement_type ┆ driver             ┆ duration     │\n",
       "│ ---        ┆ ---              ┆ ---           ┆ ---                ┆ ---          │\n",
       "│ date       ┆ str              ┆ str           ┆ str                ┆ duration[μs] │\n",
       "╞════════════╪══════════════════╪═══════════════╪════════════════════╪══════════════╡\n",
       "│ 2024-12-01 ┆ MNBU0649035      ┆ Collection    ┆ Land Marine (IPHS) ┆ 2h 10m       │\n",
       "│ 2024-12-02 ┆ MNBU3369315      ┆ Collection    ┆ Land Marine (IPHS) ┆ 4h 10m       │\n",
       "│ 2025-03-21 ┆ MNBU3408371      ┆ Collection    ┆ Hunt Deltel (IPHS) ┆ 3h 26m       │\n",
       "│ 2025-03-21 ┆ MNBU3127013      ┆ Collection    ┆ Hunt Deltel (IPHS) ┆ 2h 59m       │\n",
       "│ 2025-04-01 ┆ TLLU1173780      ┆ Delivery      ┆ Marcel             ┆ 1h 10m       │\n",
       "│ 2025-04-15 ┆ MNBU4562972      ┆ Delivery      ┆ Nicodemus          ┆ 1h 10m       │\n",
       "│ 2025-04-17 ┆ MNBU4145330      ┆ Delivery      ┆ Hunt Deltel (IPHS) ┆ 1h 10m       │\n",
       "│ 2025-04-18 ┆ MNBU0615415      ┆ Collection    ┆ Nicodemus          ┆ 1h 10m       │\n",
       "│ 2025-06-02 ┆ MMAU1200559      ┆ Collection    ┆ Paul               ┆ 3h 10m       │\n",
       "└────────────┴──────────────────┴───────────────┴────────────────────┴──────────────┘"
      ]
     },
     "execution_count": 11,
     "metadata": {},
     "output_type": "execute_result"
    }
   ],
   "source": [
    "print(\"High Duration (above 1h)\")\n",
    "\n",
    "transfer_with_duration.filter(pl.col(\"duration\").gt(pl.duration(minutes=60))).select(\n",
    "    pl.col(\"date\"),\n",
    "    pl.col(\"container_number\"),\n",
    "    pl.col(\"movement_type\"),\n",
    "    pl.col(\"driver\"),\n",
    "    pl.col(\"duration\"),\n",
    ")"
   ]
  },
  {
   "cell_type": "code",
   "execution_count": 12,
   "id": "da333539",
   "metadata": {},
   "outputs": [
    {
     "data": {
      "text/html": [
       "<div><style>\n",
       ".dataframe > thead > tr,\n",
       ".dataframe > tbody > tr {\n",
       "  text-align: right;\n",
       "  white-space: pre-wrap;\n",
       "}\n",
       "</style>\n",
       "<small>shape: (1, 14)</small><table border=\"1\" class=\"dataframe\"><thead><tr><th>date</th><th>container_number</th><th>line</th><th>movement_type</th><th>driver</th><th>origin</th><th>time_out</th><th>destination</th><th>time_in</th><th>status</th><th>type</th><th>size</th><th>remarks</th><th>duration</th></tr><tr><td>date</td><td>str</td><td>cat</td><td>str</td><td>str</td><td>str</td><td>time</td><td>str</td><td>time</td><td>str</td><td>str</td><td>str</td><td>str</td><td>duration[μs]</td></tr></thead><tbody><tr><td>2025-06-02</td><td>&quot;MMAU1200559&quot;</td><td>&quot;MAERSK&quot;</td><td>&quot;Collection&quot;</td><td>&quot;Paul&quot;</td><td>&quot;LML&quot;</td><td>13:03:00</td><td>&quot;IPHS&quot;</td><td>16:13:00</td><td>&quot;Empty&quot;</td><td>&quot;Reefer&quot;</td><td>&quot;40&#x27;&quot;</td><td>&quot;Maersk Depot&quot;</td><td>3h 10m</td></tr></tbody></table></div>"
      ],
      "text/plain": [
       "shape: (1, 14)\n",
       "┌────────────┬───────────────┬────────┬───────────────┬───┬────────┬──────┬─────────┬──────────────┐\n",
       "│ date       ┆ container_num ┆ line   ┆ movement_type ┆ … ┆ type   ┆ size ┆ remarks ┆ duration     │\n",
       "│ ---        ┆ ber           ┆ ---    ┆ ---           ┆   ┆ ---    ┆ ---  ┆ ---     ┆ ---          │\n",
       "│ date       ┆ ---           ┆ cat    ┆ str           ┆   ┆ str    ┆ str  ┆ str     ┆ duration[μs] │\n",
       "│            ┆ str           ┆        ┆               ┆   ┆        ┆      ┆         ┆              │\n",
       "╞════════════╪═══════════════╪════════╪═══════════════╪═══╪════════╪══════╪═════════╪══════════════╡\n",
       "│ 2025-06-02 ┆ MMAU1200559   ┆ MAERSK ┆ Collection    ┆ … ┆ Reefer ┆ 40'  ┆ Maersk  ┆ 3h 10m       │\n",
       "│            ┆               ┆        ┆               ┆   ┆        ┆      ┆ Depot   ┆              │\n",
       "└────────────┴───────────────┴────────┴───────────────┴───┴────────┴──────┴─────────┴──────────────┘"
      ]
     },
     "execution_count": 12,
     "metadata": {},
     "output_type": "execute_result"
    }
   ],
   "source": [
    "transfer_with_duration.filter(pl.col(\"container_number\").eq(\"MMAU1200559\"))"
   ]
  },
  {
   "cell_type": "markdown",
   "id": "0ab102b1",
   "metadata": {},
   "source": [
    "### Duplicated record"
   ]
  },
  {
   "cell_type": "code",
   "execution_count": null,
   "id": "52d96f6b",
   "metadata": {},
   "outputs": [
    {
     "data": {
      "text/html": [
       "<div><style>\n",
       ".dataframe > thead > tr,\n",
       ".dataframe > tbody > tr {\n",
       "  text-align: right;\n",
       "  white-space: pre-wrap;\n",
       "}\n",
       "</style>\n",
       "<small>shape: (0, 14)</small><table border=\"1\" class=\"dataframe\"><thead><tr><th>date</th><th>container_number</th><th>line</th><th>movement_type</th><th>driver</th><th>origin</th><th>time_out</th><th>destination</th><th>time_in</th><th>status</th><th>type</th><th>size</th><th>remarks</th><th>idx</th></tr><tr><td>date</td><td>str</td><td>cat</td><td>str</td><td>str</td><td>str</td><td>time</td><td>str</td><td>time</td><td>str</td><td>str</td><td>str</td><td>str</td><td>str</td></tr></thead><tbody></tbody></table></div>"
      ],
      "text/plain": [
       "shape: (0, 14)\n",
       "┌──────┬──────────────────┬──────┬───────────────┬───┬──────┬──────┬─────────┬─────┐\n",
       "│ date ┆ container_number ┆ line ┆ movement_type ┆ … ┆ type ┆ size ┆ remarks ┆ idx │\n",
       "│ ---  ┆ ---              ┆ ---  ┆ ---           ┆   ┆ ---  ┆ ---  ┆ ---     ┆ --- │\n",
       "│ date ┆ str              ┆ cat  ┆ str           ┆   ┆ str  ┆ str  ┆ str     ┆ str │\n",
       "╞══════╪══════════════════╪══════╪═══════════════╪═══╪══════╪══════╪═════════╪═════╡\n",
       "└──────┴──────────────────┴──────┴───────────────┴───┴──────┴──────┴─────────┴─────┘"
      ]
     },
     "execution_count": 52,
     "metadata": {},
     "output_type": "execute_result"
    }
   ],
   "source": [
    "transfer_df.with_columns(\n",
    "    idx=pl.col(\"container_number\")\n",
    "    + pl.col(\"date\").dt.to_string(format=\"%d%m%Y\")\n",
    "    + pl.col(\"movement_type\")\n",
    ").filter(pl.col(\"idx\").is_duplicated()).collect()"
   ]
  },
  {
   "cell_type": "code",
   "execution_count": null,
   "id": "326a7d6a",
   "metadata": {},
   "outputs": [
    {
     "data": {
      "text/html": [
       "<div><style>\n",
       ".dataframe > thead > tr,\n",
       ".dataframe > tbody > tr {\n",
       "  text-align: right;\n",
       "  white-space: pre-wrap;\n",
       "}\n",
       "</style>\n",
       "<small>shape: (5_509, 16)</small><table border=\"1\" class=\"dataframe\"><thead><tr><th>date</th><th>container_number</th><th>line</th><th>movement_type</th><th>driver</th><th>origin</th><th>time_out</th><th>destination</th><th>time_in</th><th>status</th><th>type</th><th>size</th><th>remarks</th><th>start_datetime</th><th>end_datetime</th><th>service_id</th></tr><tr><td>date</td><td>str</td><td>cat</td><td>str</td><td>str</td><td>str</td><td>time</td><td>str</td><td>time</td><td>str</td><td>str</td><td>str</td><td>str</td><td>datetime[μs]</td><td>datetime[μs]</td><td>i64</td></tr></thead><tbody><tr><td>2024-08-09</td><td>&quot;MSFU0002762&quot;</td><td>&quot;MAERSK&quot;</td><td>&quot;Collection&quot;</td><td>&quot;Paul&quot;</td><td>&quot;LML&quot;</td><td>10:15:00</td><td>&quot;IPHS&quot;</td><td>10:30:00</td><td>&quot;Empty&quot;</td><td>&quot;Reefer&quot;</td><td>&quot;40&#x27;&quot;</td><td>&quot;Maersk Depot&quot;</td><td>2024-08-09 10:15:00</td><td>2024-08-09 10:30:00</td><td>0</td></tr><tr><td>2024-11-23</td><td>&quot;MNBU0298795&quot;</td><td>&quot;MAERSK&quot;</td><td>&quot;Collection&quot;</td><td>&quot;Hubert J&quot;</td><td>&quot;LML&quot;</td><td>09:16:00</td><td>&quot;IPHS&quot;</td><td>09:26:00</td><td>&quot;Empty&quot;</td><td>&quot;Reefer&quot;</td><td>&quot;40&#x27;&quot;</td><td>&quot;Maersk Depot&quot;</td><td>2024-11-23 09:16:00</td><td>2024-11-23 09:26:00</td><td>1</td></tr><tr><td>2024-11-29</td><td>&quot;TRIU8055553&quot;</td><td>&quot;CMA CGM&quot;</td><td>&quot;Collection&quot;</td><td>&quot;Hunt Deltel (IPHS)&quot;</td><td>&quot;LML&quot;</td><td>09:44:00</td><td>&quot;IPHS&quot;</td><td>09:54:00</td><td>&quot;Empty&quot;</td><td>&quot;Reefer&quot;</td><td>&quot;40&#x27;&quot;</td><td>&quot;CMA CGM Depot&quot;</td><td>2024-11-29 09:44:00</td><td>2024-11-29 09:54:00</td><td>2</td></tr><tr><td>2024-12-01</td><td>&quot;MMAU1016557&quot;</td><td>&quot;MAERSK&quot;</td><td>&quot;Collection&quot;</td><td>&quot;Land Marine (IPHS)&quot;</td><td>&quot;LML&quot;</td><td>21:20:00</td><td>&quot;IPHS&quot;</td><td>21:29:00</td><td>&quot;Empty&quot;</td><td>&quot;Reefer&quot;</td><td>&quot;40&#x27;&quot;</td><td>&quot;Maersk Depot&quot;</td><td>2024-12-01 21:20:00</td><td>2024-12-01 21:29:00</td><td>3</td></tr><tr><td>2024-12-01</td><td>&quot;MMAU1031340&quot;</td><td>&quot;MAERSK&quot;</td><td>&quot;Collection&quot;</td><td>&quot;Land Marine (IPHS)&quot;</td><td>&quot;LML&quot;</td><td>20:00:00</td><td>&quot;IPHS&quot;</td><td>20:11:00</td><td>&quot;Empty&quot;</td><td>&quot;Reefer&quot;</td><td>&quot;40&#x27;&quot;</td><td>&quot;Maersk Depot&quot;</td><td>2024-12-01 20:00:00</td><td>2024-12-01 20:11:00</td><td>4</td></tr><tr><td>&hellip;</td><td>&hellip;</td><td>&hellip;</td><td>&hellip;</td><td>&hellip;</td><td>&hellip;</td><td>&hellip;</td><td>&hellip;</td><td>&hellip;</td><td>&hellip;</td><td>&hellip;</td><td>&hellip;</td><td>&hellip;</td><td>&hellip;</td><td>&hellip;</td><td>&hellip;</td></tr><tr><td>2025-06-06</td><td>&quot;MNBU3102078&quot;</td><td>&quot;MAERSK&quot;</td><td>&quot;Delivery&quot;</td><td>&quot;Nicodemus&quot;</td><td>&quot;IPHS&quot;</td><td>15:21:00</td><td>&quot;LML&quot;</td><td>15:31:00</td><td>&quot;Full&quot;</td><td>&quot;Reefer&quot;</td><td>&quot;40&#x27;&quot;</td><td>&quot;STO&quot;</td><td>2025-06-06 15:21:00</td><td>2025-06-06 15:31:00</td><td>5504</td></tr><tr><td>2025-06-06</td><td>&quot;MNBU3795835&quot;</td><td>&quot;MAERSK&quot;</td><td>&quot;Delivery&quot;</td><td>&quot;Nicodemus&quot;</td><td>&quot;IPHS&quot;</td><td>16:19:00</td><td>&quot;LML&quot;</td><td>16:29:00</td><td>&quot;Full&quot;</td><td>&quot;Reefer&quot;</td><td>&quot;40&#x27;&quot;</td><td>&quot;STO&quot;</td><td>2025-06-06 16:19:00</td><td>2025-06-06 16:29:00</td><td>5505</td></tr><tr><td>2025-06-06</td><td>&quot;MNBU3699087&quot;</td><td>&quot;MAERSK&quot;</td><td>&quot;Delivery&quot;</td><td>&quot;Paul&quot;</td><td>&quot;IPHS&quot;</td><td>10:53:00</td><td>&quot;LML&quot;</td><td>11:15:00</td><td>&quot;Full&quot;</td><td>&quot;Reefer&quot;</td><td>&quot;40&#x27;&quot;</td><td>&quot;STO&quot;</td><td>2025-06-06 10:53:00</td><td>2025-06-06 11:15:00</td><td>5506</td></tr><tr><td>2025-06-06</td><td>&quot;MMAU1025841&quot;</td><td>&quot;MAERSK&quot;</td><td>&quot;Delivery&quot;</td><td>&quot;Paul&quot;</td><td>&quot;IPHS&quot;</td><td>11:26:00</td><td>&quot;LML&quot;</td><td>11:36:00</td><td>&quot;Full&quot;</td><td>&quot;Reefer&quot;</td><td>&quot;40&#x27;&quot;</td><td>&quot;STO&quot;</td><td>2025-06-06 11:26:00</td><td>2025-06-06 11:36:00</td><td>5507</td></tr><tr><td>2025-06-06</td><td>&quot;SUDU6222832&quot;</td><td>&quot;MAERSK&quot;</td><td>&quot;Delivery&quot;</td><td>&quot;Paul&quot;</td><td>&quot;IPHS&quot;</td><td>12:11:00</td><td>&quot;LML&quot;</td><td>12:25:00</td><td>&quot;Full&quot;</td><td>&quot;Reefer&quot;</td><td>&quot;40&#x27;&quot;</td><td>&quot;STO&quot;</td><td>2025-06-06 12:11:00</td><td>2025-06-06 12:25:00</td><td>5508</td></tr></tbody></table></div>"
      ],
      "text/plain": [
       "shape: (5_509, 16)\n",
       "┌────────────┬───────────┬─────────┬───────────┬───┬───────────┬───────────┬───────────┬───────────┐\n",
       "│ date       ┆ container ┆ line    ┆ movement_ ┆ … ┆ remarks   ┆ start_dat ┆ end_datet ┆ service_i │\n",
       "│ ---        ┆ _number   ┆ ---     ┆ type      ┆   ┆ ---       ┆ etime     ┆ ime       ┆ d         │\n",
       "│ date       ┆ ---       ┆ cat     ┆ ---       ┆   ┆ str       ┆ ---       ┆ ---       ┆ ---       │\n",
       "│            ┆ str       ┆         ┆ str       ┆   ┆           ┆ datetime[ ┆ datetime[ ┆ i64       │\n",
       "│            ┆           ┆         ┆           ┆   ┆           ┆ μs]       ┆ μs]       ┆           │\n",
       "╞════════════╪═══════════╪═════════╪═══════════╪═══╪═══════════╪═══════════╪═══════════╪═══════════╡\n",
       "│ 2024-08-09 ┆ MSFU00027 ┆ MAERSK  ┆ Collectio ┆ … ┆ Maersk    ┆ 2024-08-0 ┆ 2024-08-0 ┆ 0         │\n",
       "│            ┆ 62        ┆         ┆ n         ┆   ┆ Depot     ┆ 9         ┆ 9         ┆           │\n",
       "│            ┆           ┆         ┆           ┆   ┆           ┆ 10:15:00  ┆ 10:30:00  ┆           │\n",
       "│ 2024-11-23 ┆ MNBU02987 ┆ MAERSK  ┆ Collectio ┆ … ┆ Maersk    ┆ 2024-11-2 ┆ 2024-11-2 ┆ 1         │\n",
       "│            ┆ 95        ┆         ┆ n         ┆   ┆ Depot     ┆ 3         ┆ 3         ┆           │\n",
       "│            ┆           ┆         ┆           ┆   ┆           ┆ 09:16:00  ┆ 09:26:00  ┆           │\n",
       "│ 2024-11-29 ┆ TRIU80555 ┆ CMA CGM ┆ Collectio ┆ … ┆ CMA CGM   ┆ 2024-11-2 ┆ 2024-11-2 ┆ 2         │\n",
       "│            ┆ 53        ┆         ┆ n         ┆   ┆ Depot     ┆ 9         ┆ 9         ┆           │\n",
       "│            ┆           ┆         ┆           ┆   ┆           ┆ 09:44:00  ┆ 09:54:00  ┆           │\n",
       "│ 2024-12-01 ┆ MMAU10165 ┆ MAERSK  ┆ Collectio ┆ … ┆ Maersk    ┆ 2024-12-0 ┆ 2024-12-0 ┆ 3         │\n",
       "│            ┆ 57        ┆         ┆ n         ┆   ┆ Depot     ┆ 1         ┆ 1         ┆           │\n",
       "│            ┆           ┆         ┆           ┆   ┆           ┆ 21:20:00  ┆ 21:29:00  ┆           │\n",
       "│ 2024-12-01 ┆ MMAU10313 ┆ MAERSK  ┆ Collectio ┆ … ┆ Maersk    ┆ 2024-12-0 ┆ 2024-12-0 ┆ 4         │\n",
       "│            ┆ 40        ┆         ┆ n         ┆   ┆ Depot     ┆ 1         ┆ 1         ┆           │\n",
       "│            ┆           ┆         ┆           ┆   ┆           ┆ 20:00:00  ┆ 20:11:00  ┆           │\n",
       "│ …          ┆ …         ┆ …       ┆ …         ┆ … ┆ …         ┆ …         ┆ …         ┆ …         │\n",
       "│ 2025-06-06 ┆ MNBU31020 ┆ MAERSK  ┆ Delivery  ┆ … ┆ STO       ┆ 2025-06-0 ┆ 2025-06-0 ┆ 5504      │\n",
       "│            ┆ 78        ┆         ┆           ┆   ┆           ┆ 6         ┆ 6         ┆           │\n",
       "│            ┆           ┆         ┆           ┆   ┆           ┆ 15:21:00  ┆ 15:31:00  ┆           │\n",
       "│ 2025-06-06 ┆ MNBU37958 ┆ MAERSK  ┆ Delivery  ┆ … ┆ STO       ┆ 2025-06-0 ┆ 2025-06-0 ┆ 5505      │\n",
       "│            ┆ 35        ┆         ┆           ┆   ┆           ┆ 6         ┆ 6         ┆           │\n",
       "│            ┆           ┆         ┆           ┆   ┆           ┆ 16:19:00  ┆ 16:29:00  ┆           │\n",
       "│ 2025-06-06 ┆ MNBU36990 ┆ MAERSK  ┆ Delivery  ┆ … ┆ STO       ┆ 2025-06-0 ┆ 2025-06-0 ┆ 5506      │\n",
       "│            ┆ 87        ┆         ┆           ┆   ┆           ┆ 6         ┆ 6         ┆           │\n",
       "│            ┆           ┆         ┆           ┆   ┆           ┆ 10:53:00  ┆ 11:15:00  ┆           │\n",
       "│ 2025-06-06 ┆ MMAU10258 ┆ MAERSK  ┆ Delivery  ┆ … ┆ STO       ┆ 2025-06-0 ┆ 2025-06-0 ┆ 5507      │\n",
       "│            ┆ 41        ┆         ┆           ┆   ┆           ┆ 6         ┆ 6         ┆           │\n",
       "│            ┆           ┆         ┆           ┆   ┆           ┆ 11:26:00  ┆ 11:36:00  ┆           │\n",
       "│ 2025-06-06 ┆ SUDU62228 ┆ MAERSK  ┆ Delivery  ┆ … ┆ STO       ┆ 2025-06-0 ┆ 2025-06-0 ┆ 5508      │\n",
       "│            ┆ 32        ┆         ┆           ┆   ┆           ┆ 6         ┆ 6         ┆           │\n",
       "│            ┆           ┆         ┆           ┆   ┆           ┆ 12:11:00  ┆ 12:25:00  ┆           │\n",
       "└────────────┴───────────┴─────────┴───────────┴───┴───────────┴───────────┴───────────┴───────────┘"
      ]
     },
     "execution_count": 58,
     "metadata": {},
     "output_type": "execute_result"
    }
   ],
   "source": [
    "# First, let's prepare the data with proper datetime handling\n",
    "transfer_with_datetime = transfer_df.with_columns(\n",
    "    [\n",
    "        # Create start_datetime (time_out combined with date)\n",
    "        pl.col(\"date\").dt.combine(pl.col(\"time_out\")).alias(\"start_datetime\"),\n",
    "        # Create end_datetime with midnight crossing logic\n",
    "        pl.when(pl.col(\"time_out\") > pl.col(\"time_in\"))\n",
    "        .then(\n",
    "            # Service crosses midnight - time_in is on the next day\n",
    "            (pl.col(\"date\") + pl.duration(days=1)).dt.combine(pl.col(\"time_in\"))\n",
    "        )\n",
    "        .otherwise(\n",
    "            # Normal same-day service\n",
    "            pl.col(\"date\").dt.combine(pl.col(\"time_in\"))\n",
    "        )\n",
    "        .alias(\"end_datetime\"),\n",
    "        # Add a unique service ID for easier tracking\n",
    "        pl.int_range(pl.len()).alias(\"service_id\"),\n",
    "    ]\n",
    ")\n",
    "\n",
    "transfer_with_datetime.collect()"
   ]
  },
  {
   "cell_type": "markdown",
   "id": "d5d50ae8",
   "metadata": {},
   "source": [
    "### Washing and PTI Data"
   ]
  },
  {
   "cell_type": "code",
   "execution_count": null,
   "id": "57341ba3",
   "metadata": {},
   "outputs": [
    {
     "data": {
      "text/html": [
       "<div><style>\n",
       ".dataframe > thead > tr,\n",
       ".dataframe > tbody > tr {\n",
       "  text-align: right;\n",
       "  white-space: pre-wrap;\n",
       "}\n",
       "</style>\n",
       "<small>shape: (1_986, 12)</small><table border=\"1\" class=\"dataframe\"><thead><tr><th>Date Plug</th><th>Time Plug</th><th>Container Ref. No.</th><th>Set Point</th><th>Unit Manufacturer</th><th>Line/Client</th><th>Date PTI/Unplug</th><th>Time plug out</th><th>Sticker</th><th>Status</th><th>Generator</th><th>duration_on_plug</th></tr><tr><td>date</td><td>time</td><td>str</td><td>i64</td><td>str</td><td>str</td><td>date</td><td>time</td><td>str</td><td>str</td><td>str</td><td>f64</td></tr></thead><tbody><tr><td>2025-01-02</td><td>09:30:00</td><td>&quot;MMAU1018360&quot;</td><td>-25</td><td>&quot;Starcool&quot;</td><td>&quot;MAERSK&quot;</td><td>2025-01-02</td><td>15:10:00</td><td>&quot;N/A&quot;</td><td>&quot;FAILED&quot;</td><td>&quot;K6&quot;</td><td>5.666667</td></tr><tr><td>2025-01-02</td><td>09:30:00</td><td>&quot;MNBU0096855&quot;</td><td>-25</td><td>&quot;Carrier&quot;</td><td>&quot;MAERSK&quot;</td><td>2025-01-02</td><td>15:10:00</td><td>&quot;PASS&quot;</td><td>&quot;PASSED&quot;</td><td>&quot;K6&quot;</td><td>5.666667</td></tr><tr><td>2025-01-02</td><td>09:30:00</td><td>&quot;MNBU0235328&quot;</td><td>-25</td><td>&quot;Carrier&quot;</td><td>&quot;MAERSK&quot;</td><td>2025-01-02</td><td>15:10:00</td><td>&quot;PASS&quot;</td><td>&quot;PASSED&quot;</td><td>&quot;K6&quot;</td><td>5.666667</td></tr><tr><td>2025-01-02</td><td>09:30:00</td><td>&quot;MNBU0324739&quot;</td><td>-25</td><td>&quot;Carrier&quot;</td><td>&quot;MAERSK&quot;</td><td>2025-01-02</td><td>15:10:00</td><td>&quot;PASS&quot;</td><td>&quot;PASSED&quot;</td><td>&quot;K6&quot;</td><td>5.666667</td></tr><tr><td>2025-01-02</td><td>09:30:00</td><td>&quot;MNBU0325150&quot;</td><td>-25</td><td>&quot;Carrier&quot;</td><td>&quot;MAERSK&quot;</td><td>2025-01-02</td><td>15:10:00</td><td>&quot;PASS&quot;</td><td>&quot;PASSED&quot;</td><td>&quot;K6&quot;</td><td>5.666667</td></tr><tr><td>&hellip;</td><td>&hellip;</td><td>&hellip;</td><td>&hellip;</td><td>&hellip;</td><td>&hellip;</td><td>&hellip;</td><td>&hellip;</td><td>&hellip;</td><td>&hellip;</td><td>&hellip;</td><td>&hellip;</td></tr><tr><td>2025-05-12</td><td>07:49:00</td><td>&quot;MNBU4562289&quot;</td><td>-25</td><td>&quot;Starcool&quot;</td><td>&quot;MAERSK&quot;</td><td>2025-05-12</td><td>10:29:00</td><td>&quot;PASS&quot;</td><td>&quot;PASSED&quot;</td><td>&quot;AKSA&quot;</td><td>2.666667</td></tr><tr><td>2025-05-12</td><td>07:49:00</td><td>&quot;MNBU9010174&quot;</td><td>-25</td><td>&quot;Starcool&quot;</td><td>&quot;MAERSK&quot;</td><td>2025-05-12</td><td>10:29:00</td><td>&quot;PASS&quot;</td><td>&quot;PASSED&quot;</td><td>&quot;AKSA&quot;</td><td>2.666667</td></tr><tr><td>2025-05-12</td><td>07:49:00</td><td>&quot;MNBU9044359&quot;</td><td>-25</td><td>&quot;Starcool&quot;</td><td>&quot;MAERSK&quot;</td><td>2025-05-12</td><td>10:29:00</td><td>&quot;PASS&quot;</td><td>&quot;PASSED&quot;</td><td>&quot;AKSA&quot;</td><td>2.666667</td></tr><tr><td>2025-05-12</td><td>07:49:00</td><td>&quot;MNBU9107375&quot;</td><td>-25</td><td>&quot;Starcool&quot;</td><td>&quot;MAERSK&quot;</td><td>2025-05-12</td><td>10:29:00</td><td>&quot;PASS&quot;</td><td>&quot;PASSED&quot;</td><td>&quot;AKSA&quot;</td><td>2.666667</td></tr><tr><td>2025-05-12</td><td>07:41:00</td><td>&quot;MWCU5292050&quot;</td><td>-25</td><td>&quot;Carrier&quot;</td><td>&quot;MAERSK&quot;</td><td>2025-05-12</td><td>10:39:00</td><td>&quot;PASS&quot;</td><td>&quot;PASSED&quot;</td><td>&quot;AKSA&quot;</td><td>2.966667</td></tr></tbody></table></div>"
      ],
      "text/plain": [
       "shape: (1_986, 12)\n",
       "┌────────────┬───────────┬─────────────┬───────────┬───┬─────────┬────────┬───────────┬────────────┐\n",
       "│ Date Plug  ┆ Time Plug ┆ Container   ┆ Set Point ┆ … ┆ Sticker ┆ Status ┆ Generator ┆ duration_o │\n",
       "│ ---        ┆ ---       ┆ Ref. No.    ┆ ---       ┆   ┆ ---     ┆ ---    ┆ ---       ┆ n_plug     │\n",
       "│ date       ┆ time      ┆ ---         ┆ i64       ┆   ┆ str     ┆ str    ┆ str       ┆ ---        │\n",
       "│            ┆           ┆ str         ┆           ┆   ┆         ┆        ┆           ┆ f64        │\n",
       "╞════════════╪═══════════╪═════════════╪═══════════╪═══╪═════════╪════════╪═══════════╪════════════╡\n",
       "│ 2025-01-02 ┆ 09:30:00  ┆ MMAU1018360 ┆ -25       ┆ … ┆ N/A     ┆ FAILED ┆ K6        ┆ 5.666667   │\n",
       "│ 2025-01-02 ┆ 09:30:00  ┆ MNBU0096855 ┆ -25       ┆ … ┆ PASS    ┆ PASSED ┆ K6        ┆ 5.666667   │\n",
       "│ 2025-01-02 ┆ 09:30:00  ┆ MNBU0235328 ┆ -25       ┆ … ┆ PASS    ┆ PASSED ┆ K6        ┆ 5.666667   │\n",
       "│ 2025-01-02 ┆ 09:30:00  ┆ MNBU0324739 ┆ -25       ┆ … ┆ PASS    ┆ PASSED ┆ K6        ┆ 5.666667   │\n",
       "│ 2025-01-02 ┆ 09:30:00  ┆ MNBU0325150 ┆ -25       ┆ … ┆ PASS    ┆ PASSED ┆ K6        ┆ 5.666667   │\n",
       "│ …          ┆ …         ┆ …           ┆ …         ┆ … ┆ …       ┆ …      ┆ …         ┆ …          │\n",
       "│ 2025-05-12 ┆ 07:49:00  ┆ MNBU4562289 ┆ -25       ┆ … ┆ PASS    ┆ PASSED ┆ AKSA      ┆ 2.666667   │\n",
       "│ 2025-05-12 ┆ 07:49:00  ┆ MNBU9010174 ┆ -25       ┆ … ┆ PASS    ┆ PASSED ┆ AKSA      ┆ 2.666667   │\n",
       "│ 2025-05-12 ┆ 07:49:00  ┆ MNBU9044359 ┆ -25       ┆ … ┆ PASS    ┆ PASSED ┆ AKSA      ┆ 2.666667   │\n",
       "│ 2025-05-12 ┆ 07:49:00  ┆ MNBU9107375 ┆ -25       ┆ … ┆ PASS    ┆ PASSED ┆ AKSA      ┆ 2.666667   │\n",
       "│ 2025-05-12 ┆ 07:41:00  ┆ MWCU5292050 ┆ -25       ┆ … ┆ PASS    ┆ PASSED ┆ AKSA      ┆ 2.966667   │\n",
       "└────────────┴───────────┴─────────────┴───────────┴───┴─────────┴────────┴───────────┴────────────┘"
      ]
     },
     "execution_count": 8,
     "metadata": {},
     "output_type": "execute_result"
    }
   ],
   "source": [
    "pl.read_excel(dropbox.emr).filter(pl.col(\"Date Plug\").dt.year().eq(2025)).with_columns(\n",
    "    pl.col(\"Time Plug\")\n",
    "    .dt.to_string()\n",
    "    .str.extract(r\"(\\d{2}:\\d{2}:\\d{2})\")\n",
    "    .str.to_time(format=\"%H:%M:%S\")\n",
    ").with_columns(\n",
    "    pl.col(\"Time plug out\")\n",
    "    .dt.to_string()\n",
    "    .str.extract(r\"(\\d{2}:\\d{2}:\\d{2})\")\n",
    "    .str.to_time(format=\"%H:%M:%S\")\n",
    ").drop(pl.col(\"#\"), pl.col(\"Size\"), pl.col(\"Hours\")).with_columns(\n",
    "    duration_on_plug=(\n",
    "        (pl.col(\"Date PTI/Unplug\").dt.combine(pl.col(\"Time plug out\")))\n",
    "        - (pl.col(\"Date Plug\").dt.combine(pl.col(\"Time Plug\")))\n",
    "    ).dt.total_seconds()\n",
    "    / 3600\n",
    ")"
   ]
  },
  {
   "cell_type": "code",
   "execution_count": 9,
   "id": "93050207",
   "metadata": {},
   "outputs": [],
   "source": [
    "from dataframe.emr import washing"
   ]
  },
  {
   "cell_type": "code",
   "execution_count": 15,
   "id": "08060a0e",
   "metadata": {},
   "outputs": [],
   "source": [
    "wash_df = await washing()"
   ]
  },
  {
   "cell_type": "code",
   "execution_count": 17,
   "id": "ac09d737",
   "metadata": {},
   "outputs": [
    {
     "data": {
      "text/html": [
       "<div><style>\n",
       ".dataframe > thead > tr,\n",
       ".dataframe > tbody > tr {\n",
       "  text-align: right;\n",
       "  white-space: pre-wrap;\n",
       "}\n",
       "</style>\n",
       "<small>shape: (6_624, 5)</small><table border=\"1\" class=\"dataframe\"><thead><tr><th>date</th><th>container_number</th><th>invoice_to</th><th>service_remarks</th><th>price</th></tr><tr><td>str</td><td>enum</td><td>enum</td><td>str</td><td>i64</td></tr></thead><tbody><tr><td>&quot;03/01/2024&quot;</td><td>&quot;SUDU6106112&quot;</td><td>&quot;ECHEBASTAR&quot;</td><td>&quot;Unstuffed at CCCS&quot;</td><td>30</td></tr><tr><td>&quot;03/01/2024&quot;</td><td>&quot;TTNU8054125&quot;</td><td>&quot;IOT&quot;</td><td>&quot;Clean&quot;</td><td>30</td></tr><tr><td>&quot;04/01/2024&quot;</td><td>&quot;MMAU1082543&quot;</td><td>&quot;MAERSKLINE&quot;</td><td>&quot;Clean&quot;</td><td>30</td></tr><tr><td>&quot;04/01/2024&quot;</td><td>&quot;MMAU1128460&quot;</td><td>&quot;MAERSKLINE&quot;</td><td>&quot;Clean&quot;</td><td>30</td></tr><tr><td>&quot;04/01/2024&quot;</td><td>&quot;MNBU3645352&quot;</td><td>&quot;MAERSKLINE&quot;</td><td>&quot;Clean&quot;</td><td>30</td></tr><tr><td>&hellip;</td><td>&hellip;</td><td>&hellip;</td><td>&hellip;</td><td>&hellip;</td></tr><tr><td>&quot;27/05/2025&quot;</td><td>&quot;MMAU1227170&quot;</td><td>&quot;MAERSKLINE&quot;</td><td>&quot;ADDED TO THE RECORD&quot;</td><td>30</td></tr><tr><td>&quot;29/05/2025&quot;</td><td>&quot;MNBU3851604&quot;</td><td>&quot;MAERSKLINE&quot;</td><td>&quot;ADDED TO THE RECORD&quot;</td><td>30</td></tr><tr><td>&quot;30/05/2025&quot;</td><td>&quot;MNBU3670822&quot;</td><td>&quot;MAERSKLINE&quot;</td><td>&quot;ADDED TO THE RECORD&quot;</td><td>30</td></tr><tr><td>&quot;30/05/2025&quot;</td><td>&quot;SUDU6222832&quot;</td><td>&quot;MAERSKLINE&quot;</td><td>&quot;ADDED TO THE RECORD&quot;</td><td>30</td></tr><tr><td>&quot;29/05/2025&quot;</td><td>&quot;MNBU3235635&quot;</td><td>&quot;MAERSKLINE&quot;</td><td>&quot;Cross Stuffing // ADDED TO THE…</td><td>30</td></tr></tbody></table></div>"
      ],
      "text/plain": [
       "shape: (6_624, 5)\n",
       "┌────────────┬──────────────────┬────────────┬─────────────────────────────────┬───────┐\n",
       "│ date       ┆ container_number ┆ invoice_to ┆ service_remarks                 ┆ price │\n",
       "│ ---        ┆ ---              ┆ ---        ┆ ---                             ┆ ---   │\n",
       "│ str        ┆ enum             ┆ enum       ┆ str                             ┆ i64   │\n",
       "╞════════════╪══════════════════╪════════════╪═════════════════════════════════╪═══════╡\n",
       "│ 03/01/2024 ┆ SUDU6106112      ┆ ECHEBASTAR ┆ Unstuffed at CCCS               ┆ 30    │\n",
       "│ 03/01/2024 ┆ TTNU8054125      ┆ IOT        ┆ Clean                           ┆ 30    │\n",
       "│ 04/01/2024 ┆ MMAU1082543      ┆ MAERSKLINE ┆ Clean                           ┆ 30    │\n",
       "│ 04/01/2024 ┆ MMAU1128460      ┆ MAERSKLINE ┆ Clean                           ┆ 30    │\n",
       "│ 04/01/2024 ┆ MNBU3645352      ┆ MAERSKLINE ┆ Clean                           ┆ 30    │\n",
       "│ …          ┆ …                ┆ …          ┆ …                               ┆ …     │\n",
       "│ 27/05/2025 ┆ MMAU1227170      ┆ MAERSKLINE ┆ ADDED TO THE RECORD             ┆ 30    │\n",
       "│ 29/05/2025 ┆ MNBU3851604      ┆ MAERSKLINE ┆ ADDED TO THE RECORD             ┆ 30    │\n",
       "│ 30/05/2025 ┆ MNBU3670822      ┆ MAERSKLINE ┆ ADDED TO THE RECORD             ┆ 30    │\n",
       "│ 30/05/2025 ┆ SUDU6222832      ┆ MAERSKLINE ┆ ADDED TO THE RECORD             ┆ 30    │\n",
       "│ 29/05/2025 ┆ MNBU3235635      ┆ MAERSKLINE ┆ Cross Stuffing // ADDED TO THE… ┆ 30    │\n",
       "└────────────┴──────────────────┴────────────┴─────────────────────────────────┴───────┘"
      ]
     },
     "execution_count": 17,
     "metadata": {},
     "output_type": "execute_result"
    }
   ],
   "source": [
    "wash_df.collect()"
   ]
  },
  {
   "cell_type": "code",
   "execution_count": null,
   "id": "66a6fd74",
   "metadata": {},
   "outputs": [],
   "source": []
  }
 ],
 "metadata": {
  "kernelspec": {
   "display_name": ".venv",
   "language": "python",
   "name": "python3"
  },
  "language_info": {
   "codemirror_mode": {
    "name": "ipython",
    "version": 3
   },
   "file_extension": ".py",
   "mimetype": "text/x-python",
   "name": "python",
   "nbconvert_exporter": "python",
   "pygments_lexer": "ipython3",
   "version": "3.12.3"
  }
 },
 "nbformat": 4,
 "nbformat_minor": 5
}
