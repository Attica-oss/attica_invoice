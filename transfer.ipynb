{
 "cells": [
  {
   "cell_type": "markdown",
   "id": "9dd7f383",
   "metadata": {},
   "source": [
    "# Verification and Invoicing"
   ]
  },
  {
   "cell_type": "code",
   "execution_count": 1,
   "id": "5c93ad2e",
   "metadata": {},
   "outputs": [
    {
     "name": "stdout",
     "output_type": "stream",
     "text": [
      "/home/garry-mounac/Dropbox/! OPERATION SUPPORTING DOCUMENTATION/2025/2025 IPHS operation activity.xlsx\n"
     ]
    }
   ],
   "source": [
    "from dataclasses import dataclass\n",
    "from pathlib import Path\n",
    "from datetime import date, time, timedelta\n",
    "import polars as pl\n",
    "\n",
    "from type_casting.dates import DayName\n",
    "\n",
    "\n",
    "@dataclass\n",
    "class DropboxFolder:\n",
    "    base_path: Path = None\n",
    "\n",
    "    def __post_init__(self):\n",
    "        if self.base_path is None:\n",
    "            self.base_path = Path.home() / \"Dropbox\"\n",
    "\n",
    "    @property\n",
    "    def transfer(self):\n",
    "        return (\n",
    "            self.base_path\n",
    "            / \"Container and Transport/Transport Section/Container Movements/Container Transfer.xlsx\"\n",
    "        )\n",
    "\n",
    "    @property\n",
    "    def ops(self):\n",
    "        return (\n",
    "            self.base_path\n",
    "            / \"! OPERATION SUPPORTING DOCUMENTATION/2025/2025 IPHS operation activity.xlsx\"\n",
    "        )\n",
    "\n",
    "    @property\n",
    "    def emr(self):\n",
    "        return (\n",
    "            self.base_path\n",
    "            / \"Container and Transport/Container Section/Storage, PTI and Container Cleaning/IPHS - PTI Wash Records.xlsx\"\n",
    "        )\n",
    "\n",
    "    def get_path(self, relative_path: str):\n",
    "        return self.base_path / relative_path\n",
    "\n",
    "\n",
    "# Usage\n",
    "dropbox = DropboxFolder()\n",
    "print(dropbox.ops)"
   ]
  },
  {
   "cell_type": "markdown",
   "id": "30ed7304",
   "metadata": {},
   "source": [
    "## Operations Activity\n",
    "\n",
    "* Handling"
   ]
  },
  {
   "cell_type": "code",
   "execution_count": 2,
   "id": "4a1843d2",
   "metadata": {},
   "outputs": [
    {
     "data": {
      "text/plain": [
       "Schema([('DAY', String),\n",
       "        ('DATE', Date),\n",
       "        ('VESSEL NAME', String),\n",
       "        ('SHIPOWNER/OPERATOR', String),\n",
       "        ('OPERATION TYPE', String),\n",
       "        ('BRINE (SAUMURE)', Float64),\n",
       "        ('DRY (Below -30°C)', Float64),\n",
       "        ('TOTAL TONNAGE', Float64),\n",
       "        ('Container Brine', Float64),\n",
       "        ('Container Dry', Float64),\n",
       "        ('Transhipment Brine', Float64),\n",
       "        ('Transhipment Dry', Float64),\n",
       "        ('Simple Unloading Brine', Float64),\n",
       "        ('Simple Unloading Dry', Float64),\n",
       "        ('Unloading to CCCS Brine', Float64),\n",
       "        ('Unloading to CCCS Dry', Float64),\n",
       "        ('Additional Stevedores', Int64),\n",
       "        ('Well-to-Well Transfer', Float64),\n",
       "        ('Overtime Tonnage', Float64),\n",
       "        ('Extra Men', Int64),\n",
       "        ('Overtime Value ($)', Float64),\n",
       "        ('INVOICE VALUE ', Float64),\n",
       "        ('Number of Stevedores', Int64),\n",
       "        ('OPEX', Float64),\n",
       "        ('OPEX %', Float64),\n",
       "        ('Comments', String)])"
      ]
     },
     "execution_count": 2,
     "metadata": {},
     "output_type": "execute_result"
    }
   ],
   "source": [
    "handling_activity: pl.LazyFrame = pl.read_excel(\n",
    "    dropbox.ops, sheet_name=\"HANDLING ACTIVITY\"\n",
    ").lazy()\n",
    "\n",
    "handling_activity.collect_schema()"
   ]
  },
  {
   "cell_type": "code",
   "execution_count": 4,
   "id": "23551de9",
   "metadata": {},
   "outputs": [
    {
     "data": {
      "text/html": [
       "<div><style>\n",
       ".dataframe > thead > tr,\n",
       ".dataframe > tbody > tr {\n",
       "  text-align: right;\n",
       "  white-space: pre-wrap;\n",
       "}\n",
       "</style>\n",
       "<small>shape: (462, 5)</small><table border=\"1\" class=\"dataframe\"><thead><tr><th>day</th><th>date</th><th>vessel_name</th><th>customer</th><th>OPERATION TYPE</th></tr><tr><td>enum</td><td>date</td><td>str</td><td>str</td><td>str</td></tr></thead><tbody><tr><td>&quot;Fri&quot;</td><td>2025-01-03</td><td>&quot;ARTZA&quot;</td><td>&quot;ATUNSA NV&quot;</td><td>&quot;Container Stuffing/ Transhipme…</td></tr><tr><td>&quot;Fri&quot;</td><td>2025-01-03</td><td>&quot;ALAKRANA&quot;</td><td>&quot;ECHEBASTAR&quot;</td><td>&quot;Container Stuffing&quot;</td></tr><tr><td>&quot;Sat&quot;</td><td>2025-01-04</td><td>&quot;ATERPE ALAI&quot;</td><td>&quot;ECHEBASTAR&quot;</td><td>&quot;Container Stuffing/ Unloading …</td></tr><tr><td>&quot;Sat&quot;</td><td>2025-01-04</td><td>&quot;ARTZA&quot;</td><td>&quot;ATUNSA NV&quot;</td><td>&quot;Container Stuffing/ Transhipme…</td></tr><tr><td>&quot;Sat&quot;</td><td>2025-01-04</td><td>&quot;ALAKRANA&quot;</td><td>&quot;ECHEBASTAR&quot;</td><td>&quot;Container Stuffing&quot;</td></tr><tr><td>&hellip;</td><td>&hellip;</td><td>&hellip;</td><td>&hellip;</td><td>&hellip;</td></tr><tr><td>&quot;Tue&quot;</td><td>2025-06-24</td><td>&quot;PLAYA DE ANZORAS&quot;</td><td>&quot;BEACH FISHING LIMITED&quot;</td><td>&quot;Transhipment&quot;</td></tr><tr><td>&quot;Wed&quot;</td><td>2025-06-25</td><td>&quot;JAI ALAI&quot;</td><td>&quot;HARTSWATER LIMITED&quot;</td><td>&quot;Transhipment&quot;</td></tr><tr><td>&quot;Wed&quot;</td><td>2025-06-25</td><td>&quot;ELAI ALAI&quot;</td><td>&quot;ECHEBASTAR&quot;</td><td>&quot;Container Stuffing/ Transhipme…</td></tr><tr><td>&quot;Wed&quot;</td><td>2025-06-25</td><td>&quot;BERNICA&quot;</td><td>&quot;SAPMER&quot;</td><td>&quot;Unloading to Quay&quot;</td></tr><tr><td>&quot;Wed&quot;</td><td>2025-06-25</td><td>&quot;TXORI AUNDI&quot;</td><td>&quot;INPESCA FISHING LTD&quot;</td><td>&quot;Unloading to CCCS&quot;</td></tr></tbody></table></div>"
      ],
      "text/plain": [
       "shape: (462, 5)\n",
       "┌──────┬────────────┬──────────────────┬───────────────────────┬─────────────────────────────────┐\n",
       "│ day  ┆ date       ┆ vessel_name      ┆ customer              ┆ OPERATION TYPE                  │\n",
       "│ ---  ┆ ---        ┆ ---              ┆ ---                   ┆ ---                             │\n",
       "│ enum ┆ date       ┆ str              ┆ str                   ┆ str                             │\n",
       "╞══════╪════════════╪══════════════════╪═══════════════════════╪═════════════════════════════════╡\n",
       "│ Fri  ┆ 2025-01-03 ┆ ARTZA            ┆ ATUNSA NV             ┆ Container Stuffing/ Transhipme… │\n",
       "│ Fri  ┆ 2025-01-03 ┆ ALAKRANA         ┆ ECHEBASTAR            ┆ Container Stuffing              │\n",
       "│ Sat  ┆ 2025-01-04 ┆ ATERPE ALAI      ┆ ECHEBASTAR            ┆ Container Stuffing/ Unloading … │\n",
       "│ Sat  ┆ 2025-01-04 ┆ ARTZA            ┆ ATUNSA NV             ┆ Container Stuffing/ Transhipme… │\n",
       "│ Sat  ┆ 2025-01-04 ┆ ALAKRANA         ┆ ECHEBASTAR            ┆ Container Stuffing              │\n",
       "│ …    ┆ …          ┆ …                ┆ …                     ┆ …                               │\n",
       "│ Tue  ┆ 2025-06-24 ┆ PLAYA DE ANZORAS ┆ BEACH FISHING LIMITED ┆ Transhipment                    │\n",
       "│ Wed  ┆ 2025-06-25 ┆ JAI ALAI         ┆ HARTSWATER LIMITED    ┆ Transhipment                    │\n",
       "│ Wed  ┆ 2025-06-25 ┆ ELAI ALAI        ┆ ECHEBASTAR            ┆ Container Stuffing/ Transhipme… │\n",
       "│ Wed  ┆ 2025-06-25 ┆ BERNICA          ┆ SAPMER                ┆ Unloading to Quay               │\n",
       "│ Wed  ┆ 2025-06-25 ┆ TXORI AUNDI      ┆ INPESCA FISHING LTD   ┆ Unloading to CCCS               │\n",
       "└──────┴────────────┴──────────────────┴───────────────────────┴─────────────────────────────────┘"
      ]
     },
     "execution_count": 4,
     "metadata": {},
     "output_type": "execute_result"
    }
   ],
   "source": [
    "pl.read_excel(dropbox.ops, sheet_name=\"HANDLING ACTIVITY\").filter(\n",
    "    pl.col(\"DATE\").is_not_null()\n",
    ").select(pl.col(\"DAY\").cast(DayName).alias(\"day\"), pl.col(\"DATE\").alias(\"date\"),\n",
    "pl.col(\"VESSEL NAME\").alias(\"vessel_name\"),\n",
    "pl.col(\"SHIPOWNER/OPERATOR\").alias(\"customer\"),\n",
    "pl.col(\"OPERATION TYPE\"))"
   ]
  },
  {
   "cell_type": "code",
   "execution_count": 6,
   "id": "d949b519",
   "metadata": {},
   "outputs": [
    {
     "data": {
      "text/html": [
       "<div><style>\n",
       ".dataframe > thead > tr,\n",
       ".dataframe > tbody > tr {\n",
       "  text-align: right;\n",
       "  white-space: pre-wrap;\n",
       "}\n",
       "</style>\n",
       "<small>shape: (171, 17)</small><table border=\"1\" class=\"dataframe\"><thead><tr><th>Month</th><th>VESSEL NAME</th><th>DATE IN</th><th>TIME IN</th><th>DATE OUT</th><th>TIME OUT</th><th>DURATION IN PORT</th><th>VALUE ($)</th><th>Test Column</th><th>DISCOUNT</th><th>INVOICE VALUE</th><th>INVOICING ENTITY</th><th>VESSEL TYPE</th><th>STATUS</th><th>COMMENTS</th><th>Total MTD</th><th>Berth Dues Refund Eligibility</th></tr><tr><td>i64</td><td>str</td><td>date</td><td>datetime[ms]</td><td>date</td><td>datetime[ms]</td><td>i64</td><td>i64</td><td>i64</td><td>i64</td><td>i64</td><td>str</td><td>str</td><td>str</td><td>str</td><td>str</td><td>str</td></tr></thead><tbody><tr><td>1</td><td>&quot;TXORI BAT&quot;</td><td>2025-01-02</td><td>1899-12-31 10:20:00</td><td>2025-01-04</td><td>1899-12-31 16:55:00</td><td>3</td><td>600</td><td>600</td><td>null</td><td>600</td><td>&quot;HARTSWATER LIMITED&quot;</td><td>&quot;SUPPLY BOAT&quot;</td><td>&quot;INVOICED&quot;</td><td>null</td><td>&quot;&quot;</td><td>&quot;N&quot;</td></tr><tr><td>1</td><td>&quot;ARTZA&quot;</td><td>2025-01-02</td><td>1899-12-31 17:26:00</td><td>2025-01-08</td><td>1899-12-31 07:20:00</td><td>6</td><td>8000</td><td>8000</td><td>-1500</td><td>6500</td><td>&quot;ATUNSA NV&quot;</td><td>&quot;FISHING VESSEL&quot;</td><td>&quot;INVOICED&quot;</td><td>&quot;5 days unloading / Last day sh…</td><td>&quot;&quot;</td><td>&quot;Y&quot;</td></tr><tr><td>1</td><td>&quot;ATERPE ALAI&quot;</td><td>2025-01-02</td><td>1899-12-31 18:10:00</td><td>2025-01-05</td><td>1899-12-31 17:00:00</td><td>3</td><td>3750</td><td>3750</td><td>-1250</td><td>2500</td><td>&quot;ECHEBASTAR FLEET SLU&quot;</td><td>&quot;FISHING VESSEL&quot;</td><td>&quot;INVOICED&quot;</td><td>&quot;2 days unloading / First day s…</td><td>&quot;&quot;</td><td>&quot;Y&quot;</td></tr><tr><td>1</td><td>&quot;SIERRA LARA&quot;</td><td>2025-01-02</td><td>1899-12-31 18:34:00</td><td>2025-01-06</td><td>1899-12-31 07:15:00</td><td>4</td><td>1000</td><td>1000</td><td>-100</td><td>900</td><td>&quot;SEAWARD CO. LTD&quot;</td><td>&quot;CARGO REEFER&quot;</td><td>&quot;INVOICED&quot;</td><td>&quot;3 days 2nd line / Last day sho…</td><td>&quot;&quot;</td><td>&quot;N&quot;</td></tr><tr><td>1</td><td>&quot;ALAKRANA&quot;</td><td>2025-01-03</td><td>1899-12-31 11:05:00</td><td>2025-01-10</td><td>1899-12-31 07:06:00</td><td>7</td><td>8750</td><td>8750</td><td>-1250</td><td>7500</td><td>&quot;ECHEBASTAR FLEET SLU&quot;</td><td>&quot;FISHING VESSEL&quot;</td><td>&quot;INVOICED&quot;</td><td>&quot;5 days unloading / 1 day on st…</td><td>&quot;&quot;</td><td>&quot;Y&quot;</td></tr><tr><td>&hellip;</td><td>&hellip;</td><td>&hellip;</td><td>&hellip;</td><td>&hellip;</td><td>&hellip;</td><td>&hellip;</td><td>&hellip;</td><td>&hellip;</td><td>&hellip;</td><td>&hellip;</td><td>&hellip;</td><td>&hellip;</td><td>&hellip;</td><td>&hellip;</td><td>&hellip;</td><td>&hellip;</td></tr><tr><td>6</td><td>&quot;PLAYA DE ANZORAS&quot;</td><td>2025-06-24</td><td>1899-12-31 07:13:00</td><td>2025-06-25</td><td>1899-12-31 06:35:00</td><td>1</td><td>1500</td><td>1500</td><td>null</td><td>1500</td><td>&quot;BEACH FISHING LIMITED&quot;</td><td>&quot;FISHING VESSEL&quot;</td><td>null</td><td>null</td><td>&quot;&quot;</td><td>null</td></tr><tr><td>6</td><td>&quot;BERNICA&quot;</td><td>2025-06-23</td><td>1899-12-31 14:50:00</td><td>null</td><td>null</td><td>null</td><td>0</td><td>0</td><td>null</td><td>0</td><td>&quot;SAPMER&quot;</td><td>&quot;FISHING VESSEL&quot;</td><td>null</td><td>null</td><td>&quot;&quot;</td><td>null</td></tr><tr><td>6</td><td>&quot;JAI ALAI&quot;</td><td>2025-06-23</td><td>1899-12-31 06:54:00</td><td>null</td><td>null</td><td>null</td><td>0</td><td>0</td><td>null</td><td>0</td><td>&quot;HARTSWATER LIMITED&quot;</td><td>&quot;FISHING VESSEL&quot;</td><td>null</td><td>null</td><td>&quot;&quot;</td><td>null</td></tr><tr><td>6</td><td>&quot;AFFINIS&quot;</td><td>2025-06-23</td><td>1899-12-31 07:40:00</td><td>null</td><td>null</td><td>null</td><td>0</td><td>0</td><td>null</td><td>0</td><td>&quot;PRINCESS TUNA&quot;</td><td>&quot;CARGO REEFER&quot;</td><td>null</td><td>null</td><td>&quot;&quot;</td><td>null</td></tr><tr><td>6</td><td>&quot;ELAI ALAI&quot;</td><td>2025-06-24</td><td>1899-12-31 08:22:00</td><td>null</td><td>null</td><td>null</td><td>0</td><td>0</td><td>null</td><td>0</td><td>&quot;ECHEBASTAR FLEET SLU&quot;</td><td>&quot;FISHING VESSEL&quot;</td><td>null</td><td>null</td><td>&quot;&quot;</td><td>null</td></tr></tbody></table></div>"
      ],
      "text/plain": [
       "shape: (171, 17)\n",
       "┌───────┬────────────┬────────────┬────────────┬───┬──────────┬────────────┬───────────┬───────────┐\n",
       "│ Month ┆ VESSEL     ┆ DATE IN    ┆ TIME IN    ┆ … ┆ STATUS   ┆ COMMENTS   ┆ Total MTD ┆ Berth     │\n",
       "│ ---   ┆ NAME       ┆ ---        ┆ ---        ┆   ┆ ---      ┆ ---        ┆ ---       ┆ Dues      │\n",
       "│ i64   ┆ ---        ┆ date       ┆ datetime[m ┆   ┆ str      ┆ str        ┆ str       ┆ Refund    │\n",
       "│       ┆ str        ┆            ┆ s]         ┆   ┆          ┆            ┆           ┆ Eligibili │\n",
       "│       ┆            ┆            ┆            ┆   ┆          ┆            ┆           ┆ ty        │\n",
       "│       ┆            ┆            ┆            ┆   ┆          ┆            ┆           ┆ ---       │\n",
       "│       ┆            ┆            ┆            ┆   ┆          ┆            ┆           ┆ str       │\n",
       "╞═══════╪════════════╪════════════╪════════════╪═══╪══════════╪════════════╪═══════════╪═══════════╡\n",
       "│ 1     ┆ TXORI BAT  ┆ 2025-01-02 ┆ 1899-12-31 ┆ … ┆ INVOICED ┆ null       ┆           ┆ N         │\n",
       "│       ┆            ┆            ┆ 10:20:00   ┆   ┆          ┆            ┆           ┆           │\n",
       "│ 1     ┆ ARTZA      ┆ 2025-01-02 ┆ 1899-12-31 ┆ … ┆ INVOICED ┆ 5 days     ┆           ┆ Y         │\n",
       "│       ┆            ┆            ┆ 17:26:00   ┆   ┆          ┆ unloading  ┆           ┆           │\n",
       "│       ┆            ┆            ┆            ┆   ┆          ┆ / Last day ┆           ┆           │\n",
       "│       ┆            ┆            ┆            ┆   ┆          ┆ sh…        ┆           ┆           │\n",
       "│ 1     ┆ ATERPE     ┆ 2025-01-02 ┆ 1899-12-31 ┆ … ┆ INVOICED ┆ 2 days     ┆           ┆ Y         │\n",
       "│       ┆ ALAI       ┆            ┆ 18:10:00   ┆   ┆          ┆ unloading  ┆           ┆           │\n",
       "│       ┆            ┆            ┆            ┆   ┆          ┆ / First    ┆           ┆           │\n",
       "│       ┆            ┆            ┆            ┆   ┆          ┆ day s…     ┆           ┆           │\n",
       "│ 1     ┆ SIERRA     ┆ 2025-01-02 ┆ 1899-12-31 ┆ … ┆ INVOICED ┆ 3 days 2nd ┆           ┆ N         │\n",
       "│       ┆ LARA       ┆            ┆ 18:34:00   ┆   ┆          ┆ line /     ┆           ┆           │\n",
       "│       ┆            ┆            ┆            ┆   ┆          ┆ Last day   ┆           ┆           │\n",
       "│       ┆            ┆            ┆            ┆   ┆          ┆ sho…       ┆           ┆           │\n",
       "│ 1     ┆ ALAKRANA   ┆ 2025-01-03 ┆ 1899-12-31 ┆ … ┆ INVOICED ┆ 5 days     ┆           ┆ Y         │\n",
       "│       ┆            ┆            ┆ 11:05:00   ┆   ┆          ┆ unloading  ┆           ┆           │\n",
       "│       ┆            ┆            ┆            ┆   ┆          ┆ / 1 day on ┆           ┆           │\n",
       "│       ┆            ┆            ┆            ┆   ┆          ┆ st…        ┆           ┆           │\n",
       "│ …     ┆ …          ┆ …          ┆ …          ┆ … ┆ …        ┆ …          ┆ …         ┆ …         │\n",
       "│ 6     ┆ PLAYA DE   ┆ 2025-06-24 ┆ 1899-12-31 ┆ … ┆ null     ┆ null       ┆           ┆ null      │\n",
       "│       ┆ ANZORAS    ┆            ┆ 07:13:00   ┆   ┆          ┆            ┆           ┆           │\n",
       "│ 6     ┆ BERNICA    ┆ 2025-06-23 ┆ 1899-12-31 ┆ … ┆ null     ┆ null       ┆           ┆ null      │\n",
       "│       ┆            ┆            ┆ 14:50:00   ┆   ┆          ┆            ┆           ┆           │\n",
       "│ 6     ┆ JAI ALAI   ┆ 2025-06-23 ┆ 1899-12-31 ┆ … ┆ null     ┆ null       ┆           ┆ null      │\n",
       "│       ┆            ┆            ┆ 06:54:00   ┆   ┆          ┆            ┆           ┆           │\n",
       "│ 6     ┆ AFFINIS    ┆ 2025-06-23 ┆ 1899-12-31 ┆ … ┆ null     ┆ null       ┆           ┆ null      │\n",
       "│       ┆            ┆            ┆ 07:40:00   ┆   ┆          ┆            ┆           ┆           │\n",
       "│ 6     ┆ ELAI ALAI  ┆ 2025-06-24 ┆ 1899-12-31 ┆ … ┆ null     ┆ null       ┆           ┆ null      │\n",
       "│       ┆            ┆            ┆ 08:22:00   ┆   ┆          ┆            ┆           ┆           │\n",
       "└───────┴────────────┴────────────┴────────────┴───┴──────────┴────────────┴───────────┴───────────┘"
      ]
     },
     "execution_count": 6,
     "metadata": {},
     "output_type": "execute_result"
    }
   ],
   "source": [
    "pl.read_excel(dropbox.ops, sheet_name=\"BERTH DUES IPHS\")"
   ]
  },
  {
   "cell_type": "code",
   "execution_count": 7,
   "id": "6fb6c0b4",
   "metadata": {},
   "outputs": [],
   "source": [
    "transfer_df: pl.LazyFrame = (\n",
    "    pl.read_excel(dropbox.transfer, sheet_name=\"Transfer\")\n",
    "    .lazy()\n",
    "    .select(\n",
    "        pl.col(\"Date\").alias(\"date\"),\n",
    "        pl.col(\"Container Ref. No.\").alias(\"container_number\"),\n",
    "        pl.col(\"Line/Client\").cast(pl.Categorical).alias(\"line\"),\n",
    "        pl.col(\"Movement Type\").alias(\"movement_type\"),\n",
    "        pl.col(\"Driver\").alias(\"driver\"),\n",
    "        pl.col(\"From\").alias(\"origin\"),\n",
    "        pl.col(\"Time out\")\n",
    "        .dt.to_string()\n",
    "        .str.extract(r\"(\\d{2}:\\d{2}:\\d{2})\")\n",
    "        .str.to_time(format=\"%H:%M:%S\")\n",
    "        .alias(\"time_out\"),\n",
    "        pl.col(\"Destination\").alias(\"destination\"),\n",
    "        pl.col(\"Time in\")\n",
    "        .dt.to_string()\n",
    "        .str.extract(r\"(\\d{2}:\\d{2}:\\d{2})\")\n",
    "        .str.to_time(format=\"%H:%M:%S\")\n",
    "        .alias(\"time_in\"),\n",
    "        pl.col(\"Status\").alias(\"status\"),\n",
    "        pl.col(\"Type\").alias(\"type\"),\n",
    "        pl.col(\"Size\").alias(\"size\"),\n",
    "        pl.col(\"Remarks\").alias(\"remarks\"),\n",
    "    )\n",
    ")"
   ]
  },
  {
   "cell_type": "code",
   "execution_count": 8,
   "id": "f588c5ad",
   "metadata": {},
   "outputs": [
    {
     "data": {
      "text/html": [
       "<div><style>\n",
       ".dataframe > thead > tr,\n",
       ".dataframe > tbody > tr {\n",
       "  text-align: right;\n",
       "  white-space: pre-wrap;\n",
       "}\n",
       "</style>\n",
       "<small>shape: (6_020, 13)</small><table border=\"1\" class=\"dataframe\"><thead><tr><th>date</th><th>container_number</th><th>line</th><th>movement_type</th><th>driver</th><th>origin</th><th>time_out</th><th>destination</th><th>time_in</th><th>status</th><th>type</th><th>size</th><th>remarks</th></tr><tr><td>date</td><td>str</td><td>cat</td><td>str</td><td>str</td><td>str</td><td>time</td><td>str</td><td>time</td><td>str</td><td>str</td><td>str</td><td>str</td></tr></thead><tbody><tr><td>2024-08-09</td><td>&quot;MSFU0002762&quot;</td><td>&quot;MAERSK&quot;</td><td>&quot;Collection&quot;</td><td>&quot;Paul&quot;</td><td>&quot;LML&quot;</td><td>10:15:00</td><td>&quot;IPHS&quot;</td><td>10:30:00</td><td>&quot;Empty&quot;</td><td>&quot;Reefer&quot;</td><td>&quot;40&#x27;&quot;</td><td>&quot;Maersk Depot&quot;</td></tr><tr><td>2024-11-23</td><td>&quot;MNBU0298795&quot;</td><td>&quot;MAERSK&quot;</td><td>&quot;Collection&quot;</td><td>&quot;Hubert J&quot;</td><td>&quot;LML&quot;</td><td>09:16:00</td><td>&quot;IPHS&quot;</td><td>09:26:00</td><td>&quot;Empty&quot;</td><td>&quot;Reefer&quot;</td><td>&quot;40&#x27;&quot;</td><td>&quot;Maersk Depot&quot;</td></tr><tr><td>2024-11-29</td><td>&quot;TRIU8055553&quot;</td><td>&quot;CMA CGM&quot;</td><td>&quot;Collection&quot;</td><td>&quot;Hunt Deltel (IPHS)&quot;</td><td>&quot;LML&quot;</td><td>09:44:00</td><td>&quot;IPHS&quot;</td><td>09:54:00</td><td>&quot;Empty&quot;</td><td>&quot;Reefer&quot;</td><td>&quot;40&#x27;&quot;</td><td>&quot;CMA CGM Depot&quot;</td></tr><tr><td>2024-12-01</td><td>&quot;MMAU1016557&quot;</td><td>&quot;MAERSK&quot;</td><td>&quot;Collection&quot;</td><td>&quot;Land Marine (IPHS)&quot;</td><td>&quot;LML&quot;</td><td>21:20:00</td><td>&quot;IPHS&quot;</td><td>21:29:00</td><td>&quot;Empty&quot;</td><td>&quot;Reefer&quot;</td><td>&quot;40&#x27;&quot;</td><td>&quot;Maersk Depot&quot;</td></tr><tr><td>2024-12-01</td><td>&quot;MMAU1031340&quot;</td><td>&quot;MAERSK&quot;</td><td>&quot;Collection&quot;</td><td>&quot;Land Marine (IPHS)&quot;</td><td>&quot;LML&quot;</td><td>20:00:00</td><td>&quot;IPHS&quot;</td><td>20:11:00</td><td>&quot;Empty&quot;</td><td>&quot;Reefer&quot;</td><td>&quot;40&#x27;&quot;</td><td>&quot;Maersk Depot&quot;</td></tr><tr><td>&hellip;</td><td>&hellip;</td><td>&hellip;</td><td>&hellip;</td><td>&hellip;</td><td>&hellip;</td><td>&hellip;</td><td>&hellip;</td><td>&hellip;</td><td>&hellip;</td><td>&hellip;</td><td>&hellip;</td><td>&hellip;</td></tr><tr><td>2025-06-26</td><td>&quot;MNBU3302380&quot;</td><td>&quot;MAERSK&quot;</td><td>&quot;Collection&quot;</td><td>&quot;Paul&quot;</td><td>&quot;LML&quot;</td><td>10:04:00</td><td>&quot;IPHS&quot;</td><td>10:14:00</td><td>&quot;Empty&quot;</td><td>&quot;Reefer&quot;</td><td>&quot;40&#x27;&quot;</td><td>&quot;Maersk Depot&quot;</td></tr><tr><td>2025-06-26</td><td>&quot;SUDU8210281&quot;</td><td>&quot;MAERSK&quot;</td><td>&quot;Collection&quot;</td><td>&quot;Paul&quot;</td><td>&quot;LML&quot;</td><td>11:38:00</td><td>&quot;IPHS&quot;</td><td>11:48:00</td><td>&quot;Empty&quot;</td><td>&quot;Reefer&quot;</td><td>&quot;40&#x27;&quot;</td><td>&quot;Maersk Depot&quot;</td></tr><tr><td>2025-06-26</td><td>&quot;MNBU4340126&quot;</td><td>&quot;MAERSK&quot;</td><td>&quot;Collection&quot;</td><td>&quot;Paul&quot;</td><td>&quot;LML&quot;</td><td>13:25:00</td><td>&quot;IPHS&quot;</td><td>13:37:00</td><td>&quot;Empty&quot;</td><td>&quot;Reefer&quot;</td><td>&quot;40&#x27;&quot;</td><td>&quot;Maersk Depot&quot;</td></tr><tr><td>2025-06-26</td><td>&quot;MNBU9123231&quot;</td><td>&quot;MAERSK&quot;</td><td>&quot;Collection&quot;</td><td>&quot;Paul&quot;</td><td>&quot;LML&quot;</td><td>13:50:00</td><td>&quot;IPHS&quot;</td><td>14:06:00</td><td>&quot;Empty&quot;</td><td>&quot;Reefer&quot;</td><td>&quot;40&#x27;&quot;</td><td>&quot;Maersk Depot&quot;</td></tr><tr><td>2025-06-26</td><td>&quot;MNBU4073523&quot;</td><td>&quot;MAERSK&quot;</td><td>&quot;Collection&quot;</td><td>&quot;Paul&quot;</td><td>&quot;LML&quot;</td><td>14:45:00</td><td>&quot;IPHS&quot;</td><td>14:54:00</td><td>&quot;Empty&quot;</td><td>&quot;Reefer&quot;</td><td>&quot;40&#x27;&quot;</td><td>&quot;Maersk Depot&quot;</td></tr></tbody></table></div>"
      ],
      "text/plain": [
       "shape: (6_020, 13)\n",
       "┌────────────┬───────────────┬─────────┬───────────────┬───┬────────┬────────┬──────┬──────────────┐\n",
       "│ date       ┆ container_num ┆ line    ┆ movement_type ┆ … ┆ status ┆ type   ┆ size ┆ remarks      │\n",
       "│ ---        ┆ ber           ┆ ---     ┆ ---           ┆   ┆ ---    ┆ ---    ┆ ---  ┆ ---          │\n",
       "│ date       ┆ ---           ┆ cat     ┆ str           ┆   ┆ str    ┆ str    ┆ str  ┆ str          │\n",
       "│            ┆ str           ┆         ┆               ┆   ┆        ┆        ┆      ┆              │\n",
       "╞════════════╪═══════════════╪═════════╪═══════════════╪═══╪════════╪════════╪══════╪══════════════╡\n",
       "│ 2024-08-09 ┆ MSFU0002762   ┆ MAERSK  ┆ Collection    ┆ … ┆ Empty  ┆ Reefer ┆ 40'  ┆ Maersk Depot │\n",
       "│ 2024-11-23 ┆ MNBU0298795   ┆ MAERSK  ┆ Collection    ┆ … ┆ Empty  ┆ Reefer ┆ 40'  ┆ Maersk Depot │\n",
       "│ 2024-11-29 ┆ TRIU8055553   ┆ CMA CGM ┆ Collection    ┆ … ┆ Empty  ┆ Reefer ┆ 40'  ┆ CMA CGM      │\n",
       "│            ┆               ┆         ┆               ┆   ┆        ┆        ┆      ┆ Depot        │\n",
       "│ 2024-12-01 ┆ MMAU1016557   ┆ MAERSK  ┆ Collection    ┆ … ┆ Empty  ┆ Reefer ┆ 40'  ┆ Maersk Depot │\n",
       "│ 2024-12-01 ┆ MMAU1031340   ┆ MAERSK  ┆ Collection    ┆ … ┆ Empty  ┆ Reefer ┆ 40'  ┆ Maersk Depot │\n",
       "│ …          ┆ …             ┆ …       ┆ …             ┆ … ┆ …      ┆ …      ┆ …    ┆ …            │\n",
       "│ 2025-06-26 ┆ MNBU3302380   ┆ MAERSK  ┆ Collection    ┆ … ┆ Empty  ┆ Reefer ┆ 40'  ┆ Maersk Depot │\n",
       "│ 2025-06-26 ┆ SUDU8210281   ┆ MAERSK  ┆ Collection    ┆ … ┆ Empty  ┆ Reefer ┆ 40'  ┆ Maersk Depot │\n",
       "│ 2025-06-26 ┆ MNBU4340126   ┆ MAERSK  ┆ Collection    ┆ … ┆ Empty  ┆ Reefer ┆ 40'  ┆ Maersk Depot │\n",
       "│ 2025-06-26 ┆ MNBU9123231   ┆ MAERSK  ┆ Collection    ┆ … ┆ Empty  ┆ Reefer ┆ 40'  ┆ Maersk Depot │\n",
       "│ 2025-06-26 ┆ MNBU4073523   ┆ MAERSK  ┆ Collection    ┆ … ┆ Empty  ┆ Reefer ┆ 40'  ┆ Maersk Depot │\n",
       "└────────────┴───────────────┴─────────┴───────────────┴───┴────────┴────────┴──────┴──────────────┘"
      ]
     },
     "execution_count": 8,
     "metadata": {},
     "output_type": "execute_result"
    }
   ],
   "source": [
    "transfer_df.collect()"
   ]
  },
  {
   "cell_type": "code",
   "execution_count": 9,
   "id": "7b40698a",
   "metadata": {},
   "outputs": [],
   "source": [
    "transfer_with_duration = transfer_df.with_columns(\n",
    "    duration=pl.when(\n",
    "        # Check if time_in is between midnight and 7:59 AM\n",
    "        # AND time_out is later in the day (crossing midnight)\n",
    "        (pl.col(\"time_in\").is_between(time(0, 0, 0), time(7, 59, 59)))\n",
    "        .and_(pl.col(\"time_out\").is_between(time(8, 0, 0), time(23, 59, 59)))\n",
    "        .and_(pl.col(\"time_in\").lt(pl.col(\"time_out\")))\n",
    "    )\n",
    "    .then(\n",
    "        # Add one day to time_in when crossing midnight\n",
    "        (pl.col(\"date\") + pl.duration(days=1)).dt.combine(pl.col(\"time_in\"))\n",
    "        - pl.col(\"date\").dt.combine(pl.col(\"time_out\"))\n",
    "    )\n",
    "    .otherwise(\n",
    "        # Normal case: same day calculation\n",
    "        pl.col(\"date\").dt.combine(pl.col(\"time_in\"))\n",
    "        - pl.col(\"date\").dt.combine(pl.col(\"time_out\"))\n",
    "    )\n",
    ").collect()"
   ]
  },
  {
   "cell_type": "code",
   "execution_count": null,
   "id": "8833499d",
   "metadata": {},
   "outputs": [
    {
     "data": {
      "text/html": [
       "<div><style>\n",
       ".dataframe > thead > tr,\n",
       ".dataframe > tbody > tr {\n",
       "  text-align: right;\n",
       "  white-space: pre-wrap;\n",
       "}\n",
       "</style>\n",
       "<small>shape: (22, 5)</small><table border=\"1\" class=\"dataframe\"><thead><tr><th>date</th><th>container_number</th><th>movement_type</th><th>driver</th><th>duration</th></tr><tr><td>date</td><td>str</td><td>str</td><td>str</td><td>str</td></tr></thead><tbody><tr><td>2024-12-02</td><td>&quot;MNBU3894777&quot;</td><td>&quot;Collection&quot;</td><td>&quot;Land Marine (IPHS)&quot;</td><td>&quot;-0:40&quot;</td></tr><tr><td>2025-06-23</td><td>&quot;MNBU4444239&quot;</td><td>&quot;Collection&quot;</td><td>&quot;Hubert J&quot;</td><td>&quot;-0:10&quot;</td></tr><tr><td>2025-06-23</td><td>&quot;MMAU1301575&quot;</td><td>&quot;Collection&quot;</td><td>&quot;Hubert J&quot;</td><td>&quot;-0:06&quot;</td></tr><tr><td>2025-06-23</td><td>&quot;MNBU3499854&quot;</td><td>&quot;Collection&quot;</td><td>&quot;Hubert J&quot;</td><td>&quot;-0:10&quot;</td></tr><tr><td>2025-06-23</td><td>&quot;MNBU9021939&quot;</td><td>&quot;Collection&quot;</td><td>&quot;Hubert J&quot;</td><td>&quot;-0:10&quot;</td></tr><tr><td>&hellip;</td><td>&hellip;</td><td>&hellip;</td><td>&hellip;</td><td>&hellip;</td></tr><tr><td>2025-06-23</td><td>&quot;MNBU4561343&quot;</td><td>&quot;Collection&quot;</td><td>&quot;Paul&quot;</td><td>&quot;-0:10&quot;</td></tr><tr><td>2025-06-23</td><td>&quot;MNBU0284683&quot;</td><td>&quot;Collection&quot;</td><td>&quot;Paul&quot;</td><td>&quot;-0:10&quot;</td></tr><tr><td>2025-06-23</td><td>&quot;MNBU3916557&quot;</td><td>&quot;Collection&quot;</td><td>&quot;Paul&quot;</td><td>&quot;-0:11&quot;</td></tr><tr><td>2025-06-23</td><td>&quot;MNBU3751077&quot;</td><td>&quot;Collection&quot;</td><td>&quot;Paul&quot;</td><td>&quot;-0:10&quot;</td></tr><tr><td>2025-06-23</td><td>&quot;MNBU0208410&quot;</td><td>&quot;Collection&quot;</td><td>&quot;Paul&quot;</td><td>&quot;-0:10&quot;</td></tr></tbody></table></div>"
      ],
      "text/plain": [
       "shape: (22, 5)\n",
       "┌────────────┬──────────────────┬───────────────┬────────────────────┬──────────┐\n",
       "│ date       ┆ container_number ┆ movement_type ┆ driver             ┆ duration │\n",
       "│ ---        ┆ ---              ┆ ---           ┆ ---                ┆ ---      │\n",
       "│ date       ┆ str              ┆ str           ┆ str                ┆ str      │\n",
       "╞════════════╪══════════════════╪═══════════════╪════════════════════╪══════════╡\n",
       "│ 2024-12-02 ┆ MNBU3894777      ┆ Collection    ┆ Land Marine (IPHS) ┆ -0:40    │\n",
       "│ 2025-06-23 ┆ MNBU4444239      ┆ Collection    ┆ Hubert J           ┆ -0:10    │\n",
       "│ 2025-06-23 ┆ MMAU1301575      ┆ Collection    ┆ Hubert J           ┆ -0:06    │\n",
       "│ 2025-06-23 ┆ MNBU3499854      ┆ Collection    ┆ Hubert J           ┆ -0:10    │\n",
       "│ 2025-06-23 ┆ MNBU9021939      ┆ Collection    ┆ Hubert J           ┆ -0:10    │\n",
       "│ …          ┆ …                ┆ …             ┆ …                  ┆ …        │\n",
       "│ 2025-06-23 ┆ MNBU4561343      ┆ Collection    ┆ Paul               ┆ -0:10    │\n",
       "│ 2025-06-23 ┆ MNBU0284683      ┆ Collection    ┆ Paul               ┆ -0:10    │\n",
       "│ 2025-06-23 ┆ MNBU3916557      ┆ Collection    ┆ Paul               ┆ -0:11    │\n",
       "│ 2025-06-23 ┆ MNBU3751077      ┆ Collection    ┆ Paul               ┆ -0:10    │\n",
       "│ 2025-06-23 ┆ MNBU0208410      ┆ Collection    ┆ Paul               ┆ -0:10    │\n",
       "└────────────┴──────────────────┴───────────────┴────────────────────┴──────────┘"
      ]
     },
     "execution_count": 19,
     "metadata": {},
     "output_type": "execute_result"
    }
   ],
   "source": [
    "print(\"Negative Duration\")\n",
    "\n",
    "transfer_with_duration.filter(pl.col(\"duration\").lt(pl.duration())).with_columns([\n",
    "    pl.col(\"duration\").dt.total_seconds().abs().alias(\"abs_seconds\"),\n",
    "    (pl.col(\"duration\").dt.total_seconds() < 0).alias(\"is_negative\")\n",
    "]).select(\n",
    "    pl.col(\"date\"),\n",
    "    pl.col(\"container_number\"),\n",
    "    pl.col(\"movement_type\"),\n",
    "    pl.col(\"driver\"),\n",
    "    (\n",
    "        pl.when(pl.col(\"is_negative\")).then(pl.lit(\"-\")).otherwise(pl.lit(\"\")) +\n",
    "        (pl.col(\"abs_seconds\") // 3600).cast(pl.Int32).cast(pl.String) +\n",
    "        \":\" +\n",
    "        ((pl.col(\"abs_seconds\") % 3600) // 60).cast(pl.Int32).cast(pl.String).str.pad_start(2, \"0\")\n",
    "    ).alias(\"duration\")\n",
    ")"
   ]
  },
  {
   "cell_type": "code",
   "execution_count": 11,
   "id": "1f8cc295",
   "metadata": {},
   "outputs": [
    {
     "name": "stdout",
     "output_type": "stream",
     "text": [
      "High Duration (above 1h)\n"
     ]
    },
    {
     "data": {
      "text/html": [
       "<div><style>\n",
       ".dataframe > thead > tr,\n",
       ".dataframe > tbody > tr {\n",
       "  text-align: right;\n",
       "  white-space: pre-wrap;\n",
       "}\n",
       "</style>\n",
       "<small>shape: (9, 5)</small><table border=\"1\" class=\"dataframe\"><thead><tr><th>date</th><th>container_number</th><th>movement_type</th><th>driver</th><th>duration</th></tr><tr><td>date</td><td>str</td><td>str</td><td>str</td><td>duration[μs]</td></tr></thead><tbody><tr><td>2024-12-01</td><td>&quot;MNBU0649035&quot;</td><td>&quot;Collection&quot;</td><td>&quot;Land Marine (IPHS)&quot;</td><td>2h 10m</td></tr><tr><td>2024-12-02</td><td>&quot;MNBU3369315&quot;</td><td>&quot;Collection&quot;</td><td>&quot;Land Marine (IPHS)&quot;</td><td>4h 10m</td></tr><tr><td>2025-03-21</td><td>&quot;MNBU3408371&quot;</td><td>&quot;Collection&quot;</td><td>&quot;Hunt Deltel (IPHS)&quot;</td><td>3h 26m</td></tr><tr><td>2025-03-21</td><td>&quot;MNBU3127013&quot;</td><td>&quot;Collection&quot;</td><td>&quot;Hunt Deltel (IPHS)&quot;</td><td>2h 59m</td></tr><tr><td>2025-04-01</td><td>&quot;TLLU1173780&quot;</td><td>&quot;Delivery&quot;</td><td>&quot;Marcel&quot;</td><td>1h 10m</td></tr><tr><td>2025-04-15</td><td>&quot;MNBU4562972&quot;</td><td>&quot;Delivery&quot;</td><td>&quot;Nicodemus&quot;</td><td>1h 10m</td></tr><tr><td>2025-04-17</td><td>&quot;MNBU4145330&quot;</td><td>&quot;Delivery&quot;</td><td>&quot;Hunt Deltel (IPHS)&quot;</td><td>1h 10m</td></tr><tr><td>2025-04-18</td><td>&quot;MNBU0615415&quot;</td><td>&quot;Collection&quot;</td><td>&quot;Nicodemus&quot;</td><td>1h 10m</td></tr><tr><td>2025-06-02</td><td>&quot;MMAU1200559&quot;</td><td>&quot;Collection&quot;</td><td>&quot;Paul&quot;</td><td>3h 10m</td></tr></tbody></table></div>"
      ],
      "text/plain": [
       "shape: (9, 5)\n",
       "┌────────────┬──────────────────┬───────────────┬────────────────────┬──────────────┐\n",
       "│ date       ┆ container_number ┆ movement_type ┆ driver             ┆ duration     │\n",
       "│ ---        ┆ ---              ┆ ---           ┆ ---                ┆ ---          │\n",
       "│ date       ┆ str              ┆ str           ┆ str                ┆ duration[μs] │\n",
       "╞════════════╪══════════════════╪═══════════════╪════════════════════╪══════════════╡\n",
       "│ 2024-12-01 ┆ MNBU0649035      ┆ Collection    ┆ Land Marine (IPHS) ┆ 2h 10m       │\n",
       "│ 2024-12-02 ┆ MNBU3369315      ┆ Collection    ┆ Land Marine (IPHS) ┆ 4h 10m       │\n",
       "│ 2025-03-21 ┆ MNBU3408371      ┆ Collection    ┆ Hunt Deltel (IPHS) ┆ 3h 26m       │\n",
       "│ 2025-03-21 ┆ MNBU3127013      ┆ Collection    ┆ Hunt Deltel (IPHS) ┆ 2h 59m       │\n",
       "│ 2025-04-01 ┆ TLLU1173780      ┆ Delivery      ┆ Marcel             ┆ 1h 10m       │\n",
       "│ 2025-04-15 ┆ MNBU4562972      ┆ Delivery      ┆ Nicodemus          ┆ 1h 10m       │\n",
       "│ 2025-04-17 ┆ MNBU4145330      ┆ Delivery      ┆ Hunt Deltel (IPHS) ┆ 1h 10m       │\n",
       "│ 2025-04-18 ┆ MNBU0615415      ┆ Collection    ┆ Nicodemus          ┆ 1h 10m       │\n",
       "│ 2025-06-02 ┆ MMAU1200559      ┆ Collection    ┆ Paul               ┆ 3h 10m       │\n",
       "└────────────┴──────────────────┴───────────────┴────────────────────┴──────────────┘"
      ]
     },
     "execution_count": 11,
     "metadata": {},
     "output_type": "execute_result"
    }
   ],
   "source": [
    "print(\"High Duration (above 1h)\")\n",
    "\n",
    "transfer_with_duration.filter(pl.col(\"duration\").gt(pl.duration(minutes=60))).select(\n",
    "    pl.col(\"date\"),\n",
    "    pl.col(\"container_number\"),\n",
    "    pl.col(\"movement_type\"),\n",
    "    pl.col(\"driver\"),\n",
    "    pl.col(\"duration\"),\n",
    ")"
   ]
  },
  {
   "cell_type": "code",
   "execution_count": 20,
   "id": "da333539",
   "metadata": {},
   "outputs": [
    {
     "data": {
      "text/html": [
       "<div><style>\n",
       ".dataframe > thead > tr,\n",
       ".dataframe > tbody > tr {\n",
       "  text-align: right;\n",
       "  white-space: pre-wrap;\n",
       "}\n",
       "</style>\n",
       "<small>shape: (1, 14)</small><table border=\"1\" class=\"dataframe\"><thead><tr><th>date</th><th>container_number</th><th>line</th><th>movement_type</th><th>driver</th><th>origin</th><th>time_out</th><th>destination</th><th>time_in</th><th>status</th><th>type</th><th>size</th><th>remarks</th><th>duration</th></tr><tr><td>date</td><td>str</td><td>cat</td><td>str</td><td>str</td><td>str</td><td>time</td><td>str</td><td>time</td><td>str</td><td>str</td><td>str</td><td>str</td><td>duration[μs]</td></tr></thead><tbody><tr><td>2025-06-02</td><td>&quot;MMAU1200559&quot;</td><td>&quot;MAERSK&quot;</td><td>&quot;Collection&quot;</td><td>&quot;Paul&quot;</td><td>&quot;LML&quot;</td><td>13:03:00</td><td>&quot;IPHS&quot;</td><td>16:13:00</td><td>&quot;Empty&quot;</td><td>&quot;Reefer&quot;</td><td>&quot;40&#x27;&quot;</td><td>&quot;Maersk Depot&quot;</td><td>3h 10m</td></tr></tbody></table></div>"
      ],
      "text/plain": [
       "shape: (1, 14)\n",
       "┌────────────┬───────────────┬────────┬───────────────┬───┬────────┬──────┬─────────┬──────────────┐\n",
       "│ date       ┆ container_num ┆ line   ┆ movement_type ┆ … ┆ type   ┆ size ┆ remarks ┆ duration     │\n",
       "│ ---        ┆ ber           ┆ ---    ┆ ---           ┆   ┆ ---    ┆ ---  ┆ ---     ┆ ---          │\n",
       "│ date       ┆ ---           ┆ cat    ┆ str           ┆   ┆ str    ┆ str  ┆ str     ┆ duration[μs] │\n",
       "│            ┆ str           ┆        ┆               ┆   ┆        ┆      ┆         ┆              │\n",
       "╞════════════╪═══════════════╪════════╪═══════════════╪═══╪════════╪══════╪═════════╪══════════════╡\n",
       "│ 2025-06-02 ┆ MMAU1200559   ┆ MAERSK ┆ Collection    ┆ … ┆ Reefer ┆ 40'  ┆ Maersk  ┆ 3h 10m       │\n",
       "│            ┆               ┆        ┆               ┆   ┆        ┆      ┆ Depot   ┆              │\n",
       "└────────────┴───────────────┴────────┴───────────────┴───┴────────┴──────┴─────────┴──────────────┘"
      ]
     },
     "execution_count": 20,
     "metadata": {},
     "output_type": "execute_result"
    }
   ],
   "source": [
    "transfer_with_duration.filter(pl.col(\"container_number\").eq(\"MMAU1200559\"))"
   ]
  },
  {
   "cell_type": "markdown",
   "id": "0ab102b1",
   "metadata": {},
   "source": [
    "### Duplicated record"
   ]
  },
  {
   "cell_type": "code",
   "execution_count": 21,
   "id": "52d96f6b",
   "metadata": {},
   "outputs": [
    {
     "data": {
      "text/html": [
       "<div><style>\n",
       ".dataframe > thead > tr,\n",
       ".dataframe > tbody > tr {\n",
       "  text-align: right;\n",
       "  white-space: pre-wrap;\n",
       "}\n",
       "</style>\n",
       "<small>shape: (0, 14)</small><table border=\"1\" class=\"dataframe\"><thead><tr><th>date</th><th>container_number</th><th>line</th><th>movement_type</th><th>driver</th><th>origin</th><th>time_out</th><th>destination</th><th>time_in</th><th>status</th><th>type</th><th>size</th><th>remarks</th><th>idx</th></tr><tr><td>date</td><td>str</td><td>cat</td><td>str</td><td>str</td><td>str</td><td>time</td><td>str</td><td>time</td><td>str</td><td>str</td><td>str</td><td>str</td><td>str</td></tr></thead><tbody></tbody></table></div>"
      ],
      "text/plain": [
       "shape: (0, 14)\n",
       "┌──────┬──────────────────┬──────┬───────────────┬───┬──────┬──────┬─────────┬─────┐\n",
       "│ date ┆ container_number ┆ line ┆ movement_type ┆ … ┆ type ┆ size ┆ remarks ┆ idx │\n",
       "│ ---  ┆ ---              ┆ ---  ┆ ---           ┆   ┆ ---  ┆ ---  ┆ ---     ┆ --- │\n",
       "│ date ┆ str              ┆ cat  ┆ str           ┆   ┆ str  ┆ str  ┆ str     ┆ str │\n",
       "╞══════╪══════════════════╪══════╪═══════════════╪═══╪══════╪══════╪═════════╪═════╡\n",
       "└──────┴──────────────────┴──────┴───────────────┴───┴──────┴──────┴─────────┴─────┘"
      ]
     },
     "execution_count": 21,
     "metadata": {},
     "output_type": "execute_result"
    }
   ],
   "source": [
    "transfer_df.with_columns(\n",
    "    idx=pl.col(\"container_number\")\n",
    "    + pl.col(\"date\").dt.to_string(format=\"%d%m%Y\")\n",
    "    + pl.col(\"movement_type\")\n",
    ").filter(pl.col(\"idx\").is_duplicated()).collect()"
   ]
  },
  {
   "cell_type": "code",
   "execution_count": 22,
   "id": "326a7d6a",
   "metadata": {},
   "outputs": [
    {
     "data": {
      "text/html": [
       "<div><style>\n",
       ".dataframe > thead > tr,\n",
       ".dataframe > tbody > tr {\n",
       "  text-align: right;\n",
       "  white-space: pre-wrap;\n",
       "}\n",
       "</style>\n",
       "<small>shape: (6_020, 16)</small><table border=\"1\" class=\"dataframe\"><thead><tr><th>date</th><th>container_number</th><th>line</th><th>movement_type</th><th>driver</th><th>origin</th><th>time_out</th><th>destination</th><th>time_in</th><th>status</th><th>type</th><th>size</th><th>remarks</th><th>start_datetime</th><th>end_datetime</th><th>service_id</th></tr><tr><td>date</td><td>str</td><td>cat</td><td>str</td><td>str</td><td>str</td><td>time</td><td>str</td><td>time</td><td>str</td><td>str</td><td>str</td><td>str</td><td>datetime[μs]</td><td>datetime[μs]</td><td>i64</td></tr></thead><tbody><tr><td>2024-08-09</td><td>&quot;MSFU0002762&quot;</td><td>&quot;MAERSK&quot;</td><td>&quot;Collection&quot;</td><td>&quot;Paul&quot;</td><td>&quot;LML&quot;</td><td>10:15:00</td><td>&quot;IPHS&quot;</td><td>10:30:00</td><td>&quot;Empty&quot;</td><td>&quot;Reefer&quot;</td><td>&quot;40&#x27;&quot;</td><td>&quot;Maersk Depot&quot;</td><td>2024-08-09 10:15:00</td><td>2024-08-09 10:30:00</td><td>0</td></tr><tr><td>2024-11-23</td><td>&quot;MNBU0298795&quot;</td><td>&quot;MAERSK&quot;</td><td>&quot;Collection&quot;</td><td>&quot;Hubert J&quot;</td><td>&quot;LML&quot;</td><td>09:16:00</td><td>&quot;IPHS&quot;</td><td>09:26:00</td><td>&quot;Empty&quot;</td><td>&quot;Reefer&quot;</td><td>&quot;40&#x27;&quot;</td><td>&quot;Maersk Depot&quot;</td><td>2024-11-23 09:16:00</td><td>2024-11-23 09:26:00</td><td>1</td></tr><tr><td>2024-11-29</td><td>&quot;TRIU8055553&quot;</td><td>&quot;CMA CGM&quot;</td><td>&quot;Collection&quot;</td><td>&quot;Hunt Deltel (IPHS)&quot;</td><td>&quot;LML&quot;</td><td>09:44:00</td><td>&quot;IPHS&quot;</td><td>09:54:00</td><td>&quot;Empty&quot;</td><td>&quot;Reefer&quot;</td><td>&quot;40&#x27;&quot;</td><td>&quot;CMA CGM Depot&quot;</td><td>2024-11-29 09:44:00</td><td>2024-11-29 09:54:00</td><td>2</td></tr><tr><td>2024-12-01</td><td>&quot;MMAU1016557&quot;</td><td>&quot;MAERSK&quot;</td><td>&quot;Collection&quot;</td><td>&quot;Land Marine (IPHS)&quot;</td><td>&quot;LML&quot;</td><td>21:20:00</td><td>&quot;IPHS&quot;</td><td>21:29:00</td><td>&quot;Empty&quot;</td><td>&quot;Reefer&quot;</td><td>&quot;40&#x27;&quot;</td><td>&quot;Maersk Depot&quot;</td><td>2024-12-01 21:20:00</td><td>2024-12-01 21:29:00</td><td>3</td></tr><tr><td>2024-12-01</td><td>&quot;MMAU1031340&quot;</td><td>&quot;MAERSK&quot;</td><td>&quot;Collection&quot;</td><td>&quot;Land Marine (IPHS)&quot;</td><td>&quot;LML&quot;</td><td>20:00:00</td><td>&quot;IPHS&quot;</td><td>20:11:00</td><td>&quot;Empty&quot;</td><td>&quot;Reefer&quot;</td><td>&quot;40&#x27;&quot;</td><td>&quot;Maersk Depot&quot;</td><td>2024-12-01 20:00:00</td><td>2024-12-01 20:11:00</td><td>4</td></tr><tr><td>&hellip;</td><td>&hellip;</td><td>&hellip;</td><td>&hellip;</td><td>&hellip;</td><td>&hellip;</td><td>&hellip;</td><td>&hellip;</td><td>&hellip;</td><td>&hellip;</td><td>&hellip;</td><td>&hellip;</td><td>&hellip;</td><td>&hellip;</td><td>&hellip;</td><td>&hellip;</td></tr><tr><td>2025-06-26</td><td>&quot;MNBU3302380&quot;</td><td>&quot;MAERSK&quot;</td><td>&quot;Collection&quot;</td><td>&quot;Paul&quot;</td><td>&quot;LML&quot;</td><td>10:04:00</td><td>&quot;IPHS&quot;</td><td>10:14:00</td><td>&quot;Empty&quot;</td><td>&quot;Reefer&quot;</td><td>&quot;40&#x27;&quot;</td><td>&quot;Maersk Depot&quot;</td><td>2025-06-26 10:04:00</td><td>2025-06-26 10:14:00</td><td>6015</td></tr><tr><td>2025-06-26</td><td>&quot;SUDU8210281&quot;</td><td>&quot;MAERSK&quot;</td><td>&quot;Collection&quot;</td><td>&quot;Paul&quot;</td><td>&quot;LML&quot;</td><td>11:38:00</td><td>&quot;IPHS&quot;</td><td>11:48:00</td><td>&quot;Empty&quot;</td><td>&quot;Reefer&quot;</td><td>&quot;40&#x27;&quot;</td><td>&quot;Maersk Depot&quot;</td><td>2025-06-26 11:38:00</td><td>2025-06-26 11:48:00</td><td>6016</td></tr><tr><td>2025-06-26</td><td>&quot;MNBU4340126&quot;</td><td>&quot;MAERSK&quot;</td><td>&quot;Collection&quot;</td><td>&quot;Paul&quot;</td><td>&quot;LML&quot;</td><td>13:25:00</td><td>&quot;IPHS&quot;</td><td>13:37:00</td><td>&quot;Empty&quot;</td><td>&quot;Reefer&quot;</td><td>&quot;40&#x27;&quot;</td><td>&quot;Maersk Depot&quot;</td><td>2025-06-26 13:25:00</td><td>2025-06-26 13:37:00</td><td>6017</td></tr><tr><td>2025-06-26</td><td>&quot;MNBU9123231&quot;</td><td>&quot;MAERSK&quot;</td><td>&quot;Collection&quot;</td><td>&quot;Paul&quot;</td><td>&quot;LML&quot;</td><td>13:50:00</td><td>&quot;IPHS&quot;</td><td>14:06:00</td><td>&quot;Empty&quot;</td><td>&quot;Reefer&quot;</td><td>&quot;40&#x27;&quot;</td><td>&quot;Maersk Depot&quot;</td><td>2025-06-26 13:50:00</td><td>2025-06-26 14:06:00</td><td>6018</td></tr><tr><td>2025-06-26</td><td>&quot;MNBU4073523&quot;</td><td>&quot;MAERSK&quot;</td><td>&quot;Collection&quot;</td><td>&quot;Paul&quot;</td><td>&quot;LML&quot;</td><td>14:45:00</td><td>&quot;IPHS&quot;</td><td>14:54:00</td><td>&quot;Empty&quot;</td><td>&quot;Reefer&quot;</td><td>&quot;40&#x27;&quot;</td><td>&quot;Maersk Depot&quot;</td><td>2025-06-26 14:45:00</td><td>2025-06-26 14:54:00</td><td>6019</td></tr></tbody></table></div>"
      ],
      "text/plain": [
       "shape: (6_020, 16)\n",
       "┌────────────┬───────────┬─────────┬───────────┬───┬───────────┬───────────┬───────────┬───────────┐\n",
       "│ date       ┆ container ┆ line    ┆ movement_ ┆ … ┆ remarks   ┆ start_dat ┆ end_datet ┆ service_i │\n",
       "│ ---        ┆ _number   ┆ ---     ┆ type      ┆   ┆ ---       ┆ etime     ┆ ime       ┆ d         │\n",
       "│ date       ┆ ---       ┆ cat     ┆ ---       ┆   ┆ str       ┆ ---       ┆ ---       ┆ ---       │\n",
       "│            ┆ str       ┆         ┆ str       ┆   ┆           ┆ datetime[ ┆ datetime[ ┆ i64       │\n",
       "│            ┆           ┆         ┆           ┆   ┆           ┆ μs]       ┆ μs]       ┆           │\n",
       "╞════════════╪═══════════╪═════════╪═══════════╪═══╪═══════════╪═══════════╪═══════════╪═══════════╡\n",
       "│ 2024-08-09 ┆ MSFU00027 ┆ MAERSK  ┆ Collectio ┆ … ┆ Maersk    ┆ 2024-08-0 ┆ 2024-08-0 ┆ 0         │\n",
       "│            ┆ 62        ┆         ┆ n         ┆   ┆ Depot     ┆ 9         ┆ 9         ┆           │\n",
       "│            ┆           ┆         ┆           ┆   ┆           ┆ 10:15:00  ┆ 10:30:00  ┆           │\n",
       "│ 2024-11-23 ┆ MNBU02987 ┆ MAERSK  ┆ Collectio ┆ … ┆ Maersk    ┆ 2024-11-2 ┆ 2024-11-2 ┆ 1         │\n",
       "│            ┆ 95        ┆         ┆ n         ┆   ┆ Depot     ┆ 3         ┆ 3         ┆           │\n",
       "│            ┆           ┆         ┆           ┆   ┆           ┆ 09:16:00  ┆ 09:26:00  ┆           │\n",
       "│ 2024-11-29 ┆ TRIU80555 ┆ CMA CGM ┆ Collectio ┆ … ┆ CMA CGM   ┆ 2024-11-2 ┆ 2024-11-2 ┆ 2         │\n",
       "│            ┆ 53        ┆         ┆ n         ┆   ┆ Depot     ┆ 9         ┆ 9         ┆           │\n",
       "│            ┆           ┆         ┆           ┆   ┆           ┆ 09:44:00  ┆ 09:54:00  ┆           │\n",
       "│ 2024-12-01 ┆ MMAU10165 ┆ MAERSK  ┆ Collectio ┆ … ┆ Maersk    ┆ 2024-12-0 ┆ 2024-12-0 ┆ 3         │\n",
       "│            ┆ 57        ┆         ┆ n         ┆   ┆ Depot     ┆ 1         ┆ 1         ┆           │\n",
       "│            ┆           ┆         ┆           ┆   ┆           ┆ 21:20:00  ┆ 21:29:00  ┆           │\n",
       "│ 2024-12-01 ┆ MMAU10313 ┆ MAERSK  ┆ Collectio ┆ … ┆ Maersk    ┆ 2024-12-0 ┆ 2024-12-0 ┆ 4         │\n",
       "│            ┆ 40        ┆         ┆ n         ┆   ┆ Depot     ┆ 1         ┆ 1         ┆           │\n",
       "│            ┆           ┆         ┆           ┆   ┆           ┆ 20:00:00  ┆ 20:11:00  ┆           │\n",
       "│ …          ┆ …         ┆ …       ┆ …         ┆ … ┆ …         ┆ …         ┆ …         ┆ …         │\n",
       "│ 2025-06-26 ┆ MNBU33023 ┆ MAERSK  ┆ Collectio ┆ … ┆ Maersk    ┆ 2025-06-2 ┆ 2025-06-2 ┆ 6015      │\n",
       "│            ┆ 80        ┆         ┆ n         ┆   ┆ Depot     ┆ 6         ┆ 6         ┆           │\n",
       "│            ┆           ┆         ┆           ┆   ┆           ┆ 10:04:00  ┆ 10:14:00  ┆           │\n",
       "│ 2025-06-26 ┆ SUDU82102 ┆ MAERSK  ┆ Collectio ┆ … ┆ Maersk    ┆ 2025-06-2 ┆ 2025-06-2 ┆ 6016      │\n",
       "│            ┆ 81        ┆         ┆ n         ┆   ┆ Depot     ┆ 6         ┆ 6         ┆           │\n",
       "│            ┆           ┆         ┆           ┆   ┆           ┆ 11:38:00  ┆ 11:48:00  ┆           │\n",
       "│ 2025-06-26 ┆ MNBU43401 ┆ MAERSK  ┆ Collectio ┆ … ┆ Maersk    ┆ 2025-06-2 ┆ 2025-06-2 ┆ 6017      │\n",
       "│            ┆ 26        ┆         ┆ n         ┆   ┆ Depot     ┆ 6         ┆ 6         ┆           │\n",
       "│            ┆           ┆         ┆           ┆   ┆           ┆ 13:25:00  ┆ 13:37:00  ┆           │\n",
       "│ 2025-06-26 ┆ MNBU91232 ┆ MAERSK  ┆ Collectio ┆ … ┆ Maersk    ┆ 2025-06-2 ┆ 2025-06-2 ┆ 6018      │\n",
       "│            ┆ 31        ┆         ┆ n         ┆   ┆ Depot     ┆ 6         ┆ 6         ┆           │\n",
       "│            ┆           ┆         ┆           ┆   ┆           ┆ 13:50:00  ┆ 14:06:00  ┆           │\n",
       "│ 2025-06-26 ┆ MNBU40735 ┆ MAERSK  ┆ Collectio ┆ … ┆ Maersk    ┆ 2025-06-2 ┆ 2025-06-2 ┆ 6019      │\n",
       "│            ┆ 23        ┆         ┆ n         ┆   ┆ Depot     ┆ 6         ┆ 6         ┆           │\n",
       "│            ┆           ┆         ┆           ┆   ┆           ┆ 14:45:00  ┆ 14:54:00  ┆           │\n",
       "└────────────┴───────────┴─────────┴───────────┴───┴───────────┴───────────┴───────────┴───────────┘"
      ]
     },
     "execution_count": 22,
     "metadata": {},
     "output_type": "execute_result"
    }
   ],
   "source": [
    "# First, let's prepare the data with proper datetime handling\n",
    "transfer_with_datetime = transfer_df.with_columns(\n",
    "    [\n",
    "        # Create start_datetime (time_out combined with date)\n",
    "        pl.col(\"date\").dt.combine(pl.col(\"time_out\")).alias(\"start_datetime\"),\n",
    "        # Create end_datetime with midnight crossing logic\n",
    "        pl.when(pl.col(\"time_out\") > pl.col(\"time_in\"))\n",
    "        .then(\n",
    "            # Service crosses midnight - time_in is on the next day\n",
    "            (pl.col(\"date\") + pl.duration(days=1)).dt.combine(pl.col(\"time_in\"))\n",
    "        )\n",
    "        .otherwise(\n",
    "            # Normal same-day service\n",
    "            pl.col(\"date\").dt.combine(pl.col(\"time_in\"))\n",
    "        )\n",
    "        .alias(\"end_datetime\"),\n",
    "        # Add a unique service ID for easier tracking\n",
    "        pl.int_range(pl.len()).alias(\"service_id\"),\n",
    "    ]\n",
    ")\n",
    "\n",
    "transfer_with_datetime.collect()"
   ]
  },
  {
   "cell_type": "code",
   "execution_count": 34,
   "id": "c286e48c",
   "metadata": {},
   "outputs": [
    {
     "name": "stdout",
     "output_type": "stream",
     "text": [
      "Records that overlap with previous record:\n"
     ]
    },
    {
     "data": {
      "text/html": [
       "<div><style>\n",
       ".dataframe > thead > tr,\n",
       ".dataframe > tbody > tr {\n",
       "  text-align: right;\n",
       "  white-space: pre-wrap;\n",
       "}\n",
       "</style>\n",
       "<small>shape: (825, 8)</small><table border=\"1\" class=\"dataframe\"><thead><tr><th>date</th><th>container_number</th><th>driver</th><th>service_id</th><th>start_datetime</th><th>end_datetime</th><th>prev_service_id</th><th>prev_end</th></tr><tr><td>date</td><td>str</td><td>str</td><td>i64</td><td>datetime[μs]</td><td>datetime[μs]</td><td>i64</td><td>datetime[μs]</td></tr></thead><tbody><tr><td>2025-04-17</td><td>&quot;AMCU9309879&quot;</td><td>&quot;C Lajoie&quot;</td><td>3489</td><td>2025-04-17 17:32:00</td><td>2025-04-17 17:42:00</td><td>3486</td><td>2025-04-17 17:41:00</td></tr><tr><td>2025-06-17</td><td>&quot;MMAU1185979&quot;</td><td>&quot;Denis V&quot;</td><td>5800</td><td>2025-06-17 13:36:00</td><td>2025-06-17 13:46:00</td><td>5783</td><td>2025-06-17 13:43:00</td></tr><tr><td>2025-05-04</td><td>&quot;CGMU5541952&quot;</td><td>&quot;Ferox (IPHS)&quot;</td><td>4199</td><td>2025-05-04 10:50:00</td><td>2025-05-04 11:00:00</td><td>4192</td><td>2025-05-04 11:00:00</td></tr><tr><td>2025-05-27</td><td>&quot;FBIU5114386&quot;</td><td>&quot;Ferox (IPHS)&quot;</td><td>5107</td><td>2025-05-27 14:57:00</td><td>2025-05-27 15:07:00</td><td>5134</td><td>2025-05-27 15:00:00</td></tr><tr><td>2025-03-18</td><td>&quot;TEMU9513400&quot;</td><td>&quot;Hubert J&quot;</td><td>2492</td><td>2025-03-18 09:23:00</td><td>2025-03-18 09:33:00</td><td>2491</td><td>2025-03-18 09:28:00</td></tr><tr><td>&hellip;</td><td>&hellip;</td><td>&hellip;</td><td>&hellip;</td><td>&hellip;</td><td>&hellip;</td><td>&hellip;</td><td>&hellip;</td></tr><tr><td>2025-06-23</td><td>&quot;MNBU4561343&quot;</td><td>&quot;Paul&quot;</td><td>5915</td><td>2025-06-23 13:56:00</td><td>2025-06-24 13:46:00</td><td>5914</td><td>2025-06-24 13:11:00</td></tr><tr><td>2025-06-23</td><td>&quot;MNBU0284683&quot;</td><td>&quot;Paul&quot;</td><td>5916</td><td>2025-06-23 14:28:00</td><td>2025-06-24 14:18:00</td><td>5915</td><td>2025-06-24 13:46:00</td></tr><tr><td>2025-06-23</td><td>&quot;MNBU3916557&quot;</td><td>&quot;Paul&quot;</td><td>5917</td><td>2025-06-23 15:03:00</td><td>2025-06-24 14:52:00</td><td>5916</td><td>2025-06-24 14:18:00</td></tr><tr><td>2025-06-23</td><td>&quot;MNBU3751077&quot;</td><td>&quot;Paul&quot;</td><td>5918</td><td>2025-06-23 15:40:00</td><td>2025-06-24 15:30:00</td><td>5917</td><td>2025-06-24 14:52:00</td></tr><tr><td>2025-06-23</td><td>&quot;MNBU0208410&quot;</td><td>&quot;Paul&quot;</td><td>5919</td><td>2025-06-23 16:25:00</td><td>2025-06-24 16:15:00</td><td>5918</td><td>2025-06-24 15:30:00</td></tr></tbody></table></div>"
      ],
      "text/plain": [
       "shape: (825, 8)\n",
       "┌────────────┬────────────┬────────────┬───────────┬───────────┬───────────┬───────────┬───────────┐\n",
       "│ date       ┆ container_ ┆ driver     ┆ service_i ┆ start_dat ┆ end_datet ┆ prev_serv ┆ prev_end  │\n",
       "│ ---        ┆ number     ┆ ---        ┆ d         ┆ etime     ┆ ime       ┆ ice_id    ┆ ---       │\n",
       "│ date       ┆ ---        ┆ str        ┆ ---       ┆ ---       ┆ ---       ┆ ---       ┆ datetime[ │\n",
       "│            ┆ str        ┆            ┆ i64       ┆ datetime[ ┆ datetime[ ┆ i64       ┆ μs]       │\n",
       "│            ┆            ┆            ┆           ┆ μs]       ┆ μs]       ┆           ┆           │\n",
       "╞════════════╪════════════╪════════════╪═══════════╪═══════════╪═══════════╪═══════════╪═══════════╡\n",
       "│ 2025-04-17 ┆ AMCU930987 ┆ C Lajoie   ┆ 3489      ┆ 2025-04-1 ┆ 2025-04-1 ┆ 3486      ┆ 2025-04-1 │\n",
       "│            ┆ 9          ┆            ┆           ┆ 7         ┆ 7         ┆           ┆ 7         │\n",
       "│            ┆            ┆            ┆           ┆ 17:32:00  ┆ 17:42:00  ┆           ┆ 17:41:00  │\n",
       "│ 2025-06-17 ┆ MMAU118597 ┆ Denis V    ┆ 5800      ┆ 2025-06-1 ┆ 2025-06-1 ┆ 5783      ┆ 2025-06-1 │\n",
       "│            ┆ 9          ┆            ┆           ┆ 7         ┆ 7         ┆           ┆ 7         │\n",
       "│            ┆            ┆            ┆           ┆ 13:36:00  ┆ 13:46:00  ┆           ┆ 13:43:00  │\n",
       "│ 2025-05-04 ┆ CGMU554195 ┆ Ferox      ┆ 4199      ┆ 2025-05-0 ┆ 2025-05-0 ┆ 4192      ┆ 2025-05-0 │\n",
       "│            ┆ 2          ┆ (IPHS)     ┆           ┆ 4         ┆ 4         ┆           ┆ 4         │\n",
       "│            ┆            ┆            ┆           ┆ 10:50:00  ┆ 11:00:00  ┆           ┆ 11:00:00  │\n",
       "│ 2025-05-27 ┆ FBIU511438 ┆ Ferox      ┆ 5107      ┆ 2025-05-2 ┆ 2025-05-2 ┆ 5134      ┆ 2025-05-2 │\n",
       "│            ┆ 6          ┆ (IPHS)     ┆           ┆ 7         ┆ 7         ┆           ┆ 7         │\n",
       "│            ┆            ┆            ┆           ┆ 14:57:00  ┆ 15:07:00  ┆           ┆ 15:00:00  │\n",
       "│ 2025-03-18 ┆ TEMU951340 ┆ Hubert J   ┆ 2492      ┆ 2025-03-1 ┆ 2025-03-1 ┆ 2491      ┆ 2025-03-1 │\n",
       "│            ┆ 0          ┆            ┆           ┆ 8         ┆ 8         ┆           ┆ 8         │\n",
       "│            ┆            ┆            ┆           ┆ 09:23:00  ┆ 09:33:00  ┆           ┆ 09:28:00  │\n",
       "│ …          ┆ …          ┆ …          ┆ …         ┆ …         ┆ …         ┆ …         ┆ …         │\n",
       "│ 2025-06-23 ┆ MNBU456134 ┆ Paul       ┆ 5915      ┆ 2025-06-2 ┆ 2025-06-2 ┆ 5914      ┆ 2025-06-2 │\n",
       "│            ┆ 3          ┆            ┆           ┆ 3         ┆ 4         ┆           ┆ 4         │\n",
       "│            ┆            ┆            ┆           ┆ 13:56:00  ┆ 13:46:00  ┆           ┆ 13:11:00  │\n",
       "│ 2025-06-23 ┆ MNBU028468 ┆ Paul       ┆ 5916      ┆ 2025-06-2 ┆ 2025-06-2 ┆ 5915      ┆ 2025-06-2 │\n",
       "│            ┆ 3          ┆            ┆           ┆ 3         ┆ 4         ┆           ┆ 4         │\n",
       "│            ┆            ┆            ┆           ┆ 14:28:00  ┆ 14:18:00  ┆           ┆ 13:46:00  │\n",
       "│ 2025-06-23 ┆ MNBU391655 ┆ Paul       ┆ 5917      ┆ 2025-06-2 ┆ 2025-06-2 ┆ 5916      ┆ 2025-06-2 │\n",
       "│            ┆ 7          ┆            ┆           ┆ 3         ┆ 4         ┆           ┆ 4         │\n",
       "│            ┆            ┆            ┆           ┆ 15:03:00  ┆ 14:52:00  ┆           ┆ 14:18:00  │\n",
       "│ 2025-06-23 ┆ MNBU375107 ┆ Paul       ┆ 5918      ┆ 2025-06-2 ┆ 2025-06-2 ┆ 5917      ┆ 2025-06-2 │\n",
       "│            ┆ 7          ┆            ┆           ┆ 3         ┆ 4         ┆           ┆ 4         │\n",
       "│            ┆            ┆            ┆           ┆ 15:40:00  ┆ 15:30:00  ┆           ┆ 14:52:00  │\n",
       "│ 2025-06-23 ┆ MNBU020841 ┆ Paul       ┆ 5919      ┆ 2025-06-2 ┆ 2025-06-2 ┆ 5918      ┆ 2025-06-2 │\n",
       "│            ┆ 0          ┆            ┆           ┆ 3         ┆ 4         ┆           ┆ 4         │\n",
       "│            ┆            ┆            ┆           ┆ 16:25:00  ┆ 16:15:00  ┆           ┆ 15:30:00  │\n",
       "└────────────┴────────────┴────────────┴───────────┴───────────┴───────────┴───────────┴───────────┘"
      ]
     },
     "execution_count": 34,
     "metadata": {},
     "output_type": "execute_result"
    }
   ],
   "source": [
    "# More efficient approach using window functions\n",
    "overlapping_drivers = (\n",
    "    transfer_with_datetime.sort([\"driver\", \"date\", \"start_datetime\"])\n",
    "    .with_columns([\n",
    "        # Get the previous end time for the same driver on the same date\n",
    "        pl.col(\"end_datetime\").shift(1).over([\"driver\", \"date\"]).alias(\"prev_end\"),\n",
    "        # Get the previous service_id for comparison\n",
    "        pl.col(\"service_id\").shift(1).over([\"driver\", \"date\"]).alias(\"prev_service_id\")\n",
    "    ])\n",
    "    .filter(\n",
    "        # Check if current start is before previous end (overlap)\n",
    "        pl.col(\"start_datetime\") < pl.col(\"prev_end\")\n",
    "    )\n",
    "    .select([\n",
    "        pl.col(\"date\"),\n",
    "        pl.col(\"container_number\"),\n",
    "        pl.col(\"driver\"),\n",
    "        pl.col(\"service_id\"),\n",
    "        pl.col(\"start_datetime\"),\n",
    "        pl.col(\"end_datetime\"),\n",
    "        pl.col(\"prev_service_id\"),\n",
    "        pl.col(\"prev_end\")\n",
    "    ])\n",
    ")\n",
    "\n",
    "print(\"Records that overlap with previous record:\")\n",
    "overlapping_drivers.collect()"
   ]
  },
  {
   "cell_type": "code",
   "execution_count": 39,
   "id": "53b60707",
   "metadata": {},
   "outputs": [
    {
     "name": "stdout",
     "output_type": "stream",
     "text": [
      "Container overlap summary:\n"
     ]
    }
   ],
   "source": [
    "# Create a cleaner view showing just the overlapping container pairs\n",
    "container_overlaps = (\n",
    "    overlapping_drivers.with_columns([\n",
    "        pl.col(\"container_number\").shift(1).over([\"driver\", \"date\"]).alias(\"prev_container_number\")\n",
    "    ])\n",
    "    .select([\n",
    "        pl.col(\"date\"),\n",
    "        pl.col(\"driver\"),\n",
    "        pl.format(\n",
    "            \"{} overlaps with {}\",\n",
    "            pl.col(\"prev_container_number\"),\n",
    "            pl.col(\"container_number\")\n",
    "        ).alias(\"overlap_description\"),\n",
    "        pl.col(\"prev_end\").alias(\"first_container_end\"),\n",
    "        pl.col(\"start_datetime\").alias(\"second_container_start\"),\n",
    "        # (pl.col(\"prev_end\") - pl.col(\"start_datetime\")).alias(\"overlap_duration\")\n",
    "    ])\n",
    ")\n",
    "\n",
    "print(\"Container overlap summary:\")\n",
    "container_overlaps.filter(pl.col(\"overlap_description\").is_not_null()).collect().write_clipboard()"
   ]
  },
  {
   "cell_type": "code",
   "execution_count": 44,
   "id": "698e9764",
   "metadata": {},
   "outputs": [
    {
     "data": {
      "text/html": [
       "<div><style>\n",
       ".dataframe > thead > tr,\n",
       ".dataframe > tbody > tr {\n",
       "  text-align: right;\n",
       "  white-space: pre-wrap;\n",
       "}\n",
       "</style>\n",
       "<small>shape: (4, 16)</small><table border=\"1\" class=\"dataframe\"><thead><tr><th>date</th><th>container_number</th><th>line</th><th>movement_type</th><th>driver</th><th>origin</th><th>time_out</th><th>destination</th><th>time_in</th><th>status</th><th>type</th><th>size</th><th>remarks</th><th>start_datetime</th><th>end_datetime</th><th>service_id</th></tr><tr><td>date</td><td>str</td><td>cat</td><td>str</td><td>str</td><td>str</td><td>time</td><td>str</td><td>time</td><td>str</td><td>str</td><td>str</td><td>str</td><td>datetime[μs]</td><td>datetime[μs]</td><td>i64</td></tr></thead><tbody><tr><td>2025-05-08</td><td>&quot;MNBU4500287&quot;</td><td>&quot;MAERSK&quot;</td><td>&quot;Collection&quot;</td><td>&quot;ACL (IPHS)&quot;</td><td>&quot;LML&quot;</td><td>08:45:00</td><td>&quot;IPHS&quot;</td><td>08:55:00</td><td>&quot;Empty&quot;</td><td>&quot;Reefer&quot;</td><td>&quot;40&#x27;&quot;</td><td>&quot;Maersk Depot&quot;</td><td>2025-05-08 08:45:00</td><td>2025-05-08 08:55:00</td><td>4439</td></tr><tr><td>2025-06-02</td><td>&quot;TLLU1217656&quot;</td><td>&quot;MAERSK&quot;</td><td>&quot;Collection&quot;</td><td>&quot;Paul&quot;</td><td>&quot;LML&quot;</td><td>11:54:00</td><td>&quot;IPHS&quot;</td><td>12:04:00</td><td>&quot;Empty&quot;</td><td>&quot;Reefer&quot;</td><td>&quot;40&#x27;&quot;</td><td>&quot;Maersk Depot&quot;</td><td>2025-06-02 11:54:00</td><td>2025-06-02 12:04:00</td><td>5338</td></tr><tr><td>2025-06-25</td><td>&quot;TLLU1217656&quot;</td><td>&quot;MAERSK&quot;</td><td>&quot;Delivery&quot;</td><td>&quot;Hubert J&quot;</td><td>&quot;IPHS&quot;</td><td>09:23:00</td><td>&quot;LML&quot;</td><td>09:33:00</td><td>&quot;Full&quot;</td><td>&quot;Reefer&quot;</td><td>&quot;40&#x27;&quot;</td><td>&quot;STO&quot;</td><td>2025-06-25 09:23:00</td><td>2025-06-25 09:33:00</td><td>5990</td></tr><tr><td>2025-06-25</td><td>&quot;MNBU4500287&quot;</td><td>&quot;MAERSK&quot;</td><td>&quot;Delivery&quot;</td><td>&quot;Hubert J&quot;</td><td>&quot;IPHS&quot;</td><td>09:55:00</td><td>&quot;LML&quot;</td><td>10:05:00</td><td>&quot;Full&quot;</td><td>&quot;Reefer&quot;</td><td>&quot;40&#x27;&quot;</td><td>&quot;STO&quot;</td><td>2025-06-25 09:55:00</td><td>2025-06-25 10:05:00</td><td>5991</td></tr></tbody></table></div>"
      ],
      "text/plain": [
       "shape: (4, 16)\n",
       "┌────────────┬────────────┬────────┬───────────┬───┬───────────┬───────────┬───────────┬───────────┐\n",
       "│ date       ┆ container_ ┆ line   ┆ movement_ ┆ … ┆ remarks   ┆ start_dat ┆ end_datet ┆ service_i │\n",
       "│ ---        ┆ number     ┆ ---    ┆ type      ┆   ┆ ---       ┆ etime     ┆ ime       ┆ d         │\n",
       "│ date       ┆ ---        ┆ cat    ┆ ---       ┆   ┆ str       ┆ ---       ┆ ---       ┆ ---       │\n",
       "│            ┆ str        ┆        ┆ str       ┆   ┆           ┆ datetime[ ┆ datetime[ ┆ i64       │\n",
       "│            ┆            ┆        ┆           ┆   ┆           ┆ μs]       ┆ μs]       ┆           │\n",
       "╞════════════╪════════════╪════════╪═══════════╪═══╪═══════════╪═══════════╪═══════════╪═══════════╡\n",
       "│ 2025-05-08 ┆ MNBU450028 ┆ MAERSK ┆ Collectio ┆ … ┆ Maersk    ┆ 2025-05-0 ┆ 2025-05-0 ┆ 4439      │\n",
       "│            ┆ 7          ┆        ┆ n         ┆   ┆ Depot     ┆ 8         ┆ 8         ┆           │\n",
       "│            ┆            ┆        ┆           ┆   ┆           ┆ 08:45:00  ┆ 08:55:00  ┆           │\n",
       "│ 2025-06-02 ┆ TLLU121765 ┆ MAERSK ┆ Collectio ┆ … ┆ Maersk    ┆ 2025-06-0 ┆ 2025-06-0 ┆ 5338      │\n",
       "│            ┆ 6          ┆        ┆ n         ┆   ┆ Depot     ┆ 2         ┆ 2         ┆           │\n",
       "│            ┆            ┆        ┆           ┆   ┆           ┆ 11:54:00  ┆ 12:04:00  ┆           │\n",
       "│ 2025-06-25 ┆ TLLU121765 ┆ MAERSK ┆ Delivery  ┆ … ┆ STO       ┆ 2025-06-2 ┆ 2025-06-2 ┆ 5990      │\n",
       "│            ┆ 6          ┆        ┆           ┆   ┆           ┆ 5         ┆ 5         ┆           │\n",
       "│            ┆            ┆        ┆           ┆   ┆           ┆ 09:23:00  ┆ 09:33:00  ┆           │\n",
       "│ 2025-06-25 ┆ MNBU450028 ┆ MAERSK ┆ Delivery  ┆ … ┆ STO       ┆ 2025-06-2 ┆ 2025-06-2 ┆ 5991      │\n",
       "│            ┆ 7          ┆        ┆           ┆   ┆           ┆ 5         ┆ 5         ┆           │\n",
       "│            ┆            ┆        ┆           ┆   ┆           ┆ 09:55:00  ┆ 10:05:00  ┆           │\n",
       "└────────────┴────────────┴────────┴───────────┴───┴───────────┴───────────┴───────────┴───────────┘"
      ]
     },
     "execution_count": 44,
     "metadata": {},
     "output_type": "execute_result"
    }
   ],
   "source": [
    "transfer_with_datetime.filter(\n",
    "    pl.col(\"container_number\").is_in([\"TLLU1217656\",\n",
    "\"MNBU4500287\"])\n",
    ").collect()"
   ]
  },
  {
   "cell_type": "markdown",
   "id": "d5d50ae8",
   "metadata": {},
   "source": [
    "### Washing and PTI Data"
   ]
  },
  {
   "cell_type": "code",
   "execution_count": null,
   "id": "57341ba3",
   "metadata": {},
   "outputs": [
    {
     "data": {
      "text/html": [
       "<div><style>\n",
       ".dataframe > thead > tr,\n",
       ".dataframe > tbody > tr {\n",
       "  text-align: right;\n",
       "  white-space: pre-wrap;\n",
       "}\n",
       "</style>\n",
       "<small>shape: (1_986, 12)</small><table border=\"1\" class=\"dataframe\"><thead><tr><th>Date Plug</th><th>Time Plug</th><th>Container Ref. No.</th><th>Set Point</th><th>Unit Manufacturer</th><th>Line/Client</th><th>Date PTI/Unplug</th><th>Time plug out</th><th>Sticker</th><th>Status</th><th>Generator</th><th>duration_on_plug</th></tr><tr><td>date</td><td>time</td><td>str</td><td>i64</td><td>str</td><td>str</td><td>date</td><td>time</td><td>str</td><td>str</td><td>str</td><td>f64</td></tr></thead><tbody><tr><td>2025-01-02</td><td>09:30:00</td><td>&quot;MMAU1018360&quot;</td><td>-25</td><td>&quot;Starcool&quot;</td><td>&quot;MAERSK&quot;</td><td>2025-01-02</td><td>15:10:00</td><td>&quot;N/A&quot;</td><td>&quot;FAILED&quot;</td><td>&quot;K6&quot;</td><td>5.666667</td></tr><tr><td>2025-01-02</td><td>09:30:00</td><td>&quot;MNBU0096855&quot;</td><td>-25</td><td>&quot;Carrier&quot;</td><td>&quot;MAERSK&quot;</td><td>2025-01-02</td><td>15:10:00</td><td>&quot;PASS&quot;</td><td>&quot;PASSED&quot;</td><td>&quot;K6&quot;</td><td>5.666667</td></tr><tr><td>2025-01-02</td><td>09:30:00</td><td>&quot;MNBU0235328&quot;</td><td>-25</td><td>&quot;Carrier&quot;</td><td>&quot;MAERSK&quot;</td><td>2025-01-02</td><td>15:10:00</td><td>&quot;PASS&quot;</td><td>&quot;PASSED&quot;</td><td>&quot;K6&quot;</td><td>5.666667</td></tr><tr><td>2025-01-02</td><td>09:30:00</td><td>&quot;MNBU0324739&quot;</td><td>-25</td><td>&quot;Carrier&quot;</td><td>&quot;MAERSK&quot;</td><td>2025-01-02</td><td>15:10:00</td><td>&quot;PASS&quot;</td><td>&quot;PASSED&quot;</td><td>&quot;K6&quot;</td><td>5.666667</td></tr><tr><td>2025-01-02</td><td>09:30:00</td><td>&quot;MNBU0325150&quot;</td><td>-25</td><td>&quot;Carrier&quot;</td><td>&quot;MAERSK&quot;</td><td>2025-01-02</td><td>15:10:00</td><td>&quot;PASS&quot;</td><td>&quot;PASSED&quot;</td><td>&quot;K6&quot;</td><td>5.666667</td></tr><tr><td>&hellip;</td><td>&hellip;</td><td>&hellip;</td><td>&hellip;</td><td>&hellip;</td><td>&hellip;</td><td>&hellip;</td><td>&hellip;</td><td>&hellip;</td><td>&hellip;</td><td>&hellip;</td><td>&hellip;</td></tr><tr><td>2025-05-12</td><td>07:49:00</td><td>&quot;MNBU4562289&quot;</td><td>-25</td><td>&quot;Starcool&quot;</td><td>&quot;MAERSK&quot;</td><td>2025-05-12</td><td>10:29:00</td><td>&quot;PASS&quot;</td><td>&quot;PASSED&quot;</td><td>&quot;AKSA&quot;</td><td>2.666667</td></tr><tr><td>2025-05-12</td><td>07:49:00</td><td>&quot;MNBU9010174&quot;</td><td>-25</td><td>&quot;Starcool&quot;</td><td>&quot;MAERSK&quot;</td><td>2025-05-12</td><td>10:29:00</td><td>&quot;PASS&quot;</td><td>&quot;PASSED&quot;</td><td>&quot;AKSA&quot;</td><td>2.666667</td></tr><tr><td>2025-05-12</td><td>07:49:00</td><td>&quot;MNBU9044359&quot;</td><td>-25</td><td>&quot;Starcool&quot;</td><td>&quot;MAERSK&quot;</td><td>2025-05-12</td><td>10:29:00</td><td>&quot;PASS&quot;</td><td>&quot;PASSED&quot;</td><td>&quot;AKSA&quot;</td><td>2.666667</td></tr><tr><td>2025-05-12</td><td>07:49:00</td><td>&quot;MNBU9107375&quot;</td><td>-25</td><td>&quot;Starcool&quot;</td><td>&quot;MAERSK&quot;</td><td>2025-05-12</td><td>10:29:00</td><td>&quot;PASS&quot;</td><td>&quot;PASSED&quot;</td><td>&quot;AKSA&quot;</td><td>2.666667</td></tr><tr><td>2025-05-12</td><td>07:41:00</td><td>&quot;MWCU5292050&quot;</td><td>-25</td><td>&quot;Carrier&quot;</td><td>&quot;MAERSK&quot;</td><td>2025-05-12</td><td>10:39:00</td><td>&quot;PASS&quot;</td><td>&quot;PASSED&quot;</td><td>&quot;AKSA&quot;</td><td>2.966667</td></tr></tbody></table></div>"
      ],
      "text/plain": [
       "shape: (1_986, 12)\n",
       "┌────────────┬───────────┬─────────────┬───────────┬───┬─────────┬────────┬───────────┬────────────┐\n",
       "│ Date Plug  ┆ Time Plug ┆ Container   ┆ Set Point ┆ … ┆ Sticker ┆ Status ┆ Generator ┆ duration_o │\n",
       "│ ---        ┆ ---       ┆ Ref. No.    ┆ ---       ┆   ┆ ---     ┆ ---    ┆ ---       ┆ n_plug     │\n",
       "│ date       ┆ time      ┆ ---         ┆ i64       ┆   ┆ str     ┆ str    ┆ str       ┆ ---        │\n",
       "│            ┆           ┆ str         ┆           ┆   ┆         ┆        ┆           ┆ f64        │\n",
       "╞════════════╪═══════════╪═════════════╪═══════════╪═══╪═════════╪════════╪═══════════╪════════════╡\n",
       "│ 2025-01-02 ┆ 09:30:00  ┆ MMAU1018360 ┆ -25       ┆ … ┆ N/A     ┆ FAILED ┆ K6        ┆ 5.666667   │\n",
       "│ 2025-01-02 ┆ 09:30:00  ┆ MNBU0096855 ┆ -25       ┆ … ┆ PASS    ┆ PASSED ┆ K6        ┆ 5.666667   │\n",
       "│ 2025-01-02 ┆ 09:30:00  ┆ MNBU0235328 ┆ -25       ┆ … ┆ PASS    ┆ PASSED ┆ K6        ┆ 5.666667   │\n",
       "│ 2025-01-02 ┆ 09:30:00  ┆ MNBU0324739 ┆ -25       ┆ … ┆ PASS    ┆ PASSED ┆ K6        ┆ 5.666667   │\n",
       "│ 2025-01-02 ┆ 09:30:00  ┆ MNBU0325150 ┆ -25       ┆ … ┆ PASS    ┆ PASSED ┆ K6        ┆ 5.666667   │\n",
       "│ …          ┆ …         ┆ …           ┆ …         ┆ … ┆ …       ┆ …      ┆ …         ┆ …          │\n",
       "│ 2025-05-12 ┆ 07:49:00  ┆ MNBU4562289 ┆ -25       ┆ … ┆ PASS    ┆ PASSED ┆ AKSA      ┆ 2.666667   │\n",
       "│ 2025-05-12 ┆ 07:49:00  ┆ MNBU9010174 ┆ -25       ┆ … ┆ PASS    ┆ PASSED ┆ AKSA      ┆ 2.666667   │\n",
       "│ 2025-05-12 ┆ 07:49:00  ┆ MNBU9044359 ┆ -25       ┆ … ┆ PASS    ┆ PASSED ┆ AKSA      ┆ 2.666667   │\n",
       "│ 2025-05-12 ┆ 07:49:00  ┆ MNBU9107375 ┆ -25       ┆ … ┆ PASS    ┆ PASSED ┆ AKSA      ┆ 2.666667   │\n",
       "│ 2025-05-12 ┆ 07:41:00  ┆ MWCU5292050 ┆ -25       ┆ … ┆ PASS    ┆ PASSED ┆ AKSA      ┆ 2.966667   │\n",
       "└────────────┴───────────┴─────────────┴───────────┴───┴─────────┴────────┴───────────┴────────────┘"
      ]
     },
     "execution_count": 8,
     "metadata": {},
     "output_type": "execute_result"
    }
   ],
   "source": [
    "pl.read_excel(dropbox.emr).filter(pl.col(\"Date Plug\").dt.year().eq(2025)).with_columns(\n",
    "    pl.col(\"Time Plug\")\n",
    "    .dt.to_string()\n",
    "    .str.extract(r\"(\\d{2}:\\d{2}:\\d{2})\")\n",
    "    .str.to_time(format=\"%H:%M:%S\")\n",
    ").with_columns(\n",
    "    pl.col(\"Time plug out\")\n",
    "    .dt.to_string()\n",
    "    .str.extract(r\"(\\d{2}:\\d{2}:\\d{2})\")\n",
    "    .str.to_time(format=\"%H:%M:%S\")\n",
    ").drop(pl.col(\"#\"), pl.col(\"Size\"), pl.col(\"Hours\")).with_columns(\n",
    "    duration_on_plug=(\n",
    "        (pl.col(\"Date PTI/Unplug\").dt.combine(pl.col(\"Time plug out\")))\n",
    "        - (pl.col(\"Date Plug\").dt.combine(pl.col(\"Time Plug\")))\n",
    "    ).dt.total_seconds()\n",
    "    / 3600\n",
    ")"
   ]
  },
  {
   "cell_type": "code",
   "execution_count": 9,
   "id": "93050207",
   "metadata": {},
   "outputs": [],
   "source": [
    "from dataframe.emr import washing"
   ]
  },
  {
   "cell_type": "code",
   "execution_count": 15,
   "id": "08060a0e",
   "metadata": {},
   "outputs": [],
   "source": [
    "wash_df = await washing()"
   ]
  },
  {
   "cell_type": "code",
   "execution_count": 17,
   "id": "ac09d737",
   "metadata": {},
   "outputs": [
    {
     "data": {
      "text/html": [
       "<div><style>\n",
       ".dataframe > thead > tr,\n",
       ".dataframe > tbody > tr {\n",
       "  text-align: right;\n",
       "  white-space: pre-wrap;\n",
       "}\n",
       "</style>\n",
       "<small>shape: (6_624, 5)</small><table border=\"1\" class=\"dataframe\"><thead><tr><th>date</th><th>container_number</th><th>invoice_to</th><th>service_remarks</th><th>price</th></tr><tr><td>str</td><td>enum</td><td>enum</td><td>str</td><td>i64</td></tr></thead><tbody><tr><td>&quot;03/01/2024&quot;</td><td>&quot;SUDU6106112&quot;</td><td>&quot;ECHEBASTAR&quot;</td><td>&quot;Unstuffed at CCCS&quot;</td><td>30</td></tr><tr><td>&quot;03/01/2024&quot;</td><td>&quot;TTNU8054125&quot;</td><td>&quot;IOT&quot;</td><td>&quot;Clean&quot;</td><td>30</td></tr><tr><td>&quot;04/01/2024&quot;</td><td>&quot;MMAU1082543&quot;</td><td>&quot;MAERSKLINE&quot;</td><td>&quot;Clean&quot;</td><td>30</td></tr><tr><td>&quot;04/01/2024&quot;</td><td>&quot;MMAU1128460&quot;</td><td>&quot;MAERSKLINE&quot;</td><td>&quot;Clean&quot;</td><td>30</td></tr><tr><td>&quot;04/01/2024&quot;</td><td>&quot;MNBU3645352&quot;</td><td>&quot;MAERSKLINE&quot;</td><td>&quot;Clean&quot;</td><td>30</td></tr><tr><td>&hellip;</td><td>&hellip;</td><td>&hellip;</td><td>&hellip;</td><td>&hellip;</td></tr><tr><td>&quot;27/05/2025&quot;</td><td>&quot;MMAU1227170&quot;</td><td>&quot;MAERSKLINE&quot;</td><td>&quot;ADDED TO THE RECORD&quot;</td><td>30</td></tr><tr><td>&quot;29/05/2025&quot;</td><td>&quot;MNBU3851604&quot;</td><td>&quot;MAERSKLINE&quot;</td><td>&quot;ADDED TO THE RECORD&quot;</td><td>30</td></tr><tr><td>&quot;30/05/2025&quot;</td><td>&quot;MNBU3670822&quot;</td><td>&quot;MAERSKLINE&quot;</td><td>&quot;ADDED TO THE RECORD&quot;</td><td>30</td></tr><tr><td>&quot;30/05/2025&quot;</td><td>&quot;SUDU6222832&quot;</td><td>&quot;MAERSKLINE&quot;</td><td>&quot;ADDED TO THE RECORD&quot;</td><td>30</td></tr><tr><td>&quot;29/05/2025&quot;</td><td>&quot;MNBU3235635&quot;</td><td>&quot;MAERSKLINE&quot;</td><td>&quot;Cross Stuffing // ADDED TO THE…</td><td>30</td></tr></tbody></table></div>"
      ],
      "text/plain": [
       "shape: (6_624, 5)\n",
       "┌────────────┬──────────────────┬────────────┬─────────────────────────────────┬───────┐\n",
       "│ date       ┆ container_number ┆ invoice_to ┆ service_remarks                 ┆ price │\n",
       "│ ---        ┆ ---              ┆ ---        ┆ ---                             ┆ ---   │\n",
       "│ str        ┆ enum             ┆ enum       ┆ str                             ┆ i64   │\n",
       "╞════════════╪══════════════════╪════════════╪═════════════════════════════════╪═══════╡\n",
       "│ 03/01/2024 ┆ SUDU6106112      ┆ ECHEBASTAR ┆ Unstuffed at CCCS               ┆ 30    │\n",
       "│ 03/01/2024 ┆ TTNU8054125      ┆ IOT        ┆ Clean                           ┆ 30    │\n",
       "│ 04/01/2024 ┆ MMAU1082543      ┆ MAERSKLINE ┆ Clean                           ┆ 30    │\n",
       "│ 04/01/2024 ┆ MMAU1128460      ┆ MAERSKLINE ┆ Clean                           ┆ 30    │\n",
       "│ 04/01/2024 ┆ MNBU3645352      ┆ MAERSKLINE ┆ Clean                           ┆ 30    │\n",
       "│ …          ┆ …                ┆ …          ┆ …                               ┆ …     │\n",
       "│ 27/05/2025 ┆ MMAU1227170      ┆ MAERSKLINE ┆ ADDED TO THE RECORD             ┆ 30    │\n",
       "│ 29/05/2025 ┆ MNBU3851604      ┆ MAERSKLINE ┆ ADDED TO THE RECORD             ┆ 30    │\n",
       "│ 30/05/2025 ┆ MNBU3670822      ┆ MAERSKLINE ┆ ADDED TO THE RECORD             ┆ 30    │\n",
       "│ 30/05/2025 ┆ SUDU6222832      ┆ MAERSKLINE ┆ ADDED TO THE RECORD             ┆ 30    │\n",
       "│ 29/05/2025 ┆ MNBU3235635      ┆ MAERSKLINE ┆ Cross Stuffing // ADDED TO THE… ┆ 30    │\n",
       "└────────────┴──────────────────┴────────────┴─────────────────────────────────┴───────┘"
      ]
     },
     "execution_count": 17,
     "metadata": {},
     "output_type": "execute_result"
    }
   ],
   "source": [
    "wash_df.collect()"
   ]
  },
  {
   "cell_type": "code",
   "execution_count": null,
   "id": "66a6fd74",
   "metadata": {},
   "outputs": [],
   "source": []
  }
 ],
 "metadata": {
  "kernelspec": {
   "display_name": ".venv",
   "language": "python",
   "name": "python3"
  },
  "language_info": {
   "codemirror_mode": {
    "name": "ipython",
    "version": 3
   },
   "file_extension": ".py",
   "mimetype": "text/x-python",
   "name": "python",
   "nbconvert_exporter": "python",
   "pygments_lexer": "ipython3",
   "version": "3.12.3"
  }
 },
 "nbformat": 4,
 "nbformat_minor": 5
}
