{
 "cells": [
  {
   "cell_type": "code",
   "execution_count": 1,
   "metadata": {},
   "outputs": [],
   "source": [
    "import polars as pl\n",
    "from data_source.make_dataset import load_gsheet_data\n",
    "from data_source.sheet_ids import LOGISTICS_EFORM_ID, PTI_SHEET,WASHING_SHEET\n",
    "\n",
    "PTI = await load_gsheet_data(LOGISTICS_EFORM_ID, PTI_SHEET)\n",
    "WASHING = await load_gsheet_data(LOGISTICS_EFORM_ID,WASHING_SHEET)"
   ]
  },
  {
   "cell_type": "code",
   "execution_count": 8,
   "metadata": {},
   "outputs": [],
   "source": [
    "washing_april = WASHING.select(\n",
    "    pl.col(\"date\").str.to_date(format=\"%d/%m/%Y\"),\n",
    "    pl.col(\"container_number\"),\n",
    "    pl.col(\"shipping_line\"),\n",
    "    pl.col(\"Invoice To\")\n",
    ").filter(\n",
    "    pl.col(\"date\").dt.month().eq(4).and_(\n",
    "        pl.col(\"shipping_line\").eq(pl.lit(\"MAERSK\"))\n",
    "    )\n",
    ").collect()"
   ]
  },
  {
   "cell_type": "code",
   "execution_count": 9,
   "metadata": {},
   "outputs": [
    {
     "data": {
      "text/html": [
       "<div><style>\n",
       ".dataframe > thead > tr,\n",
       ".dataframe > tbody > tr {\n",
       "  text-align: right;\n",
       "  white-space: pre-wrap;\n",
       "}\n",
       "</style>\n",
       "<small>shape: (28, 4)</small><table border=\"1\" class=\"dataframe\"><thead><tr><th>date</th><th>container_number</th><th>shipping_line</th><th>Invoice To</th></tr><tr><td>date</td><td>str</td><td>str</td><td>str</td></tr></thead><tbody><tr><td>2025-04-05</td><td>&quot;MMAU1004670&quot;</td><td>&quot;MAERSK&quot;</td><td>&quot;MAERSKLINE&quot;</td></tr><tr><td>2025-04-30</td><td>&quot;MMAU1004670&quot;</td><td>&quot;MAERSK&quot;</td><td>&quot;&quot;</td></tr><tr><td>2025-04-15</td><td>&quot;MNBU0482570&quot;</td><td>&quot;MAERSK&quot;</td><td>&quot;MAERSKLINE&quot;</td></tr><tr><td>2025-04-22</td><td>&quot;MNBU0482570&quot;</td><td>&quot;MAERSK&quot;</td><td>&quot;&quot;</td></tr><tr><td>2025-04-26</td><td>&quot;MNBU0482713&quot;</td><td>&quot;MAERSK&quot;</td><td>&quot;&quot;</td></tr><tr><td>&hellip;</td><td>&hellip;</td><td>&hellip;</td><td>&hellip;</td></tr><tr><td>2025-04-29</td><td>&quot;MNBU4179310&quot;</td><td>&quot;MAERSK&quot;</td><td>&quot;&quot;</td></tr><tr><td>2025-04-17</td><td>&quot;MNBU4562165&quot;</td><td>&quot;MAERSK&quot;</td><td>&quot;&quot;</td></tr><tr><td>2025-04-25</td><td>&quot;MNBU4562165&quot;</td><td>&quot;MAERSK&quot;</td><td>&quot;&quot;</td></tr><tr><td>2025-04-15</td><td>&quot;SUDU6175495&quot;</td><td>&quot;MAERSK&quot;</td><td>&quot;MAERSKLINE&quot;</td></tr><tr><td>2025-04-15</td><td>&quot;SUDU6175495&quot;</td><td>&quot;MAERSK&quot;</td><td>&quot;INVALID&quot;</td></tr></tbody></table></div>"
      ],
      "text/plain": [
       "shape: (28, 4)\n",
       "┌────────────┬──────────────────┬───────────────┬────────────┐\n",
       "│ date       ┆ container_number ┆ shipping_line ┆ Invoice To │\n",
       "│ ---        ┆ ---              ┆ ---           ┆ ---        │\n",
       "│ date       ┆ str              ┆ str           ┆ str        │\n",
       "╞════════════╪══════════════════╪═══════════════╪════════════╡\n",
       "│ 2025-04-05 ┆ MMAU1004670      ┆ MAERSK        ┆ MAERSKLINE │\n",
       "│ 2025-04-30 ┆ MMAU1004670      ┆ MAERSK        ┆            │\n",
       "│ 2025-04-15 ┆ MNBU0482570      ┆ MAERSK        ┆ MAERSKLINE │\n",
       "│ 2025-04-22 ┆ MNBU0482570      ┆ MAERSK        ┆            │\n",
       "│ 2025-04-26 ┆ MNBU0482713      ┆ MAERSK        ┆            │\n",
       "│ …          ┆ …                ┆ …             ┆ …          │\n",
       "│ 2025-04-29 ┆ MNBU4179310      ┆ MAERSK        ┆            │\n",
       "│ 2025-04-17 ┆ MNBU4562165      ┆ MAERSK        ┆            │\n",
       "│ 2025-04-25 ┆ MNBU4562165      ┆ MAERSK        ┆            │\n",
       "│ 2025-04-15 ┆ SUDU6175495      ┆ MAERSK        ┆ MAERSKLINE │\n",
       "│ 2025-04-15 ┆ SUDU6175495      ┆ MAERSK        ┆ INVALID    │\n",
       "└────────────┴──────────────────┴───────────────┴────────────┘"
      ]
     },
     "execution_count": 9,
     "metadata": {},
     "output_type": "execute_result"
    }
   ],
   "source": [
    "washing_april.filter(pl.col(\"container_number\").is_duplicated()).sort(by=\"container_number\")"
   ]
  },
  {
   "cell_type": "code",
   "execution_count": 2,
   "metadata": {},
   "outputs": [],
   "source": [
    "maersk_april = PTI.select(\n",
    "    pl.col(\"Date Plugin\")\n",
    "    .str.to_date(format=\"%d/%m/%Y\")\n",
    "    .dt.combine(pl.col(\"Time Plugin\").str.to_time(format=\"%H:%M:%S\"))\n",
    "    .alias(\"date_plug\"),\n",
    "    pl.col(\"Container Number\").cast(pl.Utf8).alias(\"container_number\"),\n",
    "    pl.col(\"Set Point\").alias(\"set_point\"),\n",
    "    pl.col(\"Shipping Line\").alias(\"line\"),\n",
    "    pl.col(\"Unplugged Date\")\n",
    "    .str.to_datetime(format=\"%d/%m/%Y %H:%M\", strict=False)\n",
    "    .alias(\"date_unplug\"),\n",
    "    pl.col(\"Status\"),\n",
    ").filter(pl.col(\"date_plug\").dt.month().eq(4).and_(\n",
    "    pl.col(\"line\").eq(\"MAERSK\")\n",
    ")).with_columns(\n",
    "    hours = (pl.col(\"date_unplug\") - pl.col(\"date_plug\")).dt.total_seconds() / 3600\n",
    ").collect()"
   ]
  },
  {
   "cell_type": "code",
   "execution_count": 4,
   "metadata": {},
   "outputs": [
    {
     "data": {
      "text/html": [
       "<div><style>\n",
       ".dataframe > thead > tr,\n",
       ".dataframe > tbody > tr {\n",
       "  text-align: right;\n",
       "  white-space: pre-wrap;\n",
       "}\n",
       "</style>\n",
       "<small>shape: (6, 7)</small><table border=\"1\" class=\"dataframe\"><thead><tr><th>date_plug</th><th>container_number</th><th>set_point</th><th>line</th><th>date_unplug</th><th>Status</th><th>hours</th></tr><tr><td>datetime[μs]</td><td>str</td><td>i64</td><td>str</td><td>datetime[μs]</td><td>str</td><td>f64</td></tr></thead><tbody><tr><td>2025-04-11 16:01:00</td><td>&quot;MNBU3672492&quot;</td><td>-25</td><td>&quot;MAERSK&quot;</td><td>null</td><td>&quot;&quot;</td><td>null</td></tr><tr><td>2025-04-16 09:39:00</td><td>&quot;MNBU4103000&quot;</td><td>-25</td><td>&quot;MAERSK&quot;</td><td>null</td><td>&quot;&quot;</td><td>null</td></tr><tr><td>2025-04-16 09:43:00</td><td>&quot;MNBU4103000&quot;</td><td>-25</td><td>&quot;MAERSK&quot;</td><td>null</td><td>&quot;&quot;</td><td>null</td></tr><tr><td>2025-04-25 16:54:00</td><td>&quot;MNBU3083363&quot;</td><td>-25</td><td>&quot;MAERSK&quot;</td><td>null</td><td>&quot;&quot;</td><td>null</td></tr><tr><td>2025-04-28 08:33:00</td><td>&quot;MNBU3134060&quot;</td><td>-25</td><td>&quot;MAERSK&quot;</td><td>null</td><td>&quot;&quot;</td><td>null</td></tr><tr><td>2025-04-28 08:33:00</td><td>&quot;MNBU4179310&quot;</td><td>-25</td><td>&quot;MAERSK&quot;</td><td>null</td><td>&quot;&quot;</td><td>null</td></tr></tbody></table></div>"
      ],
      "text/plain": [
       "shape: (6, 7)\n",
       "┌─────────────────────┬──────────────────┬───────────┬────────┬──────────────┬────────┬───────┐\n",
       "│ date_plug           ┆ container_number ┆ set_point ┆ line   ┆ date_unplug  ┆ Status ┆ hours │\n",
       "│ ---                 ┆ ---              ┆ ---       ┆ ---    ┆ ---          ┆ ---    ┆ ---   │\n",
       "│ datetime[μs]        ┆ str              ┆ i64       ┆ str    ┆ datetime[μs] ┆ str    ┆ f64   │\n",
       "╞═════════════════════╪══════════════════╪═══════════╪════════╪══════════════╪════════╪═══════╡\n",
       "│ 2025-04-11 16:01:00 ┆ MNBU3672492      ┆ -25       ┆ MAERSK ┆ null         ┆        ┆ null  │\n",
       "│ 2025-04-16 09:39:00 ┆ MNBU4103000      ┆ -25       ┆ MAERSK ┆ null         ┆        ┆ null  │\n",
       "│ 2025-04-16 09:43:00 ┆ MNBU4103000      ┆ -25       ┆ MAERSK ┆ null         ┆        ┆ null  │\n",
       "│ 2025-04-25 16:54:00 ┆ MNBU3083363      ┆ -25       ┆ MAERSK ┆ null         ┆        ┆ null  │\n",
       "│ 2025-04-28 08:33:00 ┆ MNBU3134060      ┆ -25       ┆ MAERSK ┆ null         ┆        ┆ null  │\n",
       "│ 2025-04-28 08:33:00 ┆ MNBU4179310      ┆ -25       ┆ MAERSK ┆ null         ┆        ┆ null  │\n",
       "└─────────────────────┴──────────────────┴───────────┴────────┴──────────────┴────────┴───────┘"
      ]
     },
     "execution_count": 4,
     "metadata": {},
     "output_type": "execute_result"
    }
   ],
   "source": [
    "maersk_april.filter(pl.col(\"date_unplug\").is_null())"
   ]
  },
  {
   "cell_type": "code",
   "execution_count": 5,
   "metadata": {},
   "outputs": [
    {
     "data": {
      "text/html": [
       "<div><style>\n",
       ".dataframe > thead > tr,\n",
       ".dataframe > tbody > tr {\n",
       "  text-align: right;\n",
       "  white-space: pre-wrap;\n",
       "}\n",
       "</style>\n",
       "<small>shape: (1, 7)</small><table border=\"1\" class=\"dataframe\"><thead><tr><th>date_plug</th><th>container_number</th><th>set_point</th><th>line</th><th>date_unplug</th><th>Status</th><th>hours</th></tr><tr><td>datetime[μs]</td><td>str</td><td>i64</td><td>str</td><td>datetime[μs]</td><td>str</td><td>f64</td></tr></thead><tbody><tr><td>2025-04-18 19:01:00</td><td>&quot;MNBU3613170&quot;</td><td>-25</td><td>&quot;MAERSK&quot;</td><td>2025-04-18 08:04:00</td><td>&quot;PASSED&quot;</td><td>-10.95</td></tr></tbody></table></div>"
      ],
      "text/plain": [
       "shape: (1, 7)\n",
       "┌──────────────┬──────────────────┬───────────┬────────┬─────────────────────┬────────┬────────┐\n",
       "│ date_plug    ┆ container_number ┆ set_point ┆ line   ┆ date_unplug         ┆ Status ┆ hours  │\n",
       "│ ---          ┆ ---              ┆ ---       ┆ ---    ┆ ---                 ┆ ---    ┆ ---    │\n",
       "│ datetime[μs] ┆ str              ┆ i64       ┆ str    ┆ datetime[μs]        ┆ str    ┆ f64    │\n",
       "╞══════════════╪══════════════════╪═══════════╪════════╪═════════════════════╪════════╪════════╡\n",
       "│ 2025-04-18   ┆ MNBU3613170      ┆ -25       ┆ MAERSK ┆ 2025-04-18 08:04:00 ┆ PASSED ┆ -10.95 │\n",
       "│ 19:01:00     ┆                  ┆           ┆        ┆                     ┆        ┆        │\n",
       "└──────────────┴──────────────────┴───────────┴────────┴─────────────────────┴────────┴────────┘"
      ]
     },
     "execution_count": 5,
     "metadata": {},
     "output_type": "execute_result"
    }
   ],
   "source": [
    "maersk_april.filter(pl.col(\"hours\").lt(0))"
   ]
  },
  {
   "cell_type": "code",
   "execution_count": 11,
   "metadata": {},
   "outputs": [
    {
     "data": {
      "text/html": [
       "<div><style>\n",
       ".dataframe > thead > tr,\n",
       ".dataframe > tbody > tr {\n",
       "  text-align: right;\n",
       "  white-space: pre-wrap;\n",
       "}\n",
       "</style>\n",
       "<small>shape: (10, 7)</small><table border=\"1\" class=\"dataframe\"><thead><tr><th>date_plug</th><th>container_number</th><th>set_point</th><th>line</th><th>date_unplug</th><th>Status</th><th>hours</th></tr><tr><td>datetime[μs]</td><td>str</td><td>i64</td><td>str</td><td>datetime[μs]</td><td>str</td><td>f64</td></tr></thead><tbody><tr><td>2025-04-06 04:00:00</td><td>&quot;MSFU0014439&quot;</td><td>-60</td><td>&quot;MAERSK&quot;</td><td>2025-04-07 11:29:00</td><td>&quot;PASSED&quot;</td><td>31.483333</td></tr><tr><td>2025-04-18 19:30:00</td><td>&quot;MNBU4041450&quot;</td><td>-25</td><td>&quot;MAERSK&quot;</td><td>2025-04-20 10:12:00</td><td>&quot;FAILED&quot;</td><td>38.7</td></tr><tr><td>2025-04-10 18:21:00</td><td>&quot;MNBU3672492&quot;</td><td>-25</td><td>&quot;MAERSK&quot;</td><td>2025-04-12 10:20:00</td><td>&quot;PASSED&quot;</td><td>39.983333</td></tr><tr><td>2025-04-10 18:21:00</td><td>&quot;MNBU9151465&quot;</td><td>-25</td><td>&quot;MAERSK&quot;</td><td>2025-04-12 10:20:00</td><td>&quot;FAILED&quot;</td><td>39.983333</td></tr><tr><td>2025-04-07 16:32:00</td><td>&quot;MNBU3069112&quot;</td><td>-25</td><td>&quot;MAERSK&quot;</td><td>2025-04-09 09:08:00</td><td>&quot;PASSED&quot;</td><td>40.6</td></tr><tr><td>2025-04-26 08:13:00</td><td>&quot;MNBU4179310&quot;</td><td>-25</td><td>&quot;MAERSK&quot;</td><td>2025-04-28 15:55:00</td><td>&quot;FAILED&quot;</td><td>55.7</td></tr><tr><td>2025-04-14 07:58:00</td><td>&quot;MNBU9151465&quot;</td><td>-25</td><td>&quot;MAERSK&quot;</td><td>2025-04-16 16:38:00</td><td>&quot;PASSED&quot;</td><td>56.666667</td></tr><tr><td>2025-04-11 16:01:00</td><td>&quot;MNBU9151465&quot;</td><td>-25</td><td>&quot;MAERSK&quot;</td><td>2025-04-14 16:11:00</td><td>&quot;FAILED&quot;</td><td>72.166667</td></tr><tr><td>2025-04-25 10:00:00</td><td>&quot;MNBU3134060&quot;</td><td>-25</td><td>&quot;MAERSK&quot;</td><td>2025-04-28 15:55:00</td><td>&quot;FAILED&quot;</td><td>77.916667</td></tr><tr><td>2025-04-16 09:39:00</td><td>&quot;MNBU9151465&quot;</td><td>-25</td><td>&quot;MAERSK&quot;</td><td>2025-05-05 08:03:00</td><td>&quot;PASSED&quot;</td><td>454.4</td></tr></tbody></table></div>"
      ],
      "text/plain": [
       "shape: (10, 7)\n",
       "┌──────────────┬──────────────────┬───────────┬────────┬──────────────────────┬────────┬───────────┐\n",
       "│ date_plug    ┆ container_number ┆ set_point ┆ line   ┆ date_unplug          ┆ Status ┆ hours     │\n",
       "│ ---          ┆ ---              ┆ ---       ┆ ---    ┆ ---                  ┆ ---    ┆ ---       │\n",
       "│ datetime[μs] ┆ str              ┆ i64       ┆ str    ┆ datetime[μs]         ┆ str    ┆ f64       │\n",
       "╞══════════════╪══════════════════╪═══════════╪════════╪══════════════════════╪════════╪═══════════╡\n",
       "│ 2025-04-06   ┆ MSFU0014439      ┆ -60       ┆ MAERSK ┆ 2025-04-07 11:29:00  ┆ PASSED ┆ 31.483333 │\n",
       "│ 04:00:00     ┆                  ┆           ┆        ┆                      ┆        ┆           │\n",
       "│ 2025-04-18   ┆ MNBU4041450      ┆ -25       ┆ MAERSK ┆ 2025-04-20 10:12:00  ┆ FAILED ┆ 38.7      │\n",
       "│ 19:30:00     ┆                  ┆           ┆        ┆                      ┆        ┆           │\n",
       "│ 2025-04-10   ┆ MNBU3672492      ┆ -25       ┆ MAERSK ┆ 2025-04-12 10:20:00  ┆ PASSED ┆ 39.983333 │\n",
       "│ 18:21:00     ┆                  ┆           ┆        ┆                      ┆        ┆           │\n",
       "│ 2025-04-10   ┆ MNBU9151465      ┆ -25       ┆ MAERSK ┆ 2025-04-12 10:20:00  ┆ FAILED ┆ 39.983333 │\n",
       "│ 18:21:00     ┆                  ┆           ┆        ┆                      ┆        ┆           │\n",
       "│ 2025-04-07   ┆ MNBU3069112      ┆ -25       ┆ MAERSK ┆ 2025-04-09 09:08:00  ┆ PASSED ┆ 40.6      │\n",
       "│ 16:32:00     ┆                  ┆           ┆        ┆                      ┆        ┆           │\n",
       "│ 2025-04-26   ┆ MNBU4179310      ┆ -25       ┆ MAERSK ┆ 2025-04-28 15:55:00  ┆ FAILED ┆ 55.7      │\n",
       "│ 08:13:00     ┆                  ┆           ┆        ┆                      ┆        ┆           │\n",
       "│ 2025-04-14   ┆ MNBU9151465      ┆ -25       ┆ MAERSK ┆ 2025-04-16 16:38:00  ┆ PASSED ┆ 56.666667 │\n",
       "│ 07:58:00     ┆                  ┆           ┆        ┆                      ┆        ┆           │\n",
       "│ 2025-04-11   ┆ MNBU9151465      ┆ -25       ┆ MAERSK ┆ 2025-04-14 16:11:00  ┆ FAILED ┆ 72.166667 │\n",
       "│ 16:01:00     ┆                  ┆           ┆        ┆                      ┆        ┆           │\n",
       "│ 2025-04-25   ┆ MNBU3134060      ┆ -25       ┆ MAERSK ┆ 2025-04-28 15:55:00  ┆ FAILED ┆ 77.916667 │\n",
       "│ 10:00:00     ┆                  ┆           ┆        ┆                      ┆        ┆           │\n",
       "│ 2025-04-16   ┆ MNBU9151465      ┆ -25       ┆ MAERSK ┆ 2025-05-05 08:03:00  ┆ PASSED ┆ 454.4     │\n",
       "│ 09:39:00     ┆                  ┆           ┆        ┆                      ┆        ┆           │\n",
       "└──────────────┴──────────────────┴───────────┴────────┴──────────────────────┴────────┴───────────┘"
      ]
     },
     "execution_count": 11,
     "metadata": {},
     "output_type": "execute_result"
    }
   ],
   "source": [
    "maersk_april.filter(pl.col(\"hours\").gt(30)).sort(by=\"hours\")"
   ]
  },
  {
   "cell_type": "code",
   "execution_count": 13,
   "metadata": {},
   "outputs": [
    {
     "data": {
      "text/html": [
       "<div><style>\n",
       ".dataframe > thead > tr,\n",
       ".dataframe > tbody > tr {\n",
       "  text-align: right;\n",
       "  white-space: pre-wrap;\n",
       "}\n",
       "</style>\n",
       "<small>shape: (2, 7)</small><table border=\"1\" class=\"dataframe\"><thead><tr><th>date_plug</th><th>container_number</th><th>set_point</th><th>line</th><th>date_unplug</th><th>Status</th><th>hours</th></tr><tr><td>datetime[μs]</td><td>str</td><td>i64</td><td>str</td><td>datetime[μs]</td><td>str</td><td>f64</td></tr></thead><tbody><tr><td>2025-04-06 04:07:00</td><td>&quot;MSFU0012776&quot;</td><td>-60</td><td>&quot;MAERSK&quot;</td><td>2025-04-07 08:01:00</td><td>&quot;PASSED&quot;</td><td>27.9</td></tr><tr><td>2025-04-06 04:00:00</td><td>&quot;MSFU0014439&quot;</td><td>-60</td><td>&quot;MAERSK&quot;</td><td>2025-04-07 11:29:00</td><td>&quot;PASSED&quot;</td><td>31.483333</td></tr></tbody></table></div>"
      ],
      "text/plain": [
       "shape: (2, 7)\n",
       "┌──────────────┬──────────────────┬───────────┬────────┬──────────────────────┬────────┬───────────┐\n",
       "│ date_plug    ┆ container_number ┆ set_point ┆ line   ┆ date_unplug          ┆ Status ┆ hours     │\n",
       "│ ---          ┆ ---              ┆ ---       ┆ ---    ┆ ---                  ┆ ---    ┆ ---       │\n",
       "│ datetime[μs] ┆ str              ┆ i64       ┆ str    ┆ datetime[μs]         ┆ str    ┆ f64       │\n",
       "╞══════════════╪══════════════════╪═══════════╪════════╪══════════════════════╪════════╪═══════════╡\n",
       "│ 2025-04-06   ┆ MSFU0012776      ┆ -60       ┆ MAERSK ┆ 2025-04-07 08:01:00  ┆ PASSED ┆ 27.9      │\n",
       "│ 04:07:00     ┆                  ┆           ┆        ┆                      ┆        ┆           │\n",
       "│ 2025-04-06   ┆ MSFU0014439      ┆ -60       ┆ MAERSK ┆ 2025-04-07 11:29:00  ┆ PASSED ┆ 31.483333 │\n",
       "│ 04:00:00     ┆                  ┆           ┆        ┆                      ┆        ┆           │\n",
       "└──────────────┴──────────────────┴───────────┴────────┴──────────────────────┴────────┴───────────┘"
      ]
     },
     "execution_count": 13,
     "metadata": {},
     "output_type": "execute_result"
    }
   ],
   "source": [
    "maersk_april.filter(pl.col(\"date_plug\").dt.hour().lt(7))"
   ]
  },
  {
   "cell_type": "code",
   "execution_count": 18,
   "metadata": {},
   "outputs": [
    {
     "data": {
      "text/html": [
       "<div><style>\n",
       ".dataframe > thead > tr,\n",
       ".dataframe > tbody > tr {\n",
       "  text-align: right;\n",
       "  white-space: pre-wrap;\n",
       "}\n",
       "</style>\n",
       "<small>shape: (0, 7)</small><table border=\"1\" class=\"dataframe\"><thead><tr><th>date_plug</th><th>container_number</th><th>set_point</th><th>line</th><th>date_unplug</th><th>Status</th><th>hours</th></tr><tr><td>datetime[μs]</td><td>str</td><td>i64</td><td>str</td><td>datetime[μs]</td><td>str</td><td>f64</td></tr></thead><tbody></tbody></table></div>"
      ],
      "text/plain": [
       "shape: (0, 7)\n",
       "┌──────────────┬──────────────────┬───────────┬──────┬──────────────┬────────┬───────┐\n",
       "│ date_plug    ┆ container_number ┆ set_point ┆ line ┆ date_unplug  ┆ Status ┆ hours │\n",
       "│ ---          ┆ ---              ┆ ---       ┆ ---  ┆ ---          ┆ ---    ┆ ---   │\n",
       "│ datetime[μs] ┆ str              ┆ i64       ┆ str  ┆ datetime[μs] ┆ str    ┆ f64   │\n",
       "╞══════════════╪══════════════════╪═══════════╪══════╪══════════════╪════════╪═══════╡\n",
       "└──────────────┴──────────────────┴───────────┴──────┴──────────────┴────────┴───────┘"
      ]
     },
     "execution_count": 18,
     "metadata": {},
     "output_type": "execute_result"
    }
   ],
   "source": [
    "maersk_april.filter(pl.col(\"date_plug\").dt.hour().gt(19))"
   ]
  },
  {
   "cell_type": "code",
   "execution_count": 6,
   "metadata": {},
   "outputs": [],
   "source": [
    "maersk_april.filter(pl.col(\"container_number\").is_duplicated()).sort(by=\"container_number\").write_clipboard()"
   ]
  },
  {
   "cell_type": "code",
   "execution_count": 1,
   "metadata": {},
   "outputs": [
    {
     "name": "stderr",
     "output_type": "stream",
     "text": [
      "sys:1: UserWarning: Sortedness of columns cannot be checked when 'by' groups provided\n"
     ]
    },
    {
     "data": {
      "text/html": [
       "<div><style>\n",
       ".dataframe > thead > tr,\n",
       ".dataframe > tbody > tr {\n",
       "  text-align: right;\n",
       "  white-space: pre-wrap;\n",
       "}\n",
       "</style>\n",
       "<small>shape: (29, 10)</small><table border=\"1\" class=\"dataframe\"><thead><tr><th>Date</th><th>start_time</th><th>destination</th><th>plugged_status</th><th>storage_type</th><th>end_time</th><th>overtime</th><th>total_tonnage</th><th>Price</th><th>invoice_value</th></tr><tr><td>date</td><td>time</td><td>str</td><td>enum</td><td>enum</td><td>time</td><td>str</td><td>f64</td><td>f64</td><td>f64</td></tr></thead><tbody><tr><td>2025-02-12</td><td>08:25:00</td><td>&quot;SUDU8124408&quot;</td><td>&quot;Full&quot;</td><td>&quot;Brine&quot;</td><td>10:04:00</td><td>&quot;normal hours&quot;</td><td>26.94</td><td>25.5</td><td>686.97</td></tr><tr><td>2025-02-12</td><td>09:52:00</td><td>&quot;MNBU3009601&quot;</td><td>&quot;Partial&quot;</td><td>&quot;Brine&quot;</td><td>14:19:00</td><td>&quot;normal hours&quot;</td><td>22.69</td><td>25.5</td><td>578.595</td></tr><tr><td>2025-02-12</td><td>10:13:00</td><td>&quot;TLLU1164052&quot;</td><td>&quot;Full&quot;</td><td>&quot;Brine&quot;</td><td>11:18:00</td><td>&quot;normal hours&quot;</td><td>27.0</td><td>25.5</td><td>688.5</td></tr><tr><td>2025-02-12</td><td>11:33:00</td><td>&quot;MNBU3661013&quot;</td><td>&quot;Full&quot;</td><td>&quot;Brine&quot;</td><td>12:18:00</td><td>&quot;normal hours&quot;</td><td>26.97</td><td>25.5</td><td>687.735</td></tr><tr><td>2025-02-12</td><td>12:02:00</td><td>&quot;MNBU3681339&quot;</td><td>&quot;Full&quot;</td><td>&quot;Brine&quot;</td><td>13:30:00</td><td>&quot;normal hours&quot;</td><td>27.03</td><td>25.5</td><td>689.265</td></tr><tr><td>&hellip;</td><td>&hellip;</td><td>&hellip;</td><td>&hellip;</td><td>&hellip;</td><td>&hellip;</td><td>&hellip;</td><td>&hellip;</td><td>&hellip;</td><td>&hellip;</td></tr><tr><td>2025-02-14</td><td>09:57:00</td><td>&quot;MNBU9160277&quot;</td><td>&quot;Completed&quot;</td><td>&quot;Brine&quot;</td><td>13:49:00</td><td>&quot;normal hours&quot;</td><td>12.54</td><td>25.5</td><td>319.77</td></tr><tr><td>2025-02-14</td><td>09:57:00</td><td>&quot;SUDU6259554&quot;</td><td>&quot;Full&quot;</td><td>&quot;Brine&quot;</td><td>11:09:00</td><td>&quot;normal hours&quot;</td><td>26.64</td><td>25.5</td><td>679.32</td></tr><tr><td>2025-02-14</td><td>11:24:00</td><td>&quot;MNBU3779942&quot;</td><td>&quot;Full&quot;</td><td>&quot;Brine&quot;</td><td>12:13:00</td><td>&quot;normal hours&quot;</td><td>26.87</td><td>25.5</td><td>685.185</td></tr><tr><td>2025-02-14</td><td>16:20:00</td><td>&quot;MNBU0402940&quot;</td><td>&quot;Partial&quot;</td><td>&quot;Brine&quot;</td><td>16:57:00</td><td>&quot;normal hours&quot;</td><td>10.117</td><td>25.5</td><td>257.9835</td></tr><tr><td>2025-02-15</td><td>09:49:00</td><td>&quot;MNBU0402940&quot;</td><td>&quot;Completed&quot;</td><td>&quot;Brine&quot;</td><td>11:16:00</td><td>&quot;normal hours&quot;</td><td>16.9</td><td>25.5</td><td>430.95</td></tr></tbody></table></div>"
      ],
      "text/plain": [
       "shape: (29, 10)\n",
       "┌────────────┬────────────┬────────────┬───────────┬───┬───────────┬───────────┬───────┬───────────┐\n",
       "│ Date       ┆ start_time ┆ destinatio ┆ plugged_s ┆ … ┆ overtime  ┆ total_ton ┆ Price ┆ invoice_v │\n",
       "│ ---        ┆ ---        ┆ n          ┆ tatus     ┆   ┆ ---       ┆ nage      ┆ ---   ┆ alue      │\n",
       "│ date       ┆ time       ┆ ---        ┆ ---       ┆   ┆ str       ┆ ---       ┆ f64   ┆ ---       │\n",
       "│            ┆            ┆ str        ┆ enum      ┆   ┆           ┆ f64       ┆       ┆ f64       │\n",
       "╞════════════╪════════════╪════════════╪═══════════╪═══╪═══════════╪═══════════╪═══════╪═══════════╡\n",
       "│ 2025-02-12 ┆ 08:25:00   ┆ SUDU812440 ┆ Full      ┆ … ┆ normal    ┆ 26.94     ┆ 25.5  ┆ 686.97    │\n",
       "│            ┆            ┆ 8          ┆           ┆   ┆ hours     ┆           ┆       ┆           │\n",
       "│ 2025-02-12 ┆ 09:52:00   ┆ MNBU300960 ┆ Partial   ┆ … ┆ normal    ┆ 22.69     ┆ 25.5  ┆ 578.595   │\n",
       "│            ┆            ┆ 1          ┆           ┆   ┆ hours     ┆           ┆       ┆           │\n",
       "│ 2025-02-12 ┆ 10:13:00   ┆ TLLU116405 ┆ Full      ┆ … ┆ normal    ┆ 27.0      ┆ 25.5  ┆ 688.5     │\n",
       "│            ┆            ┆ 2          ┆           ┆   ┆ hours     ┆           ┆       ┆           │\n",
       "│ 2025-02-12 ┆ 11:33:00   ┆ MNBU366101 ┆ Full      ┆ … ┆ normal    ┆ 26.97     ┆ 25.5  ┆ 687.735   │\n",
       "│            ┆            ┆ 3          ┆           ┆   ┆ hours     ┆           ┆       ┆           │\n",
       "│ 2025-02-12 ┆ 12:02:00   ┆ MNBU368133 ┆ Full      ┆ … ┆ normal    ┆ 27.03     ┆ 25.5  ┆ 689.265   │\n",
       "│            ┆            ┆ 9          ┆           ┆   ┆ hours     ┆           ┆       ┆           │\n",
       "│ …          ┆ …          ┆ …          ┆ …         ┆ … ┆ …         ┆ …         ┆ …     ┆ …         │\n",
       "│ 2025-02-14 ┆ 09:57:00   ┆ MNBU916027 ┆ Completed ┆ … ┆ normal    ┆ 12.54     ┆ 25.5  ┆ 319.77    │\n",
       "│            ┆            ┆ 7          ┆           ┆   ┆ hours     ┆           ┆       ┆           │\n",
       "│ 2025-02-14 ┆ 09:57:00   ┆ SUDU625955 ┆ Full      ┆ … ┆ normal    ┆ 26.64     ┆ 25.5  ┆ 679.32    │\n",
       "│            ┆            ┆ 4          ┆           ┆   ┆ hours     ┆           ┆       ┆           │\n",
       "│ 2025-02-14 ┆ 11:24:00   ┆ MNBU377994 ┆ Full      ┆ … ┆ normal    ┆ 26.87     ┆ 25.5  ┆ 685.185   │\n",
       "│            ┆            ┆ 2          ┆           ┆   ┆ hours     ┆           ┆       ┆           │\n",
       "│ 2025-02-14 ┆ 16:20:00   ┆ MNBU040294 ┆ Partial   ┆ … ┆ normal    ┆ 10.117    ┆ 25.5  ┆ 257.9835  │\n",
       "│            ┆            ┆ 0          ┆           ┆   ┆ hours     ┆           ┆       ┆           │\n",
       "│ 2025-02-15 ┆ 09:49:00   ┆ MNBU040294 ┆ Completed ┆ … ┆ normal    ┆ 16.9      ┆ 25.5  ┆ 430.95    │\n",
       "│            ┆            ┆ 0          ┆           ┆   ┆ hours     ┆           ┆       ┆           │\n",
       "└────────────┴────────────┴────────────┴───────────┴───┴───────────┴───────────┴───────┴───────────┘"
      ]
     },
     "execution_count": 1,
     "metadata": {},
     "output_type": "execute_result"
    }
   ],
   "source": [
    "import polars as pl\n",
    "import pretty_errors\n",
    "from datetime import date\n",
    "\n",
    "from dataframe import netlist, stuffing\n",
    "# from data_source.make_dataset import load_gsheet_data\n",
    "# from data_source.sheet_ids import STUFFING_SHEET_ID,plugin_sheet\n",
    "\n",
    "pretty_errors.activate()\n",
    "\n",
    "vessel_name = \"TXORI ZURI\"\n",
    "start_date = date(2025, 2, 12)\n",
    "end_date = date(2025, 2, 15)\n",
    "\n",
    "\n",
    "wDATA = await netlist.oss()\n",
    "\n",
    "stuffingData = await stuffing.coa()\n",
    "\n",
    "wDATA.filter(\n",
    "    pl.col(\"vessel\").eq(pl.lit(vessel_name)),\n",
    "    pl.col(\"date\").is_between(start_date, end_date),\n",
    ").join(\n",
    "    stuffingData.with_columns(\n",
    "        container_number=pl.col(\"container_number\").cast(pl.Utf8)\n",
    "    ),\n",
    "    left_on=[\"date\", \"destination\"],\n",
    "    right_on=[\"date_plugged\", \"container_number\"],\n",
    "    how=\"left\",\n",
    ").select(\n",
    "    pl.col(\"date\").alias(\"Date\"),\n",
    "    pl.col(\"start_time\"),\n",
    "    pl.col(\"destination\"),\n",
    "    pl.col(\"plugged_status\"),\n",
    "    pl.col(\"storage_type\"),\n",
    "    pl.col(\"end_time\"),\n",
    "    pl.col(\"overtime\"),\n",
    "    pl.col(\"total_tonnage\"),\n",
    "    pl.col(\"Price\"),\n",
    "    pl.col(\"invoice_value\"),\n",
    ").collect()\n",
    "# wDATA.collect()"
   ]
  },
  {
   "cell_type": "code",
   "execution_count": 2,
   "metadata": {},
   "outputs": [
    {
     "data": {
      "text/html": [
       "<div><style>\n",
       ".dataframe > thead > tr,\n",
       ".dataframe > tbody > tr {\n",
       "  text-align: right;\n",
       "  white-space: pre-wrap;\n",
       "}\n",
       "</style>\n",
       "<small>shape: (29, 2)</small><table border=\"1\" class=\"dataframe\"><thead><tr><th>date_plugged</th><th>container_number</th></tr><tr><td>datetime[μs]</td><td>enum</td></tr></thead><tbody><tr><td>2025-02-12 16:10:00</td><td>&quot;MMAU1272939&quot;</td></tr><tr><td>2025-02-12 14:36:00</td><td>&quot;MNBU3009601&quot;</td></tr><tr><td>2025-02-12 15:05:00</td><td>&quot;MNBU3217626&quot;</td></tr><tr><td>2025-02-12 13:23:00</td><td>&quot;MNBU3661013&quot;</td></tr><tr><td>2025-02-12 13:53:00</td><td>&quot;MNBU3681339&quot;</td></tr><tr><td>&hellip;</td><td>&hellip;</td></tr><tr><td>2025-02-14 14:01:00</td><td>&quot;MNBU3779942&quot;</td></tr><tr><td>2025-02-14 14:22:00</td><td>&quot;MNBU9160277&quot;</td></tr><tr><td>2025-02-14 09:20:00</td><td>&quot;MWCU5261126&quot;</td></tr><tr><td>2025-02-14 12:17:00</td><td>&quot;SUDU6259554&quot;</td></tr><tr><td>2025-02-15 11:47:00</td><td>&quot;MNBU0402940&quot;</td></tr></tbody></table></div>"
      ],
      "text/plain": [
       "shape: (29, 2)\n",
       "┌─────────────────────┬──────────────────┐\n",
       "│ date_plugged        ┆ container_number │\n",
       "│ ---                 ┆ ---              │\n",
       "│ datetime[μs]        ┆ enum             │\n",
       "╞═════════════════════╪══════════════════╡\n",
       "│ 2025-02-12 16:10:00 ┆ MMAU1272939      │\n",
       "│ 2025-02-12 14:36:00 ┆ MNBU3009601      │\n",
       "│ 2025-02-12 15:05:00 ┆ MNBU3217626      │\n",
       "│ 2025-02-12 13:23:00 ┆ MNBU3661013      │\n",
       "│ 2025-02-12 13:53:00 ┆ MNBU3681339      │\n",
       "│ …                   ┆ …                │\n",
       "│ 2025-02-14 14:01:00 ┆ MNBU3779942      │\n",
       "│ 2025-02-14 14:22:00 ┆ MNBU9160277      │\n",
       "│ 2025-02-14 09:20:00 ┆ MWCU5261126      │\n",
       "│ 2025-02-14 12:17:00 ┆ SUDU6259554      │\n",
       "│ 2025-02-15 11:47:00 ┆ MNBU0402940      │\n",
       "└─────────────────────┴──────────────────┘"
      ]
     },
     "execution_count": 2,
     "metadata": {},
     "output_type": "execute_result"
    }
   ],
   "source": [
    "stuffingData.filter(\n",
    "    pl.col(\"vessel_client\").eq(pl.lit(vessel_name)),\n",
    "    pl.col(\"date_plugged\").is_between(start_date, end_date),\n",
    "    pl.col(\"operation_type\").str.contains(pl.lit(\"OSS\")),\n",
    ").with_columns(\n",
    "    date_plugged=pl.col(\"date_plugged\").dt.combine(pl.col(\"time_plugged\"))\n",
    ").select(pl.col(\"date_plugged\"), pl.col(\"container_number\")).collect()"
   ]
  },
  {
   "cell_type": "code",
   "execution_count": 3,
   "metadata": {},
   "outputs": [
    {
     "data": {
      "text/html": [
       "<div><style>\n",
       ".dataframe > thead > tr,\n",
       ".dataframe > tbody > tr {\n",
       "  text-align: right;\n",
       "  white-space: pre-wrap;\n",
       "}\n",
       "</style>\n",
       "<small>shape: (107, 3)</small><table border=\"1\" class=\"dataframe\"><thead><tr><th>Service</th><th>Price</th><th>Date</th></tr><tr><td>str</td><td>f64</td><td>str</td></tr></thead><tbody><tr><td>&quot;Additional Overtime&quot;</td><td>7.5</td><td>&quot;01/01/2023&quot;</td></tr><tr><td>&quot;Additional Overtime&quot;</td><td>8.0</td><td>&quot;01/03/2024&quot;</td></tr><tr><td>&quot;Basic OSS - Brine&quot;</td><td>16.0</td><td>&quot;01/01/2023&quot;</td></tr><tr><td>&quot;Basic OSS - Brine&quot;</td><td>18.25</td><td>&quot;01/03/2024&quot;</td></tr><tr><td>&quot;Basic OSS - Dry&quot;</td><td>30.5</td><td>&quot;01/01/2023&quot;</td></tr><tr><td>&hellip;</td><td>&hellip;</td><td>&hellip;</td></tr><tr><td>&quot;Loading to Container - Brine&quot;</td><td>22.5</td><td>&quot;01/01/2023&quot;</td></tr><tr><td>&quot;Loading to Container - Brine&quot;</td><td>20.5</td><td>&quot;01/03/2024&quot;</td></tr><tr><td>&quot;Loading to Container - Dry&quot;</td><td>23.5</td><td>&quot;01/01/2023&quot;</td></tr><tr><td>&quot;Loading to Container - Dry&quot;</td><td>20.5</td><td>&quot;01/03/2024&quot;</td></tr><tr><td>&quot;Container Stuffing with Forkli…</td><td>3.5</td><td>&quot;01/03/2024&quot;</td></tr></tbody></table></div>"
      ],
      "text/plain": [
       "shape: (107, 3)\n",
       "┌─────────────────────────────────┬───────┬────────────┐\n",
       "│ Service                         ┆ Price ┆ Date       │\n",
       "│ ---                             ┆ ---   ┆ ---        │\n",
       "│ str                             ┆ f64   ┆ str        │\n",
       "╞═════════════════════════════════╪═══════╪════════════╡\n",
       "│ Additional Overtime             ┆ 7.5   ┆ 01/01/2023 │\n",
       "│ Additional Overtime             ┆ 8.0   ┆ 01/03/2024 │\n",
       "│ Basic OSS - Brine               ┆ 16.0  ┆ 01/01/2023 │\n",
       "│ Basic OSS - Brine               ┆ 18.25 ┆ 01/03/2024 │\n",
       "│ Basic OSS - Dry                 ┆ 30.5  ┆ 01/01/2023 │\n",
       "│ …                               ┆ …     ┆ …          │\n",
       "│ Loading to Container - Brine    ┆ 22.5  ┆ 01/01/2023 │\n",
       "│ Loading to Container - Brine    ┆ 20.5  ┆ 01/03/2024 │\n",
       "│ Loading to Container - Dry      ┆ 23.5  ┆ 01/01/2023 │\n",
       "│ Loading to Container - Dry      ┆ 20.5  ┆ 01/03/2024 │\n",
       "│ Container Stuffing with Forkli… ┆ 3.5   ┆ 01/03/2024 │\n",
       "└─────────────────────────────────┴───────┴────────────┘"
      ]
     },
     "execution_count": 3,
     "metadata": {},
     "output_type": "execute_result"
    }
   ],
   "source": [
    "from data.price import get_price\n",
    "\n",
    "price = await get_price()\n",
    "\n",
    "price.collect()"
   ]
  },
  {
   "cell_type": "code",
   "execution_count": 4,
   "metadata": {},
   "outputs": [],
   "source": [
    "argi = \"/home/garry-mounac/Dropbox/Crewing and Tally Clerk/Registers/2025/02 FEBRUARY 2025/REGISTER - 12.02.25.xlsm\""
   ]
  },
  {
   "cell_type": "code",
   "execution_count": null,
   "metadata": {},
   "outputs": [
    {
     "data": {
      "text/html": [
       "<div><style>\n",
       ".dataframe > thead > tr,\n",
       ".dataframe > tbody > tr {\n",
       "  text-align: right;\n",
       "  white-space: pre-wrap;\n",
       "}\n",
       "</style>\n",
       "<small>shape: (2, 2)</small><table border=\"1\" class=\"dataframe\"><thead><tr><th>end_time</th><th>num</th></tr><tr><td>time</td><td>u32</td></tr></thead><tbody><tr><td>20:54:00</td><td>31</td></tr><tr><td>17:00:00</td><td>32</td></tr></tbody></table></div>"
      ],
      "text/plain": [
       "shape: (2, 2)\n",
       "┌──────────┬─────┐\n",
       "│ end_time ┆ num │\n",
       "│ ---      ┆ --- │\n",
       "│ time     ┆ u32 │\n",
       "╞══════════╪═════╡\n",
       "│ 20:54:00 ┆ 31  │\n",
       "│ 17:00:00 ┆ 32  │\n",
       "└──────────┴─────┘"
      ]
     },
     "execution_count": 5,
     "metadata": {},
     "output_type": "execute_result"
    }
   ],
   "source": [
    "pl.read_excel(argi, sheet_name=\"TXORI ARGI- 12.02.25\").filter(\n",
    "    pl.col(\"__UNNAMED__4\").is_not_null(), pl.col(\"__UNNAMED__0\").is_not_null()\n",
    ").select(\n",
    "    pl.col(\"__UNNAMED__0\").alias(\"num\"),\n",
    "    pl.col(\"__UNNAMED__5\")\n",
    "    .str.replace(\"1899-12-31 \", \"\")\n",
    "    .str.to_time(format=\"%H:%M:%S\")\n",
    "    .alias(\"end_time\"),\n",
    ").group_by(pl.col(\"end_time\")).agg(pl.len().alias(\"num\"))"
   ]
  },
  {
   "cell_type": "code",
   "execution_count": 6,
   "metadata": {},
   "outputs": [],
   "source": [
    "ops = \"/home/garry-mounac/Dropbox/! OPERATION SUPPORTING DOCUMENTATION/2025/2025 IPHS operation activity.xlsx\""
   ]
  },
  {
   "cell_type": "code",
   "execution_count": 7,
   "metadata": {},
   "outputs": [
    {
     "data": {
      "text/plain": [
       "['CCCS Front & Back / Extramen Sorting (12) + Well Support (10)']"
      ]
     },
     "execution_count": 7,
     "metadata": {},
     "output_type": "execute_result"
    }
   ],
   "source": [
    "pl.read_excel(ops, sheet_name=\"HANDLING ACTIVITY\").filter(\n",
    "    pl.col(\"DATE\").eq(date(2025, 2, 12)), pl.col(\"VESSEL NAME\").eq(pl.lit(\"TXORI ARGI\"))\n",
    ").select(pl.col(\"Comments\")).to_series().to_list()"
   ]
  },
  {
   "cell_type": "code",
   "execution_count": 2,
   "metadata": {},
   "outputs": [
    {
     "data": {
      "text/html": [
       "<i>naive plan: (run <b>LazyFrame.explain(optimized=True)</b> to see the optimized plan)</i>\n",
       "    <p></p>\n",
       "    <div> SELECT [col(\"day\").strict_cast(Enum(Some(local), Physical)), col(\"vessel_client\"), col(\"date\").str.strptime([String(raise)]), col(\"origin\"), col(\"destination\"), col(\"start_time\").str.strptime([String(raise)]), col(\"end_time\").str.strptime([String(raise)]), col(\"total_tonnage\"), col(\"overtime_tonnage\"), col(\"is_origin_empty\").strict_cast(Boolean), col(\"service\").alias(\"Service\"), col(\"invoiced\")] FROM<p></p>  FILTER [(col(\"day\").str.replace([String(), String(x)])) != (String(x))] FROM<p></p>    DF [\"day\", \"vessel_client\", \"date\", \"origin\", ...]; PROJECT */26 COLUMNS</div>"
      ],
      "text/plain": [
       "<LazyFrame at 0x7C9FC5A19940>"
      ]
     },
     "execution_count": 2,
     "metadata": {},
     "output_type": "execute_result"
    }
   ],
   "source": [
    "import polars as pl\n",
    "from dataframe import miscellaneous\n",
    "\n",
    "await miscellaneous._cross_stuffing()"
   ]
  }
 ],
 "metadata": {
  "kernelspec": {
   "display_name": ".venv",
   "language": "python",
   "name": "python3"
  },
  "language_info": {
   "codemirror_mode": {
    "name": "ipython",
    "version": 3
   },
   "file_extension": ".py",
   "mimetype": "text/x-python",
   "name": "python",
   "nbconvert_exporter": "python",
   "pygments_lexer": "ipython3",
   "version": "3.12.3"
  }
 },
 "nbformat": 4,
 "nbformat_minor": 2
}
