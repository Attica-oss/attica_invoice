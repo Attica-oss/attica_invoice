{
 "cells": [
  {
   "cell_type": "code",
   "execution_count": 1,
   "metadata": {},
   "outputs": [
    {
     "ename": "RuntimeError",
     "evalue": "cannot reuse already awaited coroutine",
     "output_type": "error",
     "traceback": [
      "\u001b[31m---------------------------------------------------------------------------\u001b[39m",
      "\u001b[31mRuntimeError\u001b[39m                              Traceback (most recent call last)",
      "\u001b[36mCell\u001b[39m\u001b[36m \u001b[39m\u001b[32mIn[1]\u001b[39m\u001b[32m, line 9\u001b[39m\n\u001b[32m      5\u001b[39m \u001b[38;5;28;01mfrom\u001b[39;00m\u001b[38;5;250m \u001b[39m\u001b[34;01mdataframe\u001b[39;00m\u001b[38;5;250m \u001b[39m\u001b[38;5;28;01mimport\u001b[39;00m emr\n\u001b[32m      7\u001b[39m pretty_errors.activate()\n\u001b[32m----> \u001b[39m\u001b[32m9\u001b[39m \u001b[38;5;28;01mawait\u001b[39;00m emr.washing()\n",
      "\u001b[36mFile \u001b[39m\u001b[32m~/attica_invoice/attica_invoice/dataframe/emr.py:232\u001b[39m, in \u001b[36mwashing\u001b[39m\u001b[34m()\u001b[39m\n\u001b[32m    230\u001b[39m df = \u001b[38;5;28;01mawait\u001b[39;00m load_gsheet_data(EMR_SHEET_ID, washing_sheet)\n\u001b[32m    231\u001b[39m container_enum = \u001b[38;5;28;01mawait\u001b[39;00m containers_enum()\n\u001b[32m--> \u001b[39m\u001b[32m232\u001b[39m price = \u001b[38;5;28;01mawait\u001b[39;00m price_list()\n\u001b[32m    233\u001b[39m washing_ = price.get(\u001b[33m\"\u001b[39m\u001b[33mwashing\u001b[39m\u001b[33m\"\u001b[39m)\n\u001b[32m    235\u001b[39m \u001b[38;5;28;01mreturn\u001b[39;00m df.select(\n\u001b[32m    236\u001b[39m     pl.col(\u001b[33m\"\u001b[39m\u001b[33mdate\u001b[39m\u001b[33m\"\u001b[39m),\n\u001b[32m    237\u001b[39m     pl.col(\u001b[33m\"\u001b[39m\u001b[33mcontainer_number\u001b[39m\u001b[33m\"\u001b[39m).cast(dtype=container_enum),\n\u001b[32m   (...)\u001b[39m\u001b[32m    262\u001b[39m     .cast(pl.Int64)\n\u001b[32m    263\u001b[39m )\n",
      "\u001b[36mFile \u001b[39m\u001b[32m~/attica_invoice/attica_invoice/dataframe/emr.py:20\u001b[39m, in \u001b[36mprice_list\u001b[39m\u001b[34m()\u001b[39m\n\u001b[32m     17\u001b[39m \u001b[38;5;28;01masync\u001b[39;00m \u001b[38;5;28;01mdef\u001b[39;00m\u001b[38;5;250m \u001b[39m\u001b[34mprice_list\u001b[39m() -> \u001b[38;5;28mdict\u001b[39m[\u001b[38;5;28mstr\u001b[39m, \u001b[38;5;28mfloat\u001b[39m]:\n\u001b[32m     18\u001b[39m \u001b[38;5;250m    \u001b[39m\u001b[33;03m\"\"\"price dictionary\"\"\"\u001b[39;00m\n\u001b[32m---> \u001b[39m\u001b[32m20\u001b[39m     price = \u001b[38;5;28;01mawait\u001b[39;00m get_price(\n\u001b[32m     21\u001b[39m         [\n\u001b[32m     22\u001b[39m             \u001b[33m\"\u001b[39m\u001b[33mPTI Magnum\u001b[39m\u001b[33m\"\u001b[39m,\n\u001b[32m     23\u001b[39m             \u001b[33m\"\u001b[39m\u001b[33mPlugin\u001b[39m\u001b[33m\"\u001b[39m,\n\u001b[32m     24\u001b[39m             \u001b[33m\"\u001b[39m\u001b[33mPTI S Freezer\u001b[39m\u001b[33m\"\u001b[39m,\n\u001b[32m     25\u001b[39m             \u001b[33m\"\u001b[39m\u001b[33mShifting\u001b[39m\u001b[33m\"\u001b[39m,\n\u001b[32m     26\u001b[39m             \u001b[33m\"\u001b[39m\u001b[33mPTI Standard\u001b[39m\u001b[33m\"\u001b[39m,\n\u001b[32m     27\u001b[39m             \u001b[33m\"\u001b[39m\u001b[33mContainer Cleaning\u001b[39m\u001b[33m\"\u001b[39m,\n\u001b[32m     28\u001b[39m         ]\n\u001b[32m     29\u001b[39m     )\n\u001b[32m     31\u001b[39m     magnum_pti_electricity = (\n\u001b[32m     32\u001b[39m         price.filter(pl.col(\u001b[33m\"\u001b[39m\u001b[33mService\u001b[39m\u001b[33m\"\u001b[39m).eq(pl.lit(\u001b[33m\"\u001b[39m\u001b[33mPTI Magnum\u001b[39m\u001b[33m\"\u001b[39m)))\n\u001b[32m     33\u001b[39m         .select(pl.col(\u001b[33m\"\u001b[39m\u001b[33mPrice\u001b[39m\u001b[33m\"\u001b[39m))\n\u001b[32m     34\u001b[39m         .collect()\n\u001b[32m     35\u001b[39m         .to_series()[\u001b[32m0\u001b[39m]\n\u001b[32m     36\u001b[39m     )\n\u001b[32m     38\u001b[39m     plugin = (\n\u001b[32m     39\u001b[39m         price.filter(pl.col(\u001b[33m\"\u001b[39m\u001b[33mService\u001b[39m\u001b[33m\"\u001b[39m).eq(pl.lit(\u001b[33m\"\u001b[39m\u001b[33mPlugin\u001b[39m\u001b[33m\"\u001b[39m)))\n\u001b[32m     40\u001b[39m         .select(pl.col(\u001b[33m\"\u001b[39m\u001b[33mPrice\u001b[39m\u001b[33m\"\u001b[39m))\n\u001b[32m     41\u001b[39m         .collect()\n\u001b[32m     42\u001b[39m         .to_series()[\u001b[32m0\u001b[39m]\n\u001b[32m     43\u001b[39m     )\n",
      "\u001b[36mFile \u001b[39m\u001b[32m~/attica_invoice/attica_invoice/data/price.py:47\u001b[39m, in \u001b[36mget_price\u001b[39m\u001b[34m(service)\u001b[39m\n\u001b[32m     44\u001b[39m \u001b[38;5;250m\u001b[39m\u001b[33;03m\"\"\"Gets the price\"\"\"\u001b[39;00m\n\u001b[32m     46\u001b[39m price_df = \u001b[38;5;28;01mawait\u001b[39;00m load_gsheet_data(VALIDATION_ID, PRICE_SHEET_NAME)\n\u001b[32m---> \u001b[39m\u001b[32m47\u001b[39m service_df = \u001b[38;5;28;01mawait\u001b[39;00m services()\n\u001b[32m     49\u001b[39m df = (\n\u001b[32m     50\u001b[39m     price_df.with_columns(\n\u001b[32m     51\u001b[39m         pl.col(\u001b[33m\"\u001b[39m\u001b[33mStartingDate\u001b[39m\u001b[33m\"\u001b[39m).alias(\u001b[33m\"\u001b[39m\u001b[33mDate\u001b[39m\u001b[33m\"\u001b[39m),\n\u001b[32m   (...)\u001b[39m\u001b[32m     61\u001b[39m     .select([\u001b[33m\"\u001b[39m\u001b[33mService\u001b[39m\u001b[33m\"\u001b[39m, \u001b[33m\"\u001b[39m\u001b[33mPrice\u001b[39m\u001b[33m\"\u001b[39m, \u001b[33m\"\u001b[39m\u001b[33mDate\u001b[39m\u001b[33m\"\u001b[39m])\n\u001b[32m     62\u001b[39m )\n\u001b[32m     63\u001b[39m \u001b[38;5;28;01mreturn\u001b[39;00m df\n",
      "\u001b[36mFile \u001b[39m\u001b[32m~/attica_invoice/attica_invoice/data/price.py:38\u001b[39m, in \u001b[36mservices\u001b[39m\u001b[34m()\u001b[39m\n\u001b[32m     36\u001b[39m \u001b[38;5;28;01masync\u001b[39;00m \u001b[38;5;28;01mdef\u001b[39;00m\u001b[38;5;250m \u001b[39m\u001b[34mservices\u001b[39m()->\u001b[38;5;28mlist\u001b[39m:\n\u001b[32m     37\u001b[39m \u001b[38;5;250m    \u001b[39m\u001b[33;03m\"\"\"Services\"\"\"\u001b[39;00m\n\u001b[32m---> \u001b[39m\u001b[32m38\u001b[39m     service_list = \u001b[38;5;28;01mawait\u001b[39;00m __load_unique_services(VALIDATION_ID, PRICE_SHEET_NAME)\n\u001b[32m     39\u001b[39m     \u001b[38;5;28;01mreturn\u001b[39;00m service_list\n",
      "\u001b[36mFile \u001b[39m\u001b[32m~/attica_invoice/attica_invoice/data/price.py:24\u001b[39m, in \u001b[36m__load_unique_services\u001b[39m\u001b[34m(sheet_id, sheet_name)\u001b[39m\n\u001b[32m     21\u001b[39m \u001b[38;5;28;01masync\u001b[39;00m \u001b[38;5;28;01mdef\u001b[39;00m\u001b[38;5;250m \u001b[39m\u001b[34m__load_unique_services\u001b[39m(sheet_id: \u001b[38;5;28mstr\u001b[39m, sheet_name: \u001b[38;5;28mstr\u001b[39m):\n\u001b[32m     22\u001b[39m \u001b[38;5;250m    \u001b[39m\u001b[33;03m\"\"\"Loads unique service name from a specific gsheet\"\"\"\u001b[39;00m\n\u001b[32m---> \u001b[39m\u001b[32m24\u001b[39m     df = \u001b[38;5;28;01mawait\u001b[39;00m load_gsheet_data(sheet_id, sheet_name)\n\u001b[32m     25\u001b[39m     \u001b[38;5;28;01mreturn\u001b[39;00m (\n\u001b[32m     26\u001b[39m         df.select(pl.col(\u001b[33m\"\u001b[39m\u001b[33mService\u001b[39m\u001b[33m\"\u001b[39m).unique())\n\u001b[32m     27\u001b[39m         .collect()\n\u001b[32m     28\u001b[39m         .to_series()\n\u001b[32m     29\u001b[39m         .to_list()\n\u001b[32m     30\u001b[39m     )\n",
      "\u001b[31mRuntimeError\u001b[39m: cannot reuse already awaited coroutine"
     ]
    }
   ],
   "source": [
    "import polars as pl\n",
    "import pretty_errors\n",
    "\n",
    "\n",
    "from dataframe import emr\n",
    "\n",
    "pretty_errors.activate()\n",
    "\n",
    "await emr.washing()"
   ]
  },
  {
   "cell_type": "code",
   "execution_count": null,
   "metadata": {},
   "outputs": [
    {
     "ename": "RuntimeError",
     "evalue": "cannot reuse already awaited coroutine",
     "output_type": "error",
     "traceback": [
      "\u001b[31m---------------------------------------------------------------------------\u001b[39m",
      "\u001b[31mRuntimeError\u001b[39m                              Traceback (most recent call last)",
      "\u001b[36mCell\u001b[39m\u001b[36m \u001b[39m\u001b[32mIn[30]\u001b[39m\u001b[32m, line 11\u001b[39m\n\u001b[32m      7\u001b[39m clear_data_cache()\n\u001b[32m      9\u001b[39m \u001b[38;5;66;03m# Then try to load the data\u001b[39;00m\n\u001b[32m---> \u001b[39m\u001b[32m11\u001b[39m \u001b[38;5;28;01mawait\u001b[39;00m load_gsheet_data(MASTER_ID, price_sheet)\n",
      "\u001b[31mRuntimeError\u001b[39m: cannot reuse already awaited coroutine"
     ]
    }
   ],
   "source": [
    "# First, make sure to clear the cache if you're experiencing issues\n",
    "from data_source.make_dataset import clear_data_cache\n",
    "from data_source.make_dataset import load_gsheet_data,load_gsheet_data_async_wrapper\n",
    "\n",
    "from data_source.sheet_ids import MASTER_ID, price_sheet\n",
    "\n",
    "clear_data_cache()\n",
    "\n",
    "# Then try to load the data\n",
    "\n",
    "await load_gsheet_data_async_wrapper(MASTER_ID, price_sheet)\n",
    "\n"
   ]
  },
  {
   "cell_type": "code",
   "execution_count": null,
   "metadata": {},
   "outputs": [],
   "source": []
  }
 ],
 "metadata": {
  "kernelspec": {
   "display_name": ".venv",
   "language": "python",
   "name": "python3"
  },
  "language_info": {
   "codemirror_mode": {
    "name": "ipython",
    "version": 3
   },
   "file_extension": ".py",
   "mimetype": "text/x-python",
   "name": "python",
   "nbconvert_exporter": "python",
   "pygments_lexer": "ipython3",
   "version": "3.12.3"
  }
 },
 "nbformat": 4,
 "nbformat_minor": 2
}
